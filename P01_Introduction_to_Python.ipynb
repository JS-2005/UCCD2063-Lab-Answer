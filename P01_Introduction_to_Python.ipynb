{
 "cells": [
  {
   "cell_type": "markdown",
   "metadata": {},
   "source": [
    "# P01: INTRODUCTION TO PYTHON\n",
    "1. [INTRODUCTION](#INTRODUCTION)\n",
    "  1. [Arithmetic operators](#Arithmetic-operators)\n",
    "  2. [Variables](#Variables)\n",
    "  3. [The Math Library](#The-Math-Library)\n",
    "  3. [Strings](#Strings)\n",
    "  4. [Getting help](#Getting-help)\n",
    "<br><br>\n",
    "2. [INPUT & OUTPUT](#INPUT-&-OUTPUT)\n",
    "  1. [Reading input from keyboard](#Reading-input-from-keyboard)\n",
    "  2. [Printing to the screen](#Printing-to-the-screen)\n",
    "  3. [Formatting string](#Formatting-string)\n",
    "  4. [Exercise 1](#Exercise-1)\n",
    "<br><br>\n",
    "3. [FUNCTIONS](#FUNCTIONS)\n",
    "  1. [Creating basic functions](#Creating-basic-functions)\n",
    "  2. [Returning more than one variable](#Returning-more-than-one-variable)\n",
    "  3. [Passing arguments to a function](#Passing-arguments-to-a-function)\n",
    "  4. [Setting default arguments](#Setting-default-arguments)\n",
    "  5. [Exercise 2](#Exercise-2)\n",
    "<br><br>\n",
    "4. [CONDITIONAL STATEMENT AND LOOP](#CONDITIONAL-STATEMENT-AND-LOOP)\n",
    "  1. [Conditional Statements](#Conditional-Statements)\n",
    "  2. [Loops](#Loops)\n",
    "  3. [Exercise 3](#Exercise-3)\n",
    "<br><br>\n",
    "5. [BUILT-IN DATA STRUCTURES](#BUILT-IN-DATA-STRUCTURES)\n",
    "  1. [List](#List)\n",
    "     1. [Reference vs Copy](#Reference-vs-Copy)\n",
    "     2. [Difference between == and is statement](#Difference-between-==-and-is-statement)\n",
    "     3. [Useful functions for processing list](#Useful-functions-for-processing-list)\n",
    "     2. [Exercise 4](#Exercise-4)\n",
    "  2. [Tuple](#Tuple)\n",
    "  4. [Set](#Set)\n",
    "     1. [Exercise 5](#Exercise-5)\n",
    "  5. [Dictionary](#Dictionary)\n",
    "     1. [Exercise 6](#Exercise-6)\n",
    "<br><br>\n",
    "6. [LIST-COMPREHENSION](#LIST-COMPREHENSION)\n",
    "  1. [Exercise 7](#Exercise-7)"
   ]
  },
  {
   "cell_type": "markdown",
   "metadata": {},
   "source": [
    "# INTRODUCTION\n",
    "\n",
    "The programming in this course will be written in Python, an interpreted, object-oriented language that shares some features with both Java and Scheme. This tutorial will walk through the primary syntactic constructions in Python, using short examples. \n",
    "\n",
    "## Arithmetic operators\n",
    "The Python interpreter can be used to evaluate expressions, for example simple arithmetic expressions."
   ]
  },
  {
   "cell_type": "code",
   "execution_count": 1,
   "metadata": {},
   "outputs": [
    {
     "data": {
      "text/plain": [
       "2"
      ]
     },
     "execution_count": 1,
     "metadata": {},
     "output_type": "execute_result"
    }
   ],
   "source": [
    "# This is a comment\n",
    "1 + 1   # addition operation"
   ]
  },
  {
   "cell_type": "code",
   "execution_count": 2,
   "metadata": {
    "scrolled": true
   },
   "outputs": [
    {
     "data": {
      "text/plain": [
       "6"
      ]
     },
     "execution_count": 2,
     "metadata": {},
     "output_type": "execute_result"
    }
   ],
   "source": [
    "2 * 3   # multiplication operaiton"
   ]
  },
  {
   "cell_type": "code",
   "execution_count": 3,
   "metadata": {},
   "outputs": [
    {
     "data": {
      "text/plain": [
       "3.6666666666666665"
      ]
     },
     "execution_count": 3,
     "metadata": {},
     "output_type": "execute_result"
    }
   ],
   "source": [
    "11 / 3  # Normal division"
   ]
  },
  {
   "cell_type": "code",
   "execution_count": 4,
   "metadata": {
    "scrolled": true
   },
   "outputs": [
    {
     "data": {
      "text/plain": [
       "3"
      ]
     },
     "execution_count": 4,
     "metadata": {},
     "output_type": "execute_result"
    }
   ],
   "source": [
    "11 // 3 # integer division"
   ]
  },
  {
   "cell_type": "code",
   "execution_count": 5,
   "metadata": {
    "scrolled": true
   },
   "outputs": [
    {
     "data": {
      "text/plain": [
       "2"
      ]
     },
     "execution_count": 5,
     "metadata": {},
     "output_type": "execute_result"
    }
   ],
   "source": [
    "11 % 3  # modulus operation"
   ]
  },
  {
   "cell_type": "code",
   "execution_count": 6,
   "metadata": {
    "scrolled": true
   },
   "outputs": [
    {
     "data": {
      "text/plain": [
       "8"
      ]
     },
     "execution_count": 6,
     "metadata": {},
     "output_type": "execute_result"
    }
   ],
   "source": [
    "2 ** 3  # exponent operation"
   ]
  },
  {
   "cell_type": "code",
   "execution_count": 7,
   "metadata": {},
   "outputs": [],
   "source": [
    "s = 12"
   ]
  },
  {
   "cell_type": "markdown",
   "metadata": {},
   "source": [
    "Boolean operators also exist in Python to manipulate the primitive True and False values."
   ]
  },
  {
   "cell_type": "code",
   "execution_count": 8,
   "metadata": {
    "scrolled": true
   },
   "outputs": [
    {
     "data": {
      "text/plain": [
       "False"
      ]
     },
     "execution_count": 8,
     "metadata": {},
     "output_type": "execute_result"
    }
   ],
   "source": [
    "1 == 0"
   ]
  },
  {
   "cell_type": "code",
   "execution_count": 9,
   "metadata": {
    "scrolled": true
   },
   "outputs": [
    {
     "data": {
      "text/plain": [
       "True"
      ]
     },
     "execution_count": 9,
     "metadata": {},
     "output_type": "execute_result"
    }
   ],
   "source": [
    "not (1 == 0)"
   ]
  },
  {
   "cell_type": "code",
   "execution_count": 10,
   "metadata": {
    "scrolled": true
   },
   "outputs": [
    {
     "data": {
      "text/plain": [
       "False"
      ]
     },
     "execution_count": 10,
     "metadata": {},
     "output_type": "execute_result"
    }
   ],
   "source": [
    "(2 == 2) and (2 == 3)"
   ]
  },
  {
   "cell_type": "code",
   "execution_count": 11,
   "metadata": {
    "scrolled": true
   },
   "outputs": [
    {
     "data": {
      "text/plain": [
       "True"
      ]
     },
     "execution_count": 11,
     "metadata": {},
     "output_type": "execute_result"
    }
   ],
   "source": [
    "(2 == 2) or (2 == 3)"
   ]
  },
  {
   "cell_type": "markdown",
   "metadata": {},
   "source": [
    "## Variables\n",
    "\n",
    "We can also store expressions into variables. \n",
    "\n",
    "The syntax is different from C++. Here are some important rules about declaring and using varaibles in Python:\n",
    "1. You *do not have to perform variable declaration*  \n",
    "2. The variable *must be created before it can be used* \n",
    "3. The *type will be automatically determined* by the interpreter based on the value assigned"
   ]
  },
  {
   "cell_type": "code",
   "execution_count": 12,
   "metadata": {
    "scrolled": true
   },
   "outputs": [
    {
     "name": "stdout",
     "output_type": "stream",
     "text": [
      "hello world\n",
      "<class 'str'>\n"
     ]
    }
   ],
   "source": [
    "s = 'hello world'   # defining a string variable. The type of s is assigned automatically based on the value assigned to it\n",
    "print(s)\n",
    "print(type(s))      "
   ]
  },
  {
   "cell_type": "markdown",
   "metadata": {},
   "source": [
    "In the above code, we use `type` to display the type of `s`. This is because different from C++, the type of a variable can be changed during execution."
   ]
  },
  {
   "cell_type": "code",
   "execution_count": 13,
   "metadata": {
    "scrolled": true
   },
   "outputs": [
    {
     "name": "stdout",
     "output_type": "stream",
     "text": [
      "7.3\n",
      "<class 'float'>\n"
     ]
    }
   ],
   "source": [
    "fval = 7.3   # this will create a floating point variable\n",
    "print(fval)\n",
    "print(type(fval))"
   ]
  },
  {
   "cell_type": "code",
   "execution_count": 14,
   "metadata": {
    "scrolled": true
   },
   "outputs": [
    {
     "name": "stdout",
     "output_type": "stream",
     "text": [
      "12\n",
      "<class 'int'>\n"
     ]
    }
   ],
   "source": [
    "ival = 12    # this will create an integer variable\n",
    "print(ival)\n",
    "print(type(ival))"
   ]
  },
  {
   "cell_type": "code",
   "execution_count": 15,
   "metadata": {
    "scrolled": true
   },
   "outputs": [
    {
     "name": "stdout",
     "output_type": "stream",
     "text": [
      "9.8\n"
     ]
    }
   ],
   "source": [
    "fval += 2.5  # operate on fval\n",
    "print(fval)  # you can print the content of a variable  using print command"
   ]
  },
  {
   "cell_type": "code",
   "execution_count": 16,
   "metadata": {
    "scrolled": true
   },
   "outputs": [
    {
     "data": {
      "text/plain": [
       "15"
      ]
     },
     "execution_count": 16,
     "metadata": {},
     "output_type": "execute_result"
    }
   ],
   "source": [
    "ival += 3    \n",
    "ival          # you can display the value of the LAST instruction in the cell by typing the variable directly without the print statement"
   ]
  },
  {
   "cell_type": "markdown",
   "metadata": {},
   "source": [
    "Remember that you cannot use a variable that you have not created. The following command will generate an error  because `var` has not been created"
   ]
  },
  {
   "cell_type": "code",
   "execution_count": 17,
   "metadata": {
    "scrolled": true
   },
   "outputs": [
    {
     "ename": "NameError",
     "evalue": "name 'var' is not defined",
     "output_type": "error",
     "traceback": [
      "\u001b[1;31m---------------------------------------------------------------------------\u001b[0m",
      "\u001b[1;31mNameError\u001b[0m                                 Traceback (most recent call last)",
      "Cell \u001b[1;32mIn[17], line 1\u001b[0m\n\u001b[1;32m----> 1\u001b[0m \u001b[38;5;28mprint\u001b[39m(var)\n",
      "\u001b[1;31mNameError\u001b[0m: name 'var' is not defined"
     ]
    }
   ],
   "source": [
    "print(var)   # we have not defined a variable called var! This will generate an error!"
   ]
  },
  {
   "cell_type": "markdown",
   "metadata": {},
   "source": [
    "## The Math Library\n",
    "The Math Unit enables you to use mathematical functions such as π (pi) and sine, cosine and tangent."
   ]
  },
  {
   "cell_type": "code",
   "execution_count": 18,
   "metadata": {},
   "outputs": [],
   "source": [
    "import math"
   ]
  },
  {
   "cell_type": "code",
   "execution_count": 19,
   "metadata": {},
   "outputs": [
    {
     "name": "stdout",
     "output_type": "stream",
     "text": [
      "The sin of 90 degrees is 1.0\n"
     ]
    }
   ],
   "source": [
    "print ('The sin of 90 degrees is', math.sin(math.pi/2))"
   ]
  },
  {
   "cell_type": "code",
   "execution_count": 20,
   "metadata": {},
   "outputs": [
    {
     "name": "stdout",
     "output_type": "stream",
     "text": [
      "log of 100 is  4.605170185988092\n"
     ]
    }
   ],
   "source": [
    "print ('log of 100 is ', math.log(100))"
   ]
  },
  {
   "cell_type": "markdown",
   "metadata": {},
   "source": [
    "## Strings\n",
    "\n",
    "Like Java, Python has a built in string type. \n",
    "* You can use either a single quote (`'`)  or double quote (`\"`) to define a string.\n",
    "* The  `+` operator is overloaded to do string concatenation on string values. "
   ]
  },
  {
   "cell_type": "code",
   "execution_count": 21,
   "metadata": {
    "scrolled": true
   },
   "outputs": [
    {
     "data": {
      "text/plain": [
       "'artificialintelligence'"
      ]
     },
     "execution_count": 21,
     "metadata": {},
     "output_type": "execute_result"
    }
   ],
   "source": [
    "'artificial' + \"intelligence\""
   ]
  },
  {
   "cell_type": "code",
   "execution_count": 22,
   "metadata": {
    "scrolled": true
   },
   "outputs": [],
   "source": [
    "s = 'Hello'"
   ]
  },
  {
   "cell_type": "code",
   "execution_count": 23,
   "metadata": {
    "scrolled": true
   },
   "outputs": [],
   "source": [
    "s = s + 'world'"
   ]
  },
  {
   "cell_type": "code",
   "execution_count": 24,
   "metadata": {
    "scrolled": true
   },
   "outputs": [
    {
     "data": {
      "text/plain": [
       "'Helloworld'"
      ]
     },
     "execution_count": 24,
     "metadata": {},
     "output_type": "execute_result"
    }
   ],
   "source": [
    "s             # displaying the string value"
   ]
  },
  {
   "cell_type": "code",
   "execution_count": 25,
   "metadata": {
    "scrolled": true
   },
   "outputs": [
    {
     "name": "stdout",
     "output_type": "stream",
     "text": [
      "Helloworld\n"
     ]
    }
   ],
   "source": [
    "print(s)      # printing the string"
   ]
  },
  {
   "attachments": {
    "listcmd.jpg": {
     "image/jpeg": "[encoded data removed]"
    }
   },
   "cell_type": "markdown",
   "metadata": {},
   "source": [
    "There are many built-in function that comes with a string variable.\n",
    "\n",
    "**Tips**: *To see the list of functions provided by a library or string, type the name and then press TAB. For example, if you type  `s.<TAB>` to see the list of built-in functions:\n",
    "\n",
    "![listcmd.jpg](attachment:listcmd.jpg)\n",
    "\n",
    "The following coded show how to use several built-in functions to manipulate a string."
   ]
  },
  {
   "cell_type": "code",
   "execution_count": 26,
   "metadata": {},
   "outputs": [
    {
     "data": {
      "text/plain": [
       "'help'"
      ]
     },
     "execution_count": 26,
     "metadata": {},
     "output_type": "execute_result"
    }
   ],
   "source": [
    "s = 'HELP'\n",
    "s.lower()"
   ]
  },
  {
   "cell_type": "code",
   "execution_count": 27,
   "metadata": {
    "scrolled": true
   },
   "outputs": [
    {
     "data": {
      "text/plain": [
       "'ARTIFICIAL'"
      ]
     },
     "execution_count": 27,
     "metadata": {},
     "output_type": "execute_result"
    }
   ],
   "source": [
    "'artificial'.upper()"
   ]
  },
  {
   "cell_type": "markdown",
   "metadata": {},
   "source": [
    "To get the length of a string, you can use the `len` command"
   ]
  },
  {
   "cell_type": "code",
   "execution_count": 28,
   "metadata": {
    "scrolled": true
   },
   "outputs": [
    {
     "data": {
      "text/plain": [
       "4"
      ]
     },
     "execution_count": 28,
     "metadata": {},
     "output_type": "execute_result"
    }
   ],
   "source": [
    "len('Help')"
   ]
  },
  {
   "cell_type": "markdown",
   "metadata": {},
   "source": [
    "## Getting help\n",
    "\n",
    "You can also use the command `help` to get help on certain command.  "
   ]
  },
  {
   "cell_type": "code",
   "execution_count": 29,
   "metadata": {},
   "outputs": [
    {
     "name": "stdout",
     "output_type": "stream",
     "text": [
      "Help on built-in function find:\n",
      "\n",
      "find(sub[, start[, end]], /) method of builtins.str instance\n",
      "    Return the lowest index in S where substring sub is found, such that sub is contained within S[start:end].\n",
      "\n",
      "    Optional arguments start and end are interpreted as in slice notation.\n",
      "    Return -1 on failure.\n",
      "\n"
     ]
    }
   ],
   "source": [
    "help(s.find)"
   ]
  },
  {
   "cell_type": "markdown",
   "metadata": {},
   "source": [
    "# INPUT & OUTPUT\n",
    "## Reading input from keyboard\n",
    "To get input from user, use the `input()` function. "
   ]
  },
  {
   "cell_type": "code",
   "execution_count": 30,
   "metadata": {
    "scrolled": true
   },
   "outputs": [
    {
     "name": "stdout",
     "output_type": "stream",
     "text": [
      "\n"
     ]
    }
   ],
   "source": [
    "name = input('Enter your name: ')\n",
    "print(name)"
   ]
  },
  {
   "cell_type": "markdown",
   "metadata": {},
   "source": [
    "The function returns the user's input as a string. You will need to convert the string to a numeric number using the `int` and `float` functions."
   ]
  },
  {
   "cell_type": "code",
   "execution_count": 31,
   "metadata": {
    "scrolled": true
   },
   "outputs": [
    {
     "ename": "ValueError",
     "evalue": "invalid literal for int() with base 10: ''",
     "output_type": "error",
     "traceback": [
      "\u001b[1;31m---------------------------------------------------------------------------\u001b[0m",
      "\u001b[1;31mValueError\u001b[0m                                Traceback (most recent call last)",
      "Cell \u001b[1;32mIn[31], line 1\u001b[0m\n\u001b[1;32m----> 1\u001b[0m ival \u001b[38;5;241m=\u001b[39m \u001b[38;5;28mint\u001b[39m(\u001b[38;5;28minput\u001b[39m(\u001b[38;5;124m'\u001b[39m\u001b[38;5;124mEnter an integer: \u001b[39m\u001b[38;5;124m'\u001b[39m))\n\u001b[0;32m      2\u001b[0m \u001b[38;5;28mprint\u001b[39m(ival\u001b[38;5;241m+\u001b[39m\u001b[38;5;241m13\u001b[39m)\n",
      "\u001b[1;31mValueError\u001b[0m: invalid literal for int() with base 10: ''"
     ]
    }
   ],
   "source": [
    "ival = int(input('Enter an integer: '))\n",
    "print(ival+13)"
   ]
  },
  {
   "cell_type": "code",
   "execution_count": 32,
   "metadata": {
    "scrolled": true
   },
   "outputs": [
    {
     "ename": "ValueError",
     "evalue": "could not convert string to float: ''",
     "output_type": "error",
     "traceback": [
      "\u001b[1;31m---------------------------------------------------------------------------\u001b[0m",
      "\u001b[1;31mValueError\u001b[0m                                Traceback (most recent call last)",
      "Cell \u001b[1;32mIn[32], line 1\u001b[0m\n\u001b[1;32m----> 1\u001b[0m fval \u001b[38;5;241m=\u001b[39m \u001b[38;5;28mfloat\u001b[39m(\u001b[38;5;28minput\u001b[39m(\u001b[38;5;124m'\u001b[39m\u001b[38;5;124mEnter a float: \u001b[39m\u001b[38;5;124m'\u001b[39m))\n\u001b[0;32m      2\u001b[0m \u001b[38;5;28mprint\u001b[39m (fval \u001b[38;5;241m+\u001b[39m \u001b[38;5;241m0.5\u001b[39m)\n",
      "\u001b[1;31mValueError\u001b[0m: could not convert string to float: ''"
     ]
    }
   ],
   "source": [
    "fval = float(input('Enter a float: '))\n",
    "print (fval + 0.5)"
   ]
  },
  {
   "cell_type": "markdown",
   "metadata": {},
   "source": [
    "## Printing to the screen\n",
    "\n",
    "The print function by default prints a space character between items and a newline at the end of the sentence"
   ]
  },
  {
   "cell_type": "code",
   "execution_count": 33,
   "metadata": {
    "scrolled": true
   },
   "outputs": [
    {
     "name": "stdout",
     "output_type": "stream",
     "text": [
      "There are 3 people in the meeting\n"
     ]
    }
   ],
   "source": [
    "a = 3\n",
    "print('There are', a, 'people in the meeting')"
   ]
  },
  {
   "cell_type": "markdown",
   "metadata": {},
   "source": [
    "You can *format* the output using the `str.format()` method where we use the curly braces `{} `as the placeholders.  \n",
    "\n",
    "In the following example, the first bracket `{}` would be replaced by `x` and the second by `y`. "
   ]
  },
  {
   "cell_type": "code",
   "execution_count": 34,
   "metadata": {},
   "outputs": [
    {
     "name": "stdout",
     "output_type": "stream",
     "text": [
      "The value of x is 5 and y is 10\n"
     ]
    }
   ],
   "source": [
    "x = 5; y = 10\n",
    "print('The value of x is {} and y is {}'.format(x,y))"
   ]
  },
  {
   "cell_type": "markdown",
   "metadata": {},
   "source": [
    "We can also specify *the order* in which it is printed by using numbers (tuple index)\n",
    "\n",
    "In the following example, the placeholder `{0}` would be replaced by the first parameter `bread` regardless of its position in the `print` statement. Similarly for the placeholder `{1}`. "
   ]
  },
  {
   "cell_type": "code",
   "execution_count": 35,
   "metadata": {},
   "outputs": [
    {
     "name": "stdout",
     "output_type": "stream",
     "text": [
      "I love bread and butter\n",
      "I love butter and bread\n"
     ]
    }
   ],
   "source": [
    "print('I love {0} and {1}'.format('bread', 'butter'))\n",
    "print('I love {1} and {0}'.format('bread', 'butter'))  # the order"
   ]
  },
  {
   "cell_type": "markdown",
   "metadata": {},
   "source": [
    "## Formatting string"
   ]
  },
  {
   "cell_type": "markdown",
   "metadata": {},
   "source": [
    "Formatting integer values:\n",
    "\n",
    "The placeholder `{:6d}` has the following meaning:\n",
    "* `d` specifies that the placedholder is to be replaced by an *integer*. \n",
    "* `6` specifies that a total of 6 characters would be allocated to print out the integer."
   ]
  },
  {
   "cell_type": "code",
   "execution_count": 36,
   "metadata": {},
   "outputs": [
    {
     "name": "stdout",
     "output_type": "stream",
     "text": [
      "Integer value is 23.\n",
      "Integer value is     23.\n"
     ]
    }
   ],
   "source": [
    "print('Integer value is {:d}.'.format(23))\n",
    "print('Integer value is {:6d}.'.format(23))"
   ]
  },
  {
   "cell_type": "markdown",
   "metadata": {},
   "source": [
    "Formatting float values:\n",
    "\n",
    "The placedholder `{:06f}` has the following meaning:\n",
    "* `f`  specifies that the placedholder is to be replaced by an *real number*. \n",
    "* `6` specifies that a total of 6 characters would be allocated to print out the number. \n",
    "* `.2` displays the real number up to two decimal places\n",
    "* `0` specifies that if the number of characters is less than number of allocated characters (6 in our case), the empty spaces should be replaced with 0."
   ]
  },
  {
   "cell_type": "code",
   "execution_count": 37,
   "metadata": {},
   "outputs": [
    {
     "name": "stdout",
     "output_type": "stream",
     "text": [
      "The float value is 3.141593\n",
      "The float value is 003.14\n",
      "The float value is   3.14\n"
     ]
    }
   ],
   "source": [
    "print('The float value is {:f}'.format(3.141592653589793))\n",
    "print('The float value is {:06.2f}'.format(3.141592653589793))\n",
    "print('The float value is {:6.2f}'.format(3.141592653589793))"
   ]
  },
  {
   "cell_type": "markdown",
   "metadata": {},
   "source": [
    "## f-strings\n",
    "Python 3.6 (and above) introduces **f-strings** (formatted string literals) to simplify string formatting."
   ]
  },
  {
   "cell_type": "code",
   "execution_count": 38,
   "metadata": {},
   "outputs": [
    {
     "name": "stdout",
     "output_type": "stream",
     "text": [
      "The value of x is 5.1 and y is 7.49\n"
     ]
    }
   ],
   "source": [
    "x = 5.1 \n",
    "y = 7.48756\n",
    "print(f'The value of x is {x} and y is {y:.2f}')"
   ]
  },
  {
   "cell_type": "markdown",
   "metadata": {},
   "source": [
    "## Exercise 1\n",
    "\n",
    "**Q1**. You want to compute the future value `F` of our saving account. Assuming that you want to deposit `P` amount of money into your saving account at present then the formula to compute `P` in `y` years time for a fixed interest rate of `r` is given by the formula:\n",
    "\n",
    "$$\n",
    "P =  \\frac{F}{(1+r)^y} \n",
    "$$\n",
    "\n",
    "How much do you need to deposit today to have RM10,000 in the bank in 10 years time if the interest rate r = 0.05. \n",
    "\n",
    "You must\n",
    "* Use variables to capture the value of future value (F), interest rate (r) and years (y). \n",
    "* Display the answer up to two decimal places. \n",
    "\n",
    "[Ans = 6139.13]"
   ]
  },
  {
   "cell_type": "code",
   "execution_count": 39,
   "metadata": {},
   "outputs": [
    {
     "name": "stdout",
     "output_type": "stream",
     "text": [
      "6139.13\n"
     ]
    }
   ],
   "source": [
    "f = 10000\n",
    "y = 10 \n",
    "r = 0.05 \n",
    "p = f/((1+r)**y)\n",
    "print(f\"{p:.2f}\")"
   ]
  },
  {
   "cell_type": "markdown",
   "metadata": {},
   "source": [
    "**Q2.** Prompt the user for a temperature in celcius. Then, convert celcius temperatures to fahrenheit temperatures using the following formula:\n",
    "\n",
    "$$\n",
    "F = \\frac{9}{5}C + 32 \n",
    "$$\n",
    "\n",
    "and then display the result to the user.   \t[12 C is equivalent to 53.6 F]"
   ]
  },
  {
   "cell_type": "code",
   "execution_count": 40,
   "metadata": {},
   "outputs": [
    {
     "ename": "ValueError",
     "evalue": "invalid literal for int() with base 10: ''",
     "output_type": "error",
     "traceback": [
      "\u001b[1;31m---------------------------------------------------------------------------\u001b[0m",
      "\u001b[1;31mValueError\u001b[0m                                Traceback (most recent call last)",
      "Cell \u001b[1;32mIn[40], line 1\u001b[0m\n\u001b[1;32m----> 1\u001b[0m c \u001b[38;5;241m=\u001b[39m \u001b[38;5;28mint\u001b[39m(\u001b[38;5;28minput\u001b[39m(\u001b[38;5;124m\"\u001b[39m\u001b[38;5;124mPlease enter the temperature in celcius: \u001b[39m\u001b[38;5;124m\"\u001b[39m)) \n\u001b[0;32m      2\u001b[0m f \u001b[38;5;241m=\u001b[39m \u001b[38;5;28mfloat\u001b[39m(((\u001b[38;5;241m9\u001b[39m\u001b[38;5;241m/\u001b[39m\u001b[38;5;241m5\u001b[39m)\u001b[38;5;241m*\u001b[39mc)\u001b[38;5;241m+\u001b[39m\u001b[38;5;241m32\u001b[39m)\n\u001b[0;32m      3\u001b[0m \u001b[38;5;28mprint\u001b[39m(\u001b[38;5;124mf\u001b[39m\u001b[38;5;124m\"\u001b[39m\u001b[38;5;132;01m{\u001b[39;00mc\u001b[38;5;132;01m}\u001b[39;00m\u001b[38;5;124m is equivalent to \u001b[39m\u001b[38;5;132;01m{\u001b[39;00mf\u001b[38;5;132;01m:\u001b[39;00m\u001b[38;5;124m.2f\u001b[39m\u001b[38;5;132;01m}\u001b[39;00m\u001b[38;5;124m\"\u001b[39m)\n",
      "\u001b[1;31mValueError\u001b[0m: invalid literal for int() with base 10: ''"
     ]
    }
   ],
   "source": [
    "c = int(input(\"Please enter the temperature in celcius: \")) \n",
    "f = float(((9/5)*c)+32)\n",
    "print(f\"{c} is equivalent to {f:.2f}\")"
   ]
  },
  {
   "cell_type": "markdown",
   "metadata": {},
   "source": [
    "**Q3.** Write a program that will ask the user for two numbers a then divide one by the other. The number of times one goes into another and the remainder should be displayed. \n",
    "\n",
    "Example answer:\n",
    "\n",
    "```\n",
    "Please enter first number: 5\n",
    "Pleae enter second number: 3\n",
    "5/3 = 1 remainder 2\n",
    "```"
   ]
  },
  {
   "cell_type": "code",
   "execution_count": 41,
   "metadata": {
    "scrolled": true
   },
   "outputs": [
    {
     "ename": "ValueError",
     "evalue": "invalid literal for int() with base 10: ''",
     "output_type": "error",
     "traceback": [
      "\u001b[1;31m---------------------------------------------------------------------------\u001b[0m",
      "\u001b[1;31mValueError\u001b[0m                                Traceback (most recent call last)",
      "Cell \u001b[1;32mIn[41], line 1\u001b[0m\n\u001b[1;32m----> 1\u001b[0m firstNum \u001b[38;5;241m=\u001b[39m \u001b[38;5;28mint\u001b[39m(\u001b[38;5;28minput\u001b[39m(\u001b[38;5;124m\"\u001b[39m\u001b[38;5;124mPlease enter first number: \u001b[39m\u001b[38;5;124m\"\u001b[39m))\n\u001b[0;32m      2\u001b[0m secondNum \u001b[38;5;241m=\u001b[39m \u001b[38;5;28mint\u001b[39m(\u001b[38;5;28minput\u001b[39m(\u001b[38;5;124m\"\u001b[39m\u001b[38;5;124mPlease input second number: \u001b[39m\u001b[38;5;124m\"\u001b[39m)) \n\u001b[0;32m      3\u001b[0m \u001b[38;5;28mprint\u001b[39m(\u001b[38;5;124mf\u001b[39m\u001b[38;5;124m\"\u001b[39m\u001b[38;5;132;01m{\u001b[39;00mfirstNum\u001b[38;5;132;01m}\u001b[39;00m\u001b[38;5;124m/\u001b[39m\u001b[38;5;132;01m{\u001b[39;00msecondNum\u001b[38;5;132;01m}\u001b[39;00m\u001b[38;5;124m = \u001b[39m\u001b[38;5;132;01m{\u001b[39;00mfirstNum\u001b[38;5;241m/\u001b[39m\u001b[38;5;241m/\u001b[39msecondNum\u001b[38;5;132;01m}\u001b[39;00m\u001b[38;5;124m remainder \u001b[39m\u001b[38;5;132;01m{\u001b[39;00mfirstNum\u001b[38;5;250m \u001b[39m\u001b[38;5;241m%\u001b[39m\u001b[38;5;250m \u001b[39msecondNum\u001b[38;5;132;01m}\u001b[39;00m\u001b[38;5;124m\"\u001b[39m)\n",
      "\u001b[1;31mValueError\u001b[0m: invalid literal for int() with base 10: ''"
     ]
    }
   ],
   "source": [
    "firstNum = int(input(\"Please enter first number: \"))\n",
    "secondNum = int(input(\"Please input second number: \")) \n",
    "print(f\"{firstNum}/{secondNum} = {firstNum//secondNum} remainder {firstNum % secondNum}\")"
   ]
  },
  {
   "cell_type": "markdown",
   "metadata": {},
   "source": [
    "**Q4.** Define a string and initialize it with '*The lyrics is not bad at all, not bad at all.*'. Write a Python program to find the first appearance of the substring '*not bad at all*' from a given string. Replace that term with '*good*'. Hints: Use the built-in function of string.\n",
    "\n",
    "Answer:\n",
    "```\n",
    "The lyrics is good, not bad at all.\n",
    "```"
   ]
  },
  {
   "cell_type": "code",
   "execution_count": 42,
   "metadata": {},
   "outputs": [
    {
     "name": "stdout",
     "output_type": "stream",
     "text": [
      "The lyrics is good, not bad at all.\n"
     ]
    }
   ],
   "source": [
    "sentence = \"The lyrics is not bad at all, not bad at all.\"\n",
    "print(sentence.replace(\"not bad at all\", \"good\", 1))"
   ]
  },
  {
   "cell_type": "markdown",
   "metadata": {},
   "source": [
    "---\n",
    "\n",
    "# FUNCTIONS\n",
    "\n",
    "## Creating basic functions\n",
    "The following code shows how to define a function. Note that the parameters, documentation string and the return statements are optional depending on the application.\n",
    "\n",
    "**USE IDENTATION TO DEFINE A FUNCTION**. Unlike many other languages, Python defines its course structure using indentation (`TAB`) rather than curly brackets (`{ }`). To define a function, all codes belonging to the function must be at least **one tab** away from the function header. For logical or loop statements, they can be more than one tab."
   ]
  },
  {
   "cell_type": "markdown",
   "metadata": {},
   "source": [
    "This is how to define a function. Note that all the codes belonging to the function is at least one TAB away from the `def` statement"
   ]
  },
  {
   "cell_type": "code",
   "execution_count": 43,
   "metadata": {},
   "outputs": [],
   "source": [
    "# Correct way of defining a function\n",
    "def square(num):\n",
    "    \"Returns the square of a number\"\n",
    "    result = num**2\n",
    "    return result"
   ]
  },
  {
   "cell_type": "markdown",
   "metadata": {},
   "source": [
    "Now that we have defined our function `square`, we can make use of the function to square some numbers"
   ]
  },
  {
   "cell_type": "code",
   "execution_count": 44,
   "metadata": {},
   "outputs": [
    {
     "name": "stdout",
     "output_type": "stream",
     "text": [
      "4\n"
     ]
    }
   ],
   "source": [
    "x = square(2)\n",
    "print(x)"
   ]
  },
  {
   "cell_type": "markdown",
   "metadata": {},
   "source": [
    "The following shows the wrong way to define a function. Python does not use curly bracket to define the code block for a function "
   ]
  },
  {
   "cell_type": "code",
   "execution_count": 45,
   "metadata": {
    "scrolled": true
   },
   "outputs": [
    {
     "ename": "IndentationError",
     "evalue": "expected an indented block after function definition on line 2 (559787015.py, line 3)",
     "output_type": "error",
     "traceback": [
      "\u001b[1;36m  Cell \u001b[1;32mIn[45], line 3\u001b[1;36m\u001b[0m\n\u001b[1;33m    { result = num**2\u001b[0m\n\u001b[1;37m    ^\u001b[0m\n\u001b[1;31mIndentationError\u001b[0m\u001b[1;31m:\u001b[0m expected an indented block after function definition on line 2\n"
     ]
    }
   ],
   "source": [
    "# this will not work. \n",
    "def square(num):\n",
    "{ result = num**2\n",
    "return result\n",
    "}"
   ]
  },
  {
   "cell_type": "markdown",
   "metadata": {},
   "source": [
    "This code below will NOT work too. The code `return result` does not belong to the function square because not one tab away from `def`"
   ]
  },
  {
   "cell_type": "code",
   "execution_count": 46,
   "metadata": {},
   "outputs": [
    {
     "ename": "SyntaxError",
     "evalue": "'return' outside function (3566692627.py, line 6)",
     "output_type": "error",
     "traceback": [
      "\u001b[1;36m  Cell \u001b[1;32mIn[46], line 6\u001b[1;36m\u001b[0m\n\u001b[1;33m    return result\u001b[0m\n\u001b[1;37m    ^\u001b[0m\n\u001b[1;31mSyntaxError\u001b[0m\u001b[1;31m:\u001b[0m 'return' outside function\n"
     ]
    }
   ],
   "source": [
    "# This will NOT work too. The code `return result` does not belong to the function square \n",
    "# because not one tab away from `def`\n",
    "\n",
    "def square(num):\n",
    "    result = num**2\n",
    "return result"
   ]
  },
  {
   "cell_type": "markdown",
   "metadata": {},
   "source": [
    "## Returning more than one variable\n",
    "\n",
    "Different from most language, Python can return more than one variables"
   ]
  },
  {
   "cell_type": "code",
   "execution_count": 47,
   "metadata": {},
   "outputs": [],
   "source": [
    "def square2and3(num):\n",
    "    \"Returns the square of a number\"\n",
    "    result1 = num**2\n",
    "    result2 = num**3\n",
    "\n",
    "    return result1, result2"
   ]
  },
  {
   "cell_type": "code",
   "execution_count": 48,
   "metadata": {},
   "outputs": [
    {
     "name": "stdout",
     "output_type": "stream",
     "text": [
      "4 8\n"
     ]
    }
   ],
   "source": [
    "sq2, sq3 = square2and3 (2)\n",
    "print(sq2, sq3)"
   ]
  },
  {
   "cell_type": "markdown",
   "metadata": {},
   "source": [
    "## Passing arguments to a function\n",
    "By default, **primitive variables** such as integer, double and float as well as **strings** are **passed by value**. \n",
    "\n",
    "For example, for the following code, any changes to parameters `intval` and `strval` in function  `func` that are passed from main will not affect the original variables in main. "
   ]
  },
  {
   "cell_type": "code",
   "execution_count": 49,
   "metadata": {},
   "outputs": [],
   "source": [
    "def func (intval, strval):\n",
    "    intval = 100\n",
    "    strval = \"Modified string value\"\n",
    "    print (\">>> func: numval = {}, strval = {}\".format(intval, strval))"
   ]
  },
  {
   "cell_type": "code",
   "execution_count": 50,
   "metadata": {},
   "outputs": [
    {
     "name": "stdout",
     "output_type": "stream",
     "text": [
      "main (before calling func): numval = 0, strval = Original string value\n",
      ">>> func: numval = 100, strval = Modified string value\n",
      "main (after calling func): numval = 0, strval = Original string value\n"
     ]
    }
   ],
   "source": [
    "intval  = 0\n",
    "strval = \"Original string value\"\n",
    "\n",
    "print (\"main (before calling func): numval = {}, strval = {}\".format(intval, strval))\n",
    "func (intval, strval)\n",
    "print (\"main (after calling func): numval = {}, strval = {}\".format(intval, strval))\n"
   ]
  },
  {
   "cell_type": "markdown",
   "metadata": {},
   "source": [
    "## Setting default arguments"
   ]
  },
  {
   "cell_type": "code",
   "execution_count": 51,
   "metadata": {},
   "outputs": [],
   "source": [
    "def printinfo(name, age = 35):\n",
    "    \"This prints a passed info into this function\"\n",
    "    print (\"Name: \", name)\n",
    "    print (\"Age: \", age)"
   ]
  },
  {
   "cell_type": "code",
   "execution_count": 52,
   "metadata": {},
   "outputs": [
    {
     "name": "stdout",
     "output_type": "stream",
     "text": [
      "Name:  Suzuki\n",
      "Age:  35\n",
      "Name:  Michiko\n",
      "Age:  12\n"
     ]
    }
   ],
   "source": [
    "printinfo (name = \"Suzuki\")\t\n",
    "printinfo (name = \"Michiko\", age = 12)"
   ]
  },
  {
   "cell_type": "markdown",
   "metadata": {},
   "source": [
    "---\n",
    "## Exercise 2\n",
    "\n",
    "**Q1**. Write a program that prints out the area and circumference of a circle. Create two functions `area` and `circumference` that returns the area and circumference of a circle, respectively.  \n",
    "\n",
    "Ans: \n",
    "```\n",
    "r = 5: area = 78.54, circumference = 31.42\n",
    "```"
   ]
  },
  {
   "cell_type": "code",
   "execution_count": 53,
   "metadata": {},
   "outputs": [
    {
     "name": "stdout",
     "output_type": "stream",
     "text": [
      "r = 5: area = 78.54, circumference = 31.42\n"
     ]
    }
   ],
   "source": [
    "import math \n",
    "def area(r): \n",
    "    a = math.pi * (r**2)\n",
    "    return a \n",
    "\n",
    "def circumference(r): \n",
    "    c = 2 * math.pi * r \n",
    "    return c \n",
    "r = 5 \n",
    "print(f\"r = {r}: area = {area(r):.2f}, circumference = {circumference(r):.2f}\")"
   ]
  },
  {
   "cell_type": "markdown",
   "metadata": {},
   "source": [
    "**Q2**. Write a function that returns both the quotient and remainder of a division. Do not use two functions and do not print the results in the function.\n",
    "\n",
    "Ans:\n",
    "```\n",
    "5/2 = 2 remainder 1\n",
    "```"
   ]
  },
  {
   "cell_type": "code",
   "execution_count": 54,
   "metadata": {},
   "outputs": [
    {
     "name": "stdout",
     "output_type": "stream",
     "text": [
      "5/2 = 2 remainder 1\n"
     ]
    }
   ],
   "source": [
    "def division(a, b): \n",
    "    quotient = a//b\n",
    "    remainder = a%b \n",
    "    return (quotient, remainder)\n",
    "num1 = 5\n",
    "num2 = 2 \n",
    "quotient, remainder = division(num1, num2)\n",
    "print(f\"{num1}/{num2} = {quotient} remainder {remainder}\") "
   ]
  },
  {
   "cell_type": "markdown",
   "metadata": {},
   "source": [
    "---\n",
    "# CONDITIONAL STATEMENT AND LOOP"
   ]
  },
  {
   "cell_type": "markdown",
   "metadata": {},
   "source": [
    "## Conditional Statements\n",
    "\n",
    "The conditional operators for Python is `if` and `elif`. There is NO `switch-case` operator in Python.\n",
    "\n",
    "**PYTHON USES INDENTATION TO DEFINE THE SCOPE**: In C++, curly brackets `{}` is used to define the scope of conditional statements. Differently, Python uses the indentation to define scopes. All statements belonging to a conditional statements must be at least one indent away from a conditional operator such as `if` or `elif` statement belongs that condition. \n",
    "\n",
    "\n",
    "The following code shows the syntax for implementing conditional statements in Python."
   ]
  },
  {
   "cell_type": "code",
   "execution_count": 55,
   "metadata": {},
   "outputs": [
    {
     "ename": "ValueError",
     "evalue": "could not convert string to float: ''",
     "output_type": "error",
     "traceback": [
      "\u001b[1;31m---------------------------------------------------------------------------\u001b[0m",
      "\u001b[1;31mValueError\u001b[0m                                Traceback (most recent call last)",
      "Cell \u001b[1;32mIn[55], line 2\u001b[0m\n\u001b[0;32m      1\u001b[0m \u001b[38;5;66;03m# This is what a comment looks like \u001b[39;00m\n\u001b[1;32m----> 2\u001b[0m price \u001b[38;5;241m=\u001b[39m \u001b[38;5;28mfloat\u001b[39m(\u001b[38;5;28minput\u001b[39m(\u001b[38;5;124m'\u001b[39m\u001b[38;5;124mhow much is one apple? \u001b[39m\u001b[38;5;124m'\u001b[39m))\n\u001b[0;32m      3\u001b[0m \u001b[38;5;28mprint\u001b[39m(price)\n\u001b[0;32m      4\u001b[0m \u001b[38;5;28;01mif\u001b[39;00m price \u001b[38;5;241m<\u001b[39m \u001b[38;5;241m2.00\u001b[39m:\n",
      "\u001b[1;31mValueError\u001b[0m: could not convert string to float: ''"
     ]
    }
   ],
   "source": [
    "# This is what a comment looks like \n",
    "price = float(input('how much is one apple? '))\n",
    "print(price)\n",
    "if price < 2.00:\n",
    "    print (price, 'is cheap, I should buy more')\n",
    "elif price < 4.0:\n",
    "    print (price, 'is not cheap, I should buy less')\n",
    "else:\n",
    "    print (price, 'is too expensive, I cannot afford it')"
   ]
  },
  {
   "cell_type": "markdown",
   "metadata": {},
   "source": [
    "**BE CAREFUL OF INDENTATION**. Wrong indentation changes the behaviour of your program.\n",
    "\n",
    "```Python\n",
    "if 0 == 1: \n",
    "    print ('We are in a world of arithmetic pain')\n",
    "print ('Thank you for playing')\n",
    "``` \n",
    "will output:\n",
    "\n",
    "```\n",
    "Thank you for playing\n",
    "```\n",
    "\n",
    "But if we had written the script as\n",
    "``` Python\n",
    "if 0 == 1: \n",
    "    print ('We are in a world of arithmetic pain')\n",
    "    print ('Thank you for playing')\n",
    "```\n",
    "\n",
    "there would be no output. \n",
    "\n",
    "The moral of the story: be careful how you indent!"
   ]
  },
  {
   "cell_type": "markdown",
   "metadata": {},
   "source": [
    "The following shows how to put compound conditions in a conditional statement"
   ]
  },
  {
   "cell_type": "code",
   "execution_count": 56,
   "metadata": {},
   "outputs": [
    {
     "ename": "ValueError",
     "evalue": "could not convert string to float: ''",
     "output_type": "error",
     "traceback": [
      "\u001b[1;31m---------------------------------------------------------------------------\u001b[0m",
      "\u001b[1;31mValueError\u001b[0m                                Traceback (most recent call last)",
      "Cell \u001b[1;32mIn[56], line 1\u001b[0m\n\u001b[1;32m----> 1\u001b[0m price \u001b[38;5;241m=\u001b[39m \u001b[38;5;28mfloat\u001b[39m(\u001b[38;5;28minput\u001b[39m(\u001b[38;5;124m'\u001b[39m\u001b[38;5;124mhow much is one apple? \u001b[39m\u001b[38;5;124m'\u001b[39m))\n\u001b[0;32m      2\u001b[0m \u001b[38;5;28;01mif\u001b[39;00m price \u001b[38;5;241m>\u001b[39m\u001b[38;5;241m=\u001b[39m \u001b[38;5;241m2\u001b[39m \u001b[38;5;129;01mand\u001b[39;00m price \u001b[38;5;241m<\u001b[39m\u001b[38;5;241m=\u001b[39m \u001b[38;5;241m5\u001b[39m:\n\u001b[0;32m      3\u001b[0m     \u001b[38;5;28mprint\u001b[39m(\u001b[38;5;124m'\u001b[39m\u001b[38;5;124mprice is reasonable\u001b[39m\u001b[38;5;124m'\u001b[39m)\n",
      "\u001b[1;31mValueError\u001b[0m: could not convert string to float: ''"
     ]
    }
   ],
   "source": [
    "price = float(input('how much is one apple? '))\n",
    "if price >= 2 and price <= 5:\n",
    "    print('price is reasonable')\n",
    "else:\n",
    "    print('price is not reasonable')\n"
   ]
  },
  {
   "cell_type": "code",
   "execution_count": 57,
   "metadata": {},
   "outputs": [
    {
     "ename": "ValueError",
     "evalue": "could not convert string to float: ''",
     "output_type": "error",
     "traceback": [
      "\u001b[1;31m---------------------------------------------------------------------------\u001b[0m",
      "\u001b[1;31mValueError\u001b[0m                                Traceback (most recent call last)",
      "Cell \u001b[1;32mIn[57], line 1\u001b[0m\n\u001b[1;32m----> 1\u001b[0m price \u001b[38;5;241m=\u001b[39m \u001b[38;5;28mfloat\u001b[39m(\u001b[38;5;28minput\u001b[39m(\u001b[38;5;124m'\u001b[39m\u001b[38;5;124mhow much is one apple? \u001b[39m\u001b[38;5;124m'\u001b[39m))\n\u001b[0;32m      2\u001b[0m \u001b[38;5;28;01mif\u001b[39;00m price \u001b[38;5;241m<\u001b[39m \u001b[38;5;241m2\u001b[39m \u001b[38;5;129;01mor\u001b[39;00m price \u001b[38;5;241m>\u001b[39m \u001b[38;5;241m5\u001b[39m:\n\u001b[0;32m      3\u001b[0m     \u001b[38;5;28mprint\u001b[39m(\u001b[38;5;124m'\u001b[39m\u001b[38;5;124mprice is not reasonable\u001b[39m\u001b[38;5;124m'\u001b[39m)\n",
      "\u001b[1;31mValueError\u001b[0m: could not convert string to float: ''"
     ]
    }
   ],
   "source": [
    "price = float(input('how much is one apple? '))\n",
    "if price < 2 or price > 5:\n",
    "    print('price is not reasonable')\n",
    "else:\n",
    "    print('price is reasonable')"
   ]
  },
  {
   "cell_type": "markdown",
   "metadata": {
    "collapsed": true,
    "jupyter": {
     "outputs_hidden": true
    }
   },
   "source": [
    "## Loops\n",
    "\n",
    "The operator for performing loops in Python is `for` and `while`.  There is NO `do while` operator in Python. Similarly, indentation is used to define the scope for loops. The following example show how to use the `for` loop to iterate a list of integers and strings"
   ]
  },
  {
   "cell_type": "code",
   "execution_count": 58,
   "metadata": {},
   "outputs": [
    {
     "name": "stdout",
     "output_type": "stream",
     "text": [
      "1\n",
      "2\n",
      "3\n",
      "4\n",
      "5\n"
     ]
    }
   ],
   "source": [
    "for num in [1, 2, 3, 4, 5]:\n",
    "    print (num)"
   ]
  },
  {
   "cell_type": "code",
   "execution_count": 59,
   "metadata": {},
   "outputs": [
    {
     "name": "stdout",
     "output_type": "stream",
     "text": [
      "lessie\n",
      "joe\n",
      "bob\n"
     ]
    }
   ],
   "source": [
    "for name in ['lessie', 'joe', 'bob']:\n",
    "    print (name)"
   ]
  },
  {
   "cell_type": "code",
   "execution_count": 60,
   "metadata": {},
   "outputs": [
    {
     "name": "stdout",
     "output_type": "stream",
     "text": [
      "1\n",
      "2\n",
      "3\n",
      "4\n",
      "5\n"
     ]
    }
   ],
   "source": [
    "num = 1\n",
    "while num <= 5:\n",
    "    print (num)\n",
    "    num += 1"
   ]
  },
  {
   "cell_type": "markdown",
   "metadata": {},
   "source": [
    "**The `range` command**\n",
    "\n",
    "You can use the function `range(end)` to generate  an iterable sequence of integers starting from 0 up to not including `end`."
   ]
  },
  {
   "cell_type": "code",
   "execution_count": 61,
   "metadata": {},
   "outputs": [
    {
     "name": "stdout",
     "output_type": "stream",
     "text": [
      "0\n",
      "1\n",
      "2\n",
      "3\n",
      "4\n"
     ]
    }
   ],
   "source": [
    "for num in range(5):        \n",
    "    print (num) "
   ]
  },
  {
   "cell_type": "markdown",
   "metadata": {},
   "source": [
    "You can use the function `range(start, end)` to generate  an iterable sequence of integers starting from `start` up to `end-1`."
   ]
  },
  {
   "cell_type": "code",
   "execution_count": 62,
   "metadata": {},
   "outputs": [
    {
     "name": "stdout",
     "output_type": "stream",
     "text": [
      "3\n",
      "4\n",
      "5\n",
      "6\n"
     ]
    }
   ],
   "source": [
    "for num in range(3,7):     \n",
    "    print (num) "
   ]
  },
  {
   "cell_type": "markdown",
   "metadata": {},
   "source": [
    "You can use the function `range(start, end, skip)` to generate an iterable sequence of integers starting from start up to end-1 with a resolution of `skip` ."
   ]
  },
  {
   "cell_type": "code",
   "execution_count": 63,
   "metadata": {},
   "outputs": [
    {
     "name": "stdout",
     "output_type": "stream",
     "text": [
      "10\n",
      "15\n",
      "20\n",
      "25\n"
     ]
    }
   ],
   "source": [
    "for num in range(10,26,5):  \n",
    "    print (num) "
   ]
  },
  {
   "cell_type": "markdown",
   "metadata": {},
   "source": [
    "**The `enumerate` command**\n",
    "\n",
    "When looping a sequence, the position index and corresponding value can be retrieved using the `enumerate()` function."
   ]
  },
  {
   "cell_type": "code",
   "execution_count": 64,
   "metadata": {},
   "outputs": [
    {
     "name": "stdout",
     "output_type": "stream",
     "text": [
      "0 tic\n",
      "1 tac\n",
      "2 toe\n"
     ]
    }
   ],
   "source": [
    "for i, v in enumerate(['tic', 'tac', 'toe']):\n",
    "    print (i, v)"
   ]
  },
  {
   "cell_type": "markdown",
   "metadata": {},
   "source": [
    "**The `zip` command**\n",
    "\n",
    "To loop over two or more sequences at the same time, the entries can be paired using the `zip()` function."
   ]
  },
  {
   "cell_type": "code",
   "execution_count": 65,
   "metadata": {},
   "outputs": [
    {
     "name": "stdout",
     "output_type": "stream",
     "text": [
      "What is your name?  It is lancelot.\n",
      "What is your quest?  It is the holy grail.\n",
      "What is your favorite color?  It is blue.\n"
     ]
    }
   ],
   "source": [
    "questions = ['name', 'quest', 'favorite color']\n",
    "answers = ['lancelot', 'the holy grail', 'blue']\n",
    "for q, a in zip(questions, answers):\n",
    "    print ('What is your {0}?  It is {1}.'.format(q, a))"
   ]
  },
  {
   "cell_type": "code",
   "execution_count": 66,
   "metadata": {},
   "outputs": [
    {
     "name": "stdout",
     "output_type": "stream",
     "text": [
      "Krishnan: 99.\n",
      "Shafie: 100.\n",
      "Kim Loong: 89.\n"
     ]
    }
   ],
   "source": [
    "names = ['Krishnan', 'Shafie', 'Kim Loong']\n",
    "grades = [99, 100, 89]\n",
    "\n",
    "for n, g in zip(names, grades):\n",
    "    print ('{0}: {1}.'.format(n, g))"
   ]
  },
  {
   "cell_type": "markdown",
   "metadata": {},
   "source": [
    "## Exercise 3"
   ]
  },
  {
   "cell_type": "markdown",
   "metadata": {},
   "source": [
    "**(Q1)**. Write a program to ask the user for a floating point. Print out which category the number is in: 'positive', 'negative', or 'zero'."
   ]
  },
  {
   "cell_type": "code",
   "execution_count": 67,
   "metadata": {},
   "outputs": [
    {
     "ename": "ValueError",
     "evalue": "could not convert string to float: ''",
     "output_type": "error",
     "traceback": [
      "\u001b[1;31m---------------------------------------------------------------------------\u001b[0m",
      "\u001b[1;31mValueError\u001b[0m                                Traceback (most recent call last)",
      "Cell \u001b[1;32mIn[67], line 1\u001b[0m\n\u001b[1;32m----> 1\u001b[0m num \u001b[38;5;241m=\u001b[39m \u001b[38;5;28mfloat\u001b[39m(\u001b[38;5;28minput\u001b[39m(\u001b[38;5;124m\"\u001b[39m\u001b[38;5;124mPlease insert a float number: \u001b[39m\u001b[38;5;124m\"\u001b[39m))\n\u001b[0;32m      2\u001b[0m \u001b[38;5;28;01mif\u001b[39;00m num \u001b[38;5;241m<\u001b[39m \u001b[38;5;241m0\u001b[39m: \n\u001b[0;32m      3\u001b[0m     category \u001b[38;5;241m=\u001b[39m \u001b[38;5;124m\"\u001b[39m\u001b[38;5;124mnegative\u001b[39m\u001b[38;5;124m\"\u001b[39m \n",
      "\u001b[1;31mValueError\u001b[0m: could not convert string to float: ''"
     ]
    }
   ],
   "source": [
    "num = float(input(\"Please insert a float number: \"))\n",
    "if num < 0: \n",
    "    category = \"negative\" \n",
    "elif num > 0: \n",
    "    category = \"positive\" \n",
    "else: \n",
    "    category = \"zero\" \n",
    "print(f\"The number is categorised as {category} number. \")"
   ]
  },
  {
   "cell_type": "markdown",
   "metadata": {},
   "source": [
    "**(Q2)**. Write a Python program to find those numbers which are divisible by 7 and multiple of 5, between 1500 and 2700 (both included)."
   ]
  },
  {
   "cell_type": "code",
   "execution_count": 68,
   "metadata": {},
   "outputs": [
    {
     "name": "stdout",
     "output_type": "stream",
     "text": [
      "Number that are divisible by 7 and multiple of 5: \n",
      "1505 1540 1575 1610 1645 1680 1715 1750 1785 1820 1855 1890 1925 1960 1995 2030 2065 2100 2135 2170 2205 2240 2275 2310 2345 2380 2415 2450 2485 2520 2555 2590 2625 2660 2695 "
     ]
    }
   ],
   "source": [
    "print(\"Number that are divisible by 7 and multiple of 5: \")\n",
    "for i in range (1500, 2701):\n",
    "    if (i % 7 == 0) and (i % 5 == 0): \n",
    "        print (f\"{i} \", end=\"\"); "
   ]
  },
  {
   "cell_type": "markdown",
   "metadata": {},
   "source": [
    "**(Q3)**. Create the `A = [12, 13, 5, 16, 13, 7, 11, 19]`. Compute the average values of the items in the list.\n",
    "\n",
    "Ans: 12"
   ]
  },
  {
   "cell_type": "code",
   "execution_count": 69,
   "metadata": {},
   "outputs": [
    {
     "name": "stdout",
     "output_type": "stream",
     "text": [
      "12.0\n"
     ]
    }
   ],
   "source": [
    "A = [12, 13, 5, 16, 13, 7, 11, 19] \n",
    "sum = 0;  \n",
    "for ele in A: \n",
    "    sum += ele; \n",
    "print(sum / len(A)) "
   ]
  },
  {
   "cell_type": "markdown",
   "metadata": {},
   "source": [
    "**(Q4)**. Create two arrays as follows:\n",
    "```\n",
    "A = [12, 13, 5, 16, 13] \n",
    "B = [12, 2, 5, 2, 13]\n",
    "```\n",
    "Your task is to compare how many of the corresponding items (items at the same position) are equivalent. \n",
    "\n",
    "Ans: There are 3 similar corresponding items in the two lists."
   ]
  },
  {
   "cell_type": "code",
   "execution_count": 70,
   "metadata": {},
   "outputs": [
    {
     "name": "stdout",
     "output_type": "stream",
     "text": [
      "There are 3 similar corresponding items in two lists. \n"
     ]
    }
   ],
   "source": [
    "A = [12, 13, 5, 16, 13] \n",
    "B = [12, 2, 5, 2, 13] \n",
    "count = 0\n",
    "for x, y in zip(A, B): \n",
    "    if (x == y): \n",
    "        count += 1\n",
    "print(f\"There are {count} similar corresponding items in two lists. \")"
   ]
  },
  {
   "cell_type": "markdown",
   "metadata": {},
   "source": [
    "**(Q5)**. Create the array `A = [12, 11, 5, 64, 21, 182, 33]`. Your task is to extract all even numbers and their position in the list. Use `enumerate` to capture the position.\n",
    "\n",
    "Ans:\n",
    "```\n",
    "index 0 : 12\n",
    "index 3 : 64\n",
    "index 5 : 182\n",
    "```\n"
   ]
  },
  {
   "cell_type": "code",
   "execution_count": 71,
   "metadata": {},
   "outputs": [
    {
     "name": "stdout",
     "output_type": "stream",
     "text": [
      "index 0 : 12\n",
      "index 3 : 64\n",
      "index 5 : 182\n"
     ]
    }
   ],
   "source": [
    "A = [12, 11, 5, 64, 21, 182, 33] \n",
    "for i, ele in enumerate(A): \n",
    "    if ele % 2 == 0: \n",
    "        print(f\"index {i} : {ele}\")"
   ]
  },
  {
   "cell_type": "markdown",
   "metadata": {},
   "source": [
    "---\n",
    "# BUILT-IN DATA STRUCTURES\n",
    "\n",
    "Python comes equipped with some useful built-in data structures, broadly similar to Java's collections package. This includes \n",
    "* list\n",
    "* tuple\n",
    "* set\n",
    "* dictionary\n",
    "\n",
    "## List\n",
    "\n",
    "First, we look at lists. Lists store a sequence of *mutable* items. Mutable items are items that can be changed later. They are not constants.\n",
    "\n",
    "**Create a new list**:"
   ]
  },
  {
   "cell_type": "code",
   "execution_count": 72,
   "metadata": {},
   "outputs": [
    {
     "name": "stdout",
     "output_type": "stream",
     "text": [
      "['apple', 'orange', 'pear']\n",
      "[11, 12, 13, 14]\n",
      "[True, False, True]\n",
      "[11, 'hello', True, [1, 2, 3], ['one', 2, False]]\n"
     ]
    }
   ],
   "source": [
    "fruits = ['apple','orange','pear']   # a list of strings\n",
    "print (fruits)\n",
    "\n",
    "numbers = [11,12,13,14]              # a list of integers\n",
    "print(numbers)\n",
    "\n",
    "isHandsome = [True, False, True]       # a list of booleans\n",
    "print(isHandsome)\n",
    "\n",
    "rojak = [11, 'hello', True, [1,2,3], ['one', 2, False]]     # a list of different types of items\n",
    "print(rojak)"
   ]
  },
  {
   "cell_type": "markdown",
   "metadata": {},
   "source": [
    "**Get the length of a list**:"
   ]
  },
  {
   "cell_type": "code",
   "execution_count": 73,
   "metadata": {},
   "outputs": [
    {
     "data": {
      "text/plain": [
       "4"
      ]
     },
     "execution_count": 73,
     "metadata": {},
     "output_type": "execute_result"
    }
   ],
   "source": [
    "len(numbers)   "
   ]
  },
  {
   "cell_type": "markdown",
   "metadata": {},
   "source": [
    "**Iterate all items in an array**:"
   ]
  },
  {
   "cell_type": "code",
   "execution_count": 74,
   "metadata": {},
   "outputs": [
    {
     "name": "stdout",
     "output_type": "stream",
     "text": [
      "11\n",
      "12\n",
      "13\n",
      "14\n"
     ]
    }
   ],
   "source": [
    "numbers = [11,12,13,14]\n",
    "for x in numbers:\n",
    "    print (x)"
   ]
  },
  {
   "cell_type": "markdown",
   "metadata": {},
   "source": [
    "**Unpack the values in a list into individual variables** "
   ]
  },
  {
   "cell_type": "code",
   "execution_count": 75,
   "metadata": {},
   "outputs": [
    {
     "name": "stdout",
     "output_type": "stream",
     "text": [
      "apple\n",
      "orange\n",
      "pear\n"
     ]
    }
   ],
   "source": [
    "a, b, c = fruits\n",
    "print(a)\n",
    "print(b)\n",
    "print(c)"
   ]
  },
  {
   "cell_type": "markdown",
   "metadata": {},
   "source": [
    "**Concatenate multiple lists**\n",
    "\n",
    "Use the `+` operator to do list concatenation:"
   ]
  },
  {
   "cell_type": "code",
   "execution_count": 76,
   "metadata": {},
   "outputs": [
    {
     "name": "stdout",
     "output_type": "stream",
     "text": [
      "['apple', 'orange', 'pear']\n",
      "['kiwi', 'strawberry']\n",
      "['apple', 'orange', 'pear', 'kiwi', 'strawberry']\n"
     ]
    }
   ],
   "source": [
    "fruits = ['apple','orange','pear']\n",
    "print(fruits)\n",
    "\n",
    "otherFruits = ['kiwi','strawberry']\n",
    "print(otherFruits)\n",
    "\n",
    "allFruits = fruits + otherFruits\n",
    "print(allFruits)"
   ]
  },
  {
   "cell_type": "markdown",
   "metadata": {},
   "source": [
    "**Access a specific item in the list**:"
   ]
  },
  {
   "cell_type": "code",
   "execution_count": 77,
   "metadata": {},
   "outputs": [
    {
     "data": {
      "text/plain": [
       "'apple'"
      ]
     },
     "execution_count": 77,
     "metadata": {},
     "output_type": "execute_result"
    }
   ],
   "source": [
    "fruits[0]            # first item of fruits"
   ]
  },
  {
   "cell_type": "code",
   "execution_count": 78,
   "metadata": {},
   "outputs": [
    {
     "data": {
      "text/plain": [
       "['durian', 'orange', 'pear']"
      ]
     },
     "execution_count": 78,
     "metadata": {},
     "output_type": "execute_result"
    }
   ],
   "source": [
    "fruits[0] = 'durian'\n",
    "fruits"
   ]
  },
  {
   "cell_type": "code",
   "execution_count": 79,
   "metadata": {},
   "outputs": [
    {
     "data": {
      "text/plain": [
       "[1, 2, 3]"
      ]
     },
     "execution_count": 79,
     "metadata": {},
     "output_type": "execute_result"
    }
   ],
   "source": [
    "rojak[3]"
   ]
  },
  {
   "cell_type": "code",
   "execution_count": 80,
   "metadata": {
    "scrolled": true
   },
   "outputs": [
    {
     "data": {
      "text/plain": [
       "[11, 'hello', True, 'new item', ['one', 2, False]]"
      ]
     },
     "execution_count": 80,
     "metadata": {},
     "output_type": "execute_result"
    }
   ],
   "source": [
    "rojak[3] = 'new item'\n",
    "rojak"
   ]
  },
  {
   "cell_type": "markdown",
   "metadata": {},
   "source": [
    "**Slice indexing: accessing a range of item in the list**\n",
    "\n",
    "We can also index multiple adjacent elements using the slice operator. For instance, `fruits[1:3]`, returns a list containing the elements at position 1 and 2. In general fruits[start:stop] will get the elements in `start`, `start`+1, ..., `stop`-1. We can also do `fruits[start:]` which returns all elements starting from the start index. Also `fruits[:end]` will return all elements before the element at position end:"
   ]
  },
  {
   "cell_type": "code",
   "execution_count": 81,
   "metadata": {},
   "outputs": [
    {
     "name": "stdout",
     "output_type": "stream",
     "text": [
      "['apple', 'orange', 'pear', 'kiwi', 'strawberry']\n",
      "['apple', 'orange']\n",
      "['apple', 'orange', 'pear']\n",
      "['pear', 'kiwi', 'strawberry']\n"
     ]
    }
   ],
   "source": [
    "print(allFruits)    # print all items\n",
    "\n",
    "print(allFruits[0:2])  # items 0 and 1 (not including 2)\n",
    "print(allFruits[:3])   # first item to item 2 (not including 3)\n",
    "print(allFruits[2:])   # items 2 to last item"
   ]
  },
  {
   "cell_type": "markdown",
   "metadata": {},
   "source": [
    "**Negative indexing**\n",
    "\n",
    "Python also allows negative-indexing from the back of the list. For instance, `allfruits[-1]` will access the last element `'strawberry'`:"
   ]
  },
  {
   "cell_type": "code",
   "execution_count": 82,
   "metadata": {},
   "outputs": [
    {
     "name": "stdout",
     "output_type": "stream",
     "text": [
      "['apple', 'orange', 'pear', 'kiwi', 'strawberry']\n"
     ]
    },
    {
     "data": {
      "text/plain": [
       "'strawberry'"
      ]
     },
     "execution_count": 82,
     "metadata": {},
     "output_type": "execute_result"
    }
   ],
   "source": [
    "print(allFruits)\n",
    "allFruits[-1]"
   ]
  },
  {
   "cell_type": "markdown",
   "metadata": {},
   "source": [
    "The following codes combine negative indexing and slice indexing"
   ]
  },
  {
   "cell_type": "code",
   "execution_count": 83,
   "metadata": {
    "scrolled": true
   },
   "outputs": [
    {
     "data": {
      "text/plain": [
       "['pear', 'kiwi', 'strawberry']"
      ]
     },
     "execution_count": 83,
     "metadata": {},
     "output_type": "execute_result"
    }
   ],
   "source": [
    "allFruits[-3:]       # Start from the third last item to the end of the list"
   ]
  },
  {
   "cell_type": "code",
   "execution_count": 84,
   "metadata": {},
   "outputs": [
    {
     "data": {
      "text/plain": [
       "['pear', 'kiwi']"
      ]
     },
     "execution_count": 84,
     "metadata": {},
     "output_type": "execute_result"
    }
   ],
   "source": [
    "allFruits[-3:-1]     # Start from the third last item to the second last item of the list"
   ]
  },
  {
   "cell_type": "markdown",
   "metadata": {},
   "source": [
    "### Reference vs Copy\n"
   ]
  },
  {
   "cell_type": "markdown",
   "metadata": {},
   "source": [
    "**Reference of a list**\n",
    "\n",
    "For list, the assignment operator `=` does not make a copy, instead it copy the address of the source. This means that it is *pointing* or *referencing* to the same object as the source. \n",
    "\n",
    "For example:"
   ]
  },
  {
   "cell_type": "code",
   "execution_count": 85,
   "metadata": {
    "scrolled": true
   },
   "outputs": [
    {
     "name": "stdout",
     "output_type": "stream",
     "text": [
      "colours1 =  ['red', 'green']\n",
      "colours2 =  ['red', 'green']\n"
     ]
    }
   ],
   "source": [
    "colours1 = [\"red\", \"green\"]\n",
    "colours2 = colours1\n",
    "print ('colours1 = ', colours1)\n",
    "print ('colours2 = ', colours2)"
   ]
  },
  {
   "attachments": {
    "shallowcopy1.png": {
     "image/png": "[encoded data removed]"
    }
   },
   "cell_type": "markdown",
   "metadata": {},
   "source": [
    "The above code results in the following structure:\n",
    "\n",
    "![shallowcopy1.png](attachment:shallowcopy1.png)\n",
    "\n",
    "Since they point to the same list, any changes to either `colour1` or `colour2` would affect the other."
   ]
  },
  {
   "cell_type": "code",
   "execution_count": 86,
   "metadata": {},
   "outputs": [
    {
     "name": "stdout",
     "output_type": "stream",
     "text": [
      "Changing colours2\n",
      "colours1 =  ['red', 'blue']\n",
      "colours2 =  ['red', 'blue']\n"
     ]
    }
   ],
   "source": [
    "print ('Changing colours2')\n",
    "colours2[1] = 'blue'                        # changing the content of the second item in colours2\n",
    "\n",
    "print ('colours1 = ', colours1)             # colours1 changes too because it points to the same list\n",
    "print ('colours2 = ', colours2)"
   ]
  },
  {
   "attachments": {
    "shallowcopy2.png": {
     "image/png": "[encoded data removed]"
    }
   },
   "cell_type": "markdown",
   "metadata": {},
   "source": [
    "![shallowcopy2.png](attachment:shallowcopy2.png)"
   ]
  },
  {
   "cell_type": "markdown",
   "metadata": {},
   "source": [
    "**Copy of a list**\n",
    "\n",
    "The command `.copy()` performs a copy where the contents of the list are copied. "
   ]
  },
  {
   "cell_type": "code",
   "execution_count": 87,
   "metadata": {},
   "outputs": [
    {
     "name": "stdout",
     "output_type": "stream",
     "text": [
      "colours1 =  ['red', 'green']\n",
      "colours2 =  ['red', 'blue']\n"
     ]
    }
   ],
   "source": [
    "colours1 = [\"red\", \"green\"]\n",
    "colours2 = colours1.copy()  # make a copy, colours1 and colours2 each has own copy of the list\n",
    "\n",
    "# changing colour2\n",
    "colours2[1] = 'blue'                        # changing the content of the second item in colours2\n",
    "\n",
    "print ('colours1 = ', colours1)             # colours1 does not change\n",
    "print ('colours2 = ', colours2)\n"
   ]
  },
  {
   "cell_type": "markdown",
   "metadata": {},
   "source": [
    "**Pointers**\n",
    "\n",
    "In Python, you can use id() method to get the address of an object in memory."
   ]
  },
  {
   "cell_type": "code",
   "execution_count": 88,
   "metadata": {},
   "outputs": [
    {
     "data": {
      "text/plain": [
       "2700857733568"
      ]
     },
     "execution_count": 88,
     "metadata": {},
     "output_type": "execute_result"
    }
   ],
   "source": [
    "id(colours1)"
   ]
  },
  {
   "cell_type": "code",
   "execution_count": 89,
   "metadata": {},
   "outputs": [
    {
     "data": {
      "text/plain": [
       "2700857683456"
      ]
     },
     "execution_count": 89,
     "metadata": {},
     "output_type": "execute_result"
    }
   ],
   "source": [
    "id(colours2)"
   ]
  },
  {
   "cell_type": "markdown",
   "metadata": {
    "collapsed": true,
    "jupyter": {
     "outputs_hidden": true
    }
   },
   "source": [
    "### Difference between == and is statement\n",
    "\n",
    "* **The operator `is`** checks if two variables are referencing the same list or object. \n",
    "* **The operator `==`** checks if the lists have the same content."
   ]
  },
  {
   "cell_type": "markdown",
   "metadata": {},
   "source": [
    "For *reference*, both `is` and `==` return `True` because they are referencing the same list or object."
   ]
  },
  {
   "cell_type": "code",
   "execution_count": 90,
   "metadata": {},
   "outputs": [
    {
     "name": "stdout",
     "output_type": "stream",
     "text": [
      "True\n",
      "True\n"
     ]
    }
   ],
   "source": [
    "a = [1, 2, 3]\n",
    "b = a\n",
    "print(b is a)\n",
    "print(b == a)"
   ]
  },
  {
   "cell_type": "markdown",
   "metadata": {},
   "source": [
    "For *copy*:\n",
    "* `is` returns `False` because they are pointing to different lists or objects.\n",
    "* `==` returns `True` because their content are the same."
   ]
  },
  {
   "cell_type": "code",
   "execution_count": 91,
   "metadata": {
    "scrolled": true
   },
   "outputs": [
    {
     "name": "stdout",
     "output_type": "stream",
     "text": [
      "False\n",
      "True\n"
     ]
    }
   ],
   "source": [
    "b = a.copy()\n",
    "print(b is a)\n",
    "print(b == a)"
   ]
  },
  {
   "cell_type": "markdown",
   "metadata": {},
   "source": [
    "### Useful functions for processing list\n",
    "\n",
    "1. **`list.append(x)`**: Add an item to the end of the list; equivalent to `a[len(a):] = [x]`.\n",
    "2. **`list.extend(x)`**: Extend the list by appending all the items in the given list; equivalent to `a[len(a):] = L`.\n",
    "3. **`list.insert(i, x)`**: Insert the item x at position i. The first argument is the index of the element before which to insert, so `a.insert(0, x)` inserts at the front of the list, and `a.insert(len(a), x)` is equivalent to `a.append(x)`.\n",
    "4. **`list.remove(x)`**: Remove the first item from the list whose value is `x` . It is an error if there is no such item.\n",
    "5. **`list.pop(i)`**: Remove the item at the given position in the list, and return it. If no index is specified, `a.pop()` removes and returns the last item in the list.\n",
    "6. **`list.index(x)`**: Return the index in the list of the first item whose value is `x`. It is an error if there is no such item.\n",
    "7. **`List.count(x)`**: Return the number of times `x` appears in the list\n",
    "8. **`list.sort(key=None, reverse=False)`**: Sort the items of the list in place \n",
    "9. **`list.reverse()`**: Reverse the elements of the list, in place.\n",
    "10. **`len(list)`**: Returns the number of items in the sequence\n",
    "11. **`min(list)`**: Returns the smallest item in the sequence\n",
    "12. **`max(list)`**: Returns the biggest item in the sequence\n",
    "13. **`any(list)`**: Returns `True` if there exists an item in the sequence which is `True`\n",
    "14. **`all(list)`**: Returns `True` if all items in the seuqnece are True\n"
   ]
  },
  {
   "cell_type": "markdown",
   "metadata": {},
   "source": [
    "### Exercise 4"
   ]
  },
  {
   "cell_type": "markdown",
   "metadata": {},
   "source": [
    "**(Q1)** Create a list `A` which stores the values $a^i$ where $i = 0...9$. Prompt the users for $a$. \n",
    "\n",
    "Answer:\n",
    "```\n",
    "Please enter base: 2\n",
    "A =  [1, 2, 4, 8, 16, 32, 64, 128, 256, 512]\n",
    "```\n"
   ]
  },
  {
   "cell_type": "code",
   "execution_count": 92,
   "metadata": {},
   "outputs": [
    {
     "ename": "ValueError",
     "evalue": "invalid literal for int() with base 10: ''",
     "output_type": "error",
     "traceback": [
      "\u001b[1;31m---------------------------------------------------------------------------\u001b[0m",
      "\u001b[1;31mValueError\u001b[0m                                Traceback (most recent call last)",
      "Cell \u001b[1;32mIn[92], line 1\u001b[0m\n\u001b[1;32m----> 1\u001b[0m base \u001b[38;5;241m=\u001b[39m \u001b[38;5;28mint\u001b[39m(\u001b[38;5;28minput\u001b[39m(\u001b[38;5;124m'\u001b[39m\u001b[38;5;124mPlease enter base: \u001b[39m\u001b[38;5;124m'\u001b[39m))\n\u001b[0;32m      2\u001b[0m A \u001b[38;5;241m=\u001b[39m []\n\u001b[0;32m      4\u001b[0m \u001b[38;5;28;01mfor\u001b[39;00m i \u001b[38;5;129;01min\u001b[39;00m \u001b[38;5;28mrange\u001b[39m(\u001b[38;5;241m0\u001b[39m, \u001b[38;5;241m10\u001b[39m): \n",
      "\u001b[1;31mValueError\u001b[0m: invalid literal for int() with base 10: ''"
     ]
    }
   ],
   "source": [
    "base = int(input('Please enter base: '))\n",
    "A = []\n",
    "\n",
    "for i in range(0, 10): \n",
    "    A.append(base**i)\n",
    "print(f\"A = {A}\")"
   ]
  },
  {
   "cell_type": "markdown",
   "metadata": {},
   "source": [
    "**(Q2)** Given a list `A = [21, 27, 34, 23, 3, 22, 33, 1]`. Extract all items of `A` is divisble by 3 and store your result into a list called `divisibleBy3`. Create another list called `indices` which store the original location of all items in `divisibleBy3` in `A`\n",
    "\n",
    "Ans:\n",
    "```\n",
    "divisibleBy3 = [21, 27, 3, 33]\n",
    "indices = [0, 1, 4, 6]\n",
    "```"
   ]
  },
  {
   "cell_type": "code",
   "execution_count": 93,
   "metadata": {},
   "outputs": [
    {
     "name": "stdout",
     "output_type": "stream",
     "text": [
      "divisibleBy3 = [21, 27, 3, 33]\n",
      "indices = [0, 1, 4, 6]\n"
     ]
    }
   ],
   "source": [
    "A = [21, 27, 34, 23, 3, 22, 33, 1]\n",
    "divisibleBy3 = []\n",
    "indices = []\n",
    "\n",
    "for i, ele in enumerate(A): \n",
    "    if(ele % 3 == 0): \n",
    "        divisibleBy3.append(ele) \n",
    "        indices.append(i); \n",
    "print(f\"divisibleBy3 = {divisibleBy3}\")\n",
    "print(f\"indices = {indices}\")"
   ]
  },
  {
   "cell_type": "markdown",
   "metadata": {},
   "source": [
    "**(Q3)** Create the following two lists:\n",
    "\n",
    "names = ['John', 'Mokhtar', 'Choon Kit', 'Ramasamy']\n",
    "<br> scores = [10, 20, 16, 29]\n",
    "\n",
    "Then use a program to combine the two lists into one list as follows:\n",
    "\n",
    "Ans:\n",
    "`combined = [['John', 10], ['Mokhtar', 20], ['Choon Kit', 16], ['Ramasamy', 29]]`"
   ]
  },
  {
   "cell_type": "code",
   "execution_count": 94,
   "metadata": {},
   "outputs": [
    {
     "name": "stdout",
     "output_type": "stream",
     "text": [
      "combined = [['John', 10], ['Mokhtar', 20], ['Choon Kit', 16], ['Ramasamy', 29]]\n"
     ]
    }
   ],
   "source": [
    "names = ['John', 'Mokhtar', 'Choon Kit', 'Ramasamy'] \n",
    "scores = [10, 20, 16, 29]\n",
    "\n",
    "combined= []\n",
    "\n",
    "for x, y in zip(names, scores): \n",
    "    combined.append([x,y]) \n",
    "print(f\"combined = {combined}\")"
   ]
  },
  {
   "cell_type": "markdown",
   "metadata": {},
   "source": [
    "---\n",
    "## Tuple\n",
    "\n",
    "A tuple is a data structure that is similar to the list except that it is immutable once it is created, i.e., you cannot change its content once created. It takes up less memory for the same number of items compared to list. So, it is advisable to use tuples compared to list if possible. \n",
    "\n",
    "To **create a tuple**, use a parentheses rather than a square brackets."
   ]
  },
  {
   "cell_type": "code",
   "execution_count": 95,
   "metadata": {},
   "outputs": [
    {
     "name": "stdout",
     "output_type": "stream",
     "text": [
      "(3, 5)\n",
      "3\n"
     ]
    }
   ],
   "source": [
    "pair = (3,5)\n",
    "print(pair)\n",
    "print(pair[0])"
   ]
  },
  {
   "cell_type": "markdown",
   "metadata": {},
   "source": [
    "The attempt to modify an immutable structure will raise an exception. Exceptions indicate errors: index out of bounds errors, type errors, and so on will all report exceptions in this way."
   ]
  },
  {
   "cell_type": "code",
   "execution_count": 96,
   "metadata": {},
   "outputs": [
    {
     "ename": "TypeError",
     "evalue": "'tuple' object does not support item assignment",
     "output_type": "error",
     "traceback": [
      "\u001b[1;31m---------------------------------------------------------------------------\u001b[0m",
      "\u001b[1;31mTypeError\u001b[0m                                 Traceback (most recent call last)",
      "Cell \u001b[1;32mIn[96], line 1\u001b[0m\n\u001b[1;32m----> 1\u001b[0m pair[\u001b[38;5;241m1\u001b[39m] \u001b[38;5;241m=\u001b[39m \u001b[38;5;241m6\u001b[39m\n",
      "\u001b[1;31mTypeError\u001b[0m: 'tuple' object does not support item assignment"
     ]
    }
   ],
   "source": [
    "pair[1] = 6"
   ]
  },
  {
   "cell_type": "markdown",
   "metadata": {},
   "source": [
    "---\n",
    "## Set\n",
    "\n",
    "A set is another data structure that serves as an unordered list with **no duplicate items**. Below, we show how to create a set, add things to the set, test if an item is in the set, and perform common set operations (difference, intersection, union):\n",
    "\n",
    "**Create a new set from list**:"
   ]
  },
  {
   "cell_type": "code",
   "execution_count": 97,
   "metadata": {},
   "outputs": [
    {
     "data": {
      "text/plain": [
       "{'circle', 'square', 'triangle'}"
      ]
     },
     "execution_count": 97,
     "metadata": {},
     "output_type": "execute_result"
    }
   ],
   "source": [
    "shapes = ['circle','square','triangle','circle']\n",
    "setOfShapes = set(shapes)\n",
    "setOfShapes "
   ]
  },
  {
   "cell_type": "markdown",
   "metadata": {},
   "source": [
    "**Insert new items into a set**:"
   ]
  },
  {
   "cell_type": "code",
   "execution_count": 98,
   "metadata": {},
   "outputs": [
    {
     "data": {
      "text/plain": [
       "{'circle', 'polygon', 'square', 'triangle'}"
      ]
     },
     "execution_count": 98,
     "metadata": {},
     "output_type": "execute_result"
    }
   ],
   "source": [
    "setOfShapes.add('polygon') \n",
    "setOfShapes "
   ]
  },
  {
   "cell_type": "markdown",
   "metadata": {},
   "source": [
    "A set would not add items that already exist in the set. Note that the items in `setOfShapes` remain unchanged after the following two `add` operations."
   ]
  },
  {
   "cell_type": "code",
   "execution_count": 99,
   "metadata": {},
   "outputs": [
    {
     "name": "stdout",
     "output_type": "stream",
     "text": [
      "{'triangle', 'circle', 'square', 'polygon'}\n"
     ]
    }
   ],
   "source": [
    "setOfShapes.add ('circle')\n",
    "setOfShapes.add('triangle')\n",
    "print(setOfShapes)"
   ]
  },
  {
   "cell_type": "markdown",
   "metadata": {},
   "source": [
    "**Check if exist in set**:"
   ]
  },
  {
   "cell_type": "code",
   "execution_count": 100,
   "metadata": {},
   "outputs": [
    {
     "name": "stdout",
     "output_type": "stream",
     "text": [
      "circle exists in setOfShapes\n",
      "rhombus does not exist in setOfShapes\n"
     ]
    }
   ],
   "source": [
    "if 'circle' in setOfShapes:\n",
    "    print ('circle exists in setOfShapes')\n",
    "else:\n",
    "    print ('circle does not exist in setOfShapes')\n",
    "    \n",
    "if 'rhombus' in setOfShapes:\n",
    "    print ('rhombus exists in setOfShapes')\n",
    "else:\n",
    "    print ('rhombus does not exist in setOfShapes')\n",
    "    "
   ]
  },
  {
   "cell_type": "markdown",
   "metadata": {},
   "source": [
    "**Operations on set**:\n",
    "\n",
    "The following shows how to perform intersection (`&`), union (`|`) and deletion (`-`) operation on two sets."
   ]
  },
  {
   "cell_type": "code",
   "execution_count": 101,
   "metadata": {},
   "outputs": [
    {
     "name": "stdout",
     "output_type": "stream",
     "text": [
      "setOfShapes:          {'triangle', 'circle', 'square', 'polygon'}\n",
      "setOfFavoriteShapes:  {'triangle', 'circle', 'hexagon'}\n",
      "\n",
      "setOfShapes - setOfFavoriteShapes: {'polygon', 'square'}\n",
      "setOfShapes & setOfFavoriteShapes: {'triangle', 'circle'}\n",
      "setOfShapes | setOfFavoriteShapes: {'polygon', 'hexagon', 'triangle', 'circle', 'square'}\n"
     ]
    }
   ],
   "source": [
    "favoriteShapes = ['circle','triangle','hexagon']\n",
    "setOfFavoriteShapes = set(favoriteShapes)\n",
    "print ('setOfShapes:         ', setOfShapes)\n",
    "print ('setOfFavoriteShapes: ', setOfFavoriteShapes)\n",
    "print ()\n",
    "\n",
    "print('setOfShapes - setOfFavoriteShapes:', setOfShapes - setOfFavoriteShapes)\n",
    "print('setOfShapes & setOfFavoriteShapes:', setOfShapes & setOfFavoriteShapes)\n",
    "print('setOfShapes | setOfFavoriteShapes:', setOfShapes | setOfFavoriteShapes)"
   ]
  },
  {
   "cell_type": "markdown",
   "metadata": {},
   "source": [
    "### Exercise 5"
   ]
  },
  {
   "cell_type": "markdown",
   "metadata": {},
   "source": [
    "**(Q1)** Write a program that gets a string from the user and then display a list of the unique words found in the string.\n",
    "\n",
    "Example output:\n",
    "```\n",
    "Enter a string containing at least 5 words: hello how do you do\n",
    "{'hello', 'how', 'you', 'do'}\n",
    "```\n",
    "\n",
    "Hints: use\n",
    "* `<string>.split()` to split a string into a list of words.\n",
    "* Create a `set` object to keep a unique set of items from a list"
   ]
  },
  {
   "cell_type": "code",
   "execution_count": 102,
   "metadata": {},
   "outputs": [
    {
     "name": "stdout",
     "output_type": "stream",
     "text": [
      "\n",
      "{''}\n"
     ]
    }
   ],
   "source": [
    "s = input(\"Enter a string containing at least 5 words: \") \n",
    "print(s)\n",
    "stringSet = set(s.split(\" \"))\n",
    "print(stringSet)"
   ]
  },
  {
   "cell_type": "markdown",
   "metadata": {},
   "source": [
    "---\n",
    "## Dictionary\n",
    "\n",
    "The last built-in data structure is the dictionary which stores a map from one type of object (the `key`) to another (the `value`). \n",
    "* The `key` must be an immutable type (string, number, or tuple). \n",
    "* The `value` can be any Python data type.\n",
    "\n",
    "**Creating a dictionary**:\n",
    "\n",
    "There are many ways to create a dictionary. In this tutorial, we will introduce four ways in how to create a dictionary. \n",
    "\n",
    "* standard way by usig culry brack{}\n",
    "* passs a list of tuples to dict constructor\n",
    "* pass keyword arguments to the dict constructor\n",
    "* using list comprehensions\n"
   ]
  },
  {
   "cell_type": "markdown",
   "metadata": {},
   "source": [
    "(1) The standard way is to use the curly bracket `{}`."
   ]
  },
  {
   "cell_type": "code",
   "execution_count": 103,
   "metadata": {},
   "outputs": [
    {
     "data": {
      "text/plain": [
       "{'joe': 42.0, 'mary': 56.0}"
      ]
     },
     "execution_count": 103,
     "metadata": {},
     "output_type": "execute_result"
    }
   ],
   "source": [
    "studentIds = {'joe': 42.0, 'mary': 56.0}\n",
    "studentIds"
   ]
  },
  {
   "cell_type": "markdown",
   "metadata": {},
   "source": [
    "(2)  The second way is to pass a list of tuples to the dict constructor:"
   ]
  },
  {
   "cell_type": "code",
   "execution_count": 104,
   "metadata": {},
   "outputs": [
    {
     "data": {
      "text/plain": [
       "{'sape': 4139, 'guido': 4127, 'jack': 4098}"
      ]
     },
     "execution_count": 104,
     "metadata": {},
     "output_type": "execute_result"
    }
   ],
   "source": [
    "d1 = dict([('sape', 4139), ('guido', 4127), ('jack', 4098)])\n",
    "d1"
   ]
  },
  {
   "cell_type": "markdown",
   "metadata": {},
   "source": [
    "Notes: In the above example, *the order of the keys returned by Python would be different than the order in the code*. Therefore, do NOT rely on key ordering when using dictionary.\n",
    "\n",
    "(3) The third way is to pass keyword arguments to the dict constructor:"
   ]
  },
  {
   "cell_type": "code",
   "execution_count": 105,
   "metadata": {},
   "outputs": [
    {
     "data": {
      "text/plain": [
       "{'sape': 4139, 'guido': 4127, 'jack': 4098}"
      ]
     },
     "execution_count": 105,
     "metadata": {},
     "output_type": "execute_result"
    }
   ],
   "source": [
    "d2 = dict(sape=4139, guido=4127, jack=4098)\n",
    "d2"
   ]
  },
  {
   "cell_type": "markdown",
   "metadata": {},
   "source": [
    "(4) Lastly, you can also use two different lists, one for keys and the other for values. Then, we can construct the dictionary using list comprehensions (to be covered next)."
   ]
  },
  {
   "cell_type": "code",
   "execution_count": 106,
   "metadata": {},
   "outputs": [
    {
     "data": {
      "text/plain": [
       "{'joe': 42.0, 'mary': 56.0}"
      ]
     },
     "execution_count": 106,
     "metadata": {},
     "output_type": "execute_result"
    }
   ],
   "source": [
    "namelist = ['joe', 'mary']\n",
    "Ids = [42.0, 56.0]\n",
    "d3 = {name: age for name, age in zip(namelist, Ids)}\n",
    "d3"
   ]
  },
  {
   "cell_type": "markdown",
   "metadata": {},
   "source": [
    "**Indexing an item in dictionary**:"
   ]
  },
  {
   "cell_type": "code",
   "execution_count": 107,
   "metadata": {},
   "outputs": [
    {
     "name": "stdout",
     "output_type": "stream",
     "text": [
      "{'joe': 42.0, 'mary': 56.0}\n",
      "56.0\n",
      "{'joe': 42.0, 'mary': 100}\n"
     ]
    }
   ],
   "source": [
    "studentIds = {'joe': 42.0, 'mary': 56.0}\n",
    "print (studentIds)\n",
    "\n",
    "# accessing the item with key 'mary'\n",
    "print(studentIds['mary'])\n",
    "\n",
    "\n",
    "# Changing the item with key 'mary'\n",
    "studentIds['mary'] = 100\n",
    "print(studentIds)"
   ]
  },
  {
   "cell_type": "markdown",
   "metadata": {},
   "source": [
    "**Adding an item in dictionary**:"
   ]
  },
  {
   "cell_type": "code",
   "execution_count": 108,
   "metadata": {},
   "outputs": [
    {
     "data": {
      "text/plain": [
       "{'joe': 42.0, 'mary': 100, 'ali': 92.0}"
      ]
     },
     "execution_count": 108,
     "metadata": {},
     "output_type": "execute_result"
    }
   ],
   "source": [
    "studentIds['ali'] = 92.0\n",
    "studentIds"
   ]
  },
  {
   "cell_type": "markdown",
   "metadata": {},
   "source": [
    "**The values can be of different types**:"
   ]
  },
  {
   "cell_type": "code",
   "execution_count": 109,
   "metadata": {},
   "outputs": [
    {
     "name": "stdout",
     "output_type": "stream",
     "text": [
      "{'joe': 'forty-two', 'mary': 100, 'ali': 92.0}\n",
      "{'joe': 'forty-two', 'mary': 100, 'ali': [42.0, 'forty-two']}\n"
     ]
    }
   ],
   "source": [
    "studentIds['joe'] = 'forty-two'         # string type\n",
    "print(studentIds)\n",
    "\n",
    "studentIds['ali'] = [42.0,'forty-two']  # list type\n",
    "print(studentIds)"
   ]
  },
  {
   "cell_type": "markdown",
   "metadata": {},
   "source": [
    "**Getting the size of a dictionary**:"
   ]
  },
  {
   "cell_type": "code",
   "execution_count": 110,
   "metadata": {},
   "outputs": [
    {
     "data": {
      "text/plain": [
       "3"
      ]
     },
     "execution_count": 110,
     "metadata": {},
     "output_type": "execute_result"
    }
   ],
   "source": [
    "len(studentIds)"
   ]
  },
  {
   "cell_type": "markdown",
   "metadata": {},
   "source": [
    "**Accessing the keys and values in dictionary**:"
   ]
  },
  {
   "cell_type": "code",
   "execution_count": 111,
   "metadata": {},
   "outputs": [
    {
     "name": "stdout",
     "output_type": "stream",
     "text": [
      "dict_keys(['joe', 'mary', 'ali'])\n",
      "dict_values(['forty-two', 100, [42.0, 'forty-two']])\n"
     ]
    }
   ],
   "source": [
    "print(studentIds.keys())\n",
    "print(studentIds.values())"
   ]
  },
  {
   "cell_type": "markdown",
   "metadata": {},
   "source": [
    "**Converting the dict_keys and dict_values directly to list**:"
   ]
  },
  {
   "cell_type": "code",
   "execution_count": 112,
   "metadata": {},
   "outputs": [
    {
     "name": "stdout",
     "output_type": "stream",
     "text": [
      "['joe', 'mary', 'ali']\n",
      "joe\n",
      "mary\n",
      "ali\n",
      "['forty-two', 100, [42.0, 'forty-two']]\n",
      "forty-two\n",
      "100\n",
      "[42.0, 'forty-two']\n"
     ]
    }
   ],
   "source": [
    "print(list(studentIds.keys()))\n",
    "for k in list(studentIds.keys()):\n",
    "    print(k)\n",
    "\n",
    "print(list(studentIds.values()))\n",
    "for v in list(studentIds.values()):\n",
    "    print(v)"
   ]
  },
  {
   "cell_type": "markdown",
   "metadata": {},
   "source": [
    "**Accessing items, keys and values in a dictionary**:\n",
    "\n",
    "* `<dictionary>.items()` is an iterable object. When used with `for`, it iterates through the list of all *items* in `dictionary`, returning one item at a time. Each item is a tuple  `(key, value)`.\n",
    "* `<dictionary>.keys()` is an iterable object. When used with `for`, it iterates through the *keys* of all items in `dictionary`, returning one key at a time. \n",
    "* `<dictionary>.values()` is an iterable object. When used with `for`, it iterates through the *values* of all items in `dictionary`, returning one value at a time. "
   ]
  },
  {
   "cell_type": "code",
   "execution_count": 113,
   "metadata": {},
   "outputs": [
    {
     "name": "stdout",
     "output_type": "stream",
     "text": [
      "All items in studentIds: \n",
      "joe : forty-two\n",
      "mary : 100\n",
      "ali : [42.0, 'forty-two']\n",
      "\n",
      "The keys of all items in studentIds: \n",
      "joe\n",
      "mary\n",
      "ali\n",
      "\n",
      "The values of all items in studentIds: \n",
      "forty-two\n",
      "100\n",
      "[42.0, 'forty-two']\n"
     ]
    }
   ],
   "source": [
    "print('All items in studentIds: ')\n",
    "for item in studentIds.items(): \n",
    "    print (item[0], ':', item[1])   # item[0] is the key, item[1] is the value\n",
    "\n",
    "print('\\nThe keys of all items in studentIds: ')\n",
    "for key in studentIds.keys():\n",
    "    print (key)\n",
    "\n",
    "print('\\nThe values of all items in studentIds: ')\n",
    "for value in studentIds.values():\n",
    "    print (value)"
   ]
  },
  {
   "cell_type": "markdown",
   "metadata": {},
   "source": [
    "**Removing an item from dictionary**:"
   ]
  },
  {
   "cell_type": "code",
   "execution_count": 114,
   "metadata": {},
   "outputs": [
    {
     "data": {
      "text/plain": [
       "{'mary': 100, 'ali': [42.0, 'forty-two']}"
      ]
     },
     "execution_count": 114,
     "metadata": {},
     "output_type": "execute_result"
    }
   ],
   "source": [
    "del studentIds['joe']\n",
    "studentIds"
   ]
  },
  {
   "cell_type": "markdown",
   "metadata": {},
   "source": [
    "As with nested lists, you can also create dictionaries of dictionaries."
   ]
  },
  {
   "cell_type": "markdown",
   "metadata": {},
   "source": [
    "### Exercise 6"
   ]
  },
  {
   "cell_type": "markdown",
   "metadata": {},
   "source": [
    "**Q1**. Write a Python script to create the following dictionary `{0: 10, 1: 20}`. Then, add the following new key to the dictionary `{2: 30}`. Then remove the record with key `1`."
   ]
  },
  {
   "cell_type": "code",
   "execution_count": 115,
   "metadata": {},
   "outputs": [
    {
     "name": "stdout",
     "output_type": "stream",
     "text": [
      "{0: 10, 1: 20, 2: 30}\n",
      "{0: 10, 2: 30}\n"
     ]
    }
   ],
   "source": [
    "d1 = {0:10, 1:20}\n",
    "d1[2] = 30\n",
    "print(f\"{d1}\") \n",
    "del d1[1]\n",
    "print(d1)"
   ]
  },
  {
   "cell_type": "markdown",
   "metadata": {},
   "source": [
    "**Q2**. Create the dictionary `d = {'p': 10, 'y': 20, 't': 30, 'h': 40, 'o': 50, 'n': 60}`. Then ask the user for a key. If the key is present, then return the value for the key. Else, inform the user that `Key is not present in the dictionary`"
   ]
  },
  {
   "cell_type": "code",
   "execution_count": 116,
   "metadata": {},
   "outputs": [
    {
     "name": "stdout",
     "output_type": "stream",
     "text": [
      "Key is not present in the dictionary \n"
     ]
    }
   ],
   "source": [
    "d = {'p': 10, 'y': 20, 't': 30, 'h': 40, 'o': 50, 'n': 60} \n",
    "askKey = input(\"Please enter a key: \")\n",
    "keyPresent = False \n",
    "for ele in d.items(): \n",
    "    if ele[0] == askKey: \n",
    "        print(f\"The value of {ele[0]} is {ele[1]}\") \n",
    "        keyPresent = True\n",
    "if keyPresent == False: \n",
    "    print(\"Key is not present in the dictionary \") "
   ]
  },
  {
   "cell_type": "markdown",
   "metadata": {},
   "source": [
    "---\n",
    "## LIST COMPREHENSION\n",
    "List comprehension provide a concise way to create a lists.  Let's say you want to create a list of squares. \n",
    "The normal way to do this is as follows:"
   ]
  },
  {
   "cell_type": "code",
   "execution_count": 117,
   "metadata": {},
   "outputs": [
    {
     "name": "stdout",
     "output_type": "stream",
     "text": [
      "[0, 1, 4, 9, 16, 25, 36, 49, 64, 81]\n"
     ]
    }
   ],
   "source": [
    "squares = []\n",
    "for x in range(10):\n",
    "    squares.append (x**2)\n",
    "print(squares)"
   ]
  },
  {
   "cell_type": "markdown",
   "metadata": {},
   "source": [
    "List Comprehension can help you represent the loop more concisely as follows:"
   ]
  },
  {
   "cell_type": "code",
   "execution_count": 118,
   "metadata": {},
   "outputs": [
    {
     "name": "stdout",
     "output_type": "stream",
     "text": [
      "[0, 1, 4, 9, 16, 25, 36, 49, 64, 81]\n"
     ]
    }
   ],
   "source": [
    "squares2 = [x**2 for x in range(10)]\n",
    "print(squares2)"
   ]
  },
  {
   "cell_type": "markdown",
   "metadata": {},
   "source": [
    "You can also do filtering on the items that you want to operate on. Let's say we want to extract only odd numbers from  a list and then multiply all of them by 100:"
   ]
  },
  {
   "cell_type": "code",
   "execution_count": 119,
   "metadata": {},
   "outputs": [
    {
     "name": "stdout",
     "output_type": "stream",
     "text": [
      "[100, 300, 500, 700]\n"
     ]
    }
   ],
   "source": [
    "nums = [1, 2, 3, 4, 5, 6, 7]\n",
    "result = [x*100 for x in nums if x % 2 == 1]\n",
    "print (result)"
   ]
  },
  {
   "cell_type": "markdown",
   "metadata": {},
   "source": [
    "So the basic syntax for List Comprehension is: [ expression **for** item **in** list **if** conditional ]\n",
    "<br>\n",
    "This is equivalent to:\n",
    "<br>\n",
    "**for** item **in** list:\n",
    "<br>&emsp;&emsp;**if** conditional:\n",
    "<br>&emsp;&emsp;&emsp;&emsp;expression"
   ]
  },
  {
   "cell_type": "markdown",
   "metadata": {},
   "source": [
    "## Exercise 7\n",
    "\n",
    "**Q1**. Generate an array of 10 numbers with random numbers between 0 and 20. To generate random number, use the command\n",
    "\n",
    "```\n",
    "import numpy as np\n",
    "np.random.randint(a, b).\n",
    "```"
   ]
  },
  {
   "cell_type": "code",
   "execution_count": 120,
   "metadata": {},
   "outputs": [
    {
     "name": "stdout",
     "output_type": "stream",
     "text": [
      "[11, 7, 5, 15, 9, 0, 11, 4, 19, 19]\n"
     ]
    }
   ],
   "source": [
    "import numpy as np \n",
    "randNum = [np.random.randint(0, 20) for i in range(10)]\n",
    "print(randNum)"
   ]
  },
  {
   "cell_type": "markdown",
   "metadata": {},
   "source": [
    "**Q2**. Let’s say I give you a list saved in a variable: `a = [1, 4, 9, 16, 25, 36, 49, 64, 81, 100]`. Write one line of Python code that takes this list *a* and makes a new list that has only the even elements of this list in it."
   ]
  },
  {
   "cell_type": "code",
   "execution_count": 121,
   "metadata": {},
   "outputs": [
    {
     "name": "stdout",
     "output_type": "stream",
     "text": [
      "[4, 16, 36, 64, 100]\n"
     ]
    }
   ],
   "source": [
    "a = [1, 4, 9, 16, 25, 36, 49, 64, 81, 100]\n",
    "evenList = [ele for ele in a if ele % 2 == 0]\n",
    "print(evenList)"
   ]
  }
 ],
 "metadata": {
  "kernelspec": {
   "display_name": "base",
   "language": "python",
   "name": "python3"
  },
  "language_info": {
   "codemirror_mode": {
    "name": "ipython",
    "version": 3
   },
   "file_extension": ".py",
   "mimetype": "text/x-python",
   "name": "python",
   "nbconvert_exporter": "python",
   "pygments_lexer": "ipython3",
   "version": "3.13.5"
  }
 },
 "nbformat": 4,
 "nbformat_minor": 4
}
