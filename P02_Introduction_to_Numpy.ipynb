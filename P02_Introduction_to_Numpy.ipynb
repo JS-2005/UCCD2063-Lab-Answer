{
 "cells": [
  {
   "cell_type": "markdown",
   "metadata": {},
   "source": [
    "# P02: INTRODUCTION TO NUMPY\n",
    "1. [ARRAY CREATION](#SECTION-1:-ARRAY-CREATION)\n",
    "   1. [Creating an array from a list or tuple](#Creating-an-array-from-a-list-or-tuple)\n",
    "   2. [Creating arrays initialized with zeros or ones](#Creating-arrays-initialized-with-zeros-or-ones)\n",
    "   3. [Generating number sequences](#Generating-number-sequences)\n",
    "   4. [Random number generator](#Random-number-generator)\n",
    "   5. [Seeding the random generator](#Seeding-the-random-generator)\n",
    "   6. [Exercise 1](#Exercise-1)\n",
    "2. [SECTION 2: NUMERICAL OPERATIONS](#SECTION-2:-NUMERICAL-OPERATIONS)\n",
    "   1. [Exercise 2](#Exercise-2)\n",
    "3. [SECTION 3: INDEXING, SLICING AND ITERATING](#SECTION-3:-INDEXING,-SLICING-AND-ITERATING)\n",
    "   1. [Simple Indexing and Slicing](#Simple-Indexing-and-Slicing)\n",
    "   2. [Indexing with Integer Arrays](#Indexing-with-Integer-Arrays)\n",
    "   3. [Indexing with Boolean Arrays](#Indexing-with-Boolean-Arrays)\n",
    "   4. [Exercise 3](#Exercise-3)\n",
    "4. [SECTION 4: MATRIX COMPUTATION](#SECTION-4:-MATRIX-COMPUTATION)\n",
    "   1. [Exercise 4](#Exercise-4)\n",
    "5. [SECTION 5: COPIES vs VIEWS](#SECTION-5:-COPIES-vs-VIEWS)\n",
    "   1. [Reference copy](#Reference-copy)\n",
    "   2. [View copy](#View-copy)\n",
    "   3. [Copy](#Copy)\n",
    "6. [SECTION 6: MANIPULATING ARRAYS](#SECTION-6:-MANIPULATING-ARRAYS)\n",
    "   1. [Exercise 5](#Exercise-5)\n",
    "7. [SECTION 7: ARRAY BROADCASTING](#SECTION-7:-ARRAY-BROADCASTING)\n",
    "   1. [Exercise 6](#Exercise-6)\n",
    "\n",
    "Reference: \n",
    "\n",
    "The numpy reference and user guide are available in this [link](https://docs.scipy.org/doc/)\n",
    "\n",
    "This tutorial is adapted from [SciPy Quickstart Tutorial](https://docs.scipy.org/doc/numpy-dev/user/quickstart.html#fancy-indexing-and-index-tricks). If you need more exercises, you can work on [100 numpy exercises](http://www.labri.fr/perso/nrougier/teaching/numpy.100/)\n",
    "\n"
   ]
  },
  {
   "cell_type": "markdown",
   "metadata": {},
   "source": [
    "---\n",
    "# INTRODUCTION\n",
    "\n",
    "### What is numpy?\n",
    "\n",
    "NumPy is the fundamental package required for high performance scientific computing and data analysis. It issued by practically all other scientific tools, such as Panda and Scikit. The following code shows how to import the numpy library."
   ]
  },
  {
   "cell_type": "code",
   "execution_count": 1,
   "metadata": {},
   "outputs": [],
   "source": [
    "import numpy as np          # import numpy library"
   ]
  },
  {
   "cell_type": "markdown",
   "metadata": {},
   "source": [
    "Why numpy? \n",
    "* Numpy is *much faster* for scientific computation compared to conventional Python methods. \n",
    "* Provides standard mathematical functions for fast operations on entire arrays of data without having to write loops (easier to write)\n",
    "* Provides tools for reading / writing array data to disk\n",
    "* Linear algebra, random number generation capabilities"
   ]
  },
  {
   "cell_type": "markdown",
   "metadata": {},
   "source": [
    "---\n",
    "## SECTION 1: ARRAY CREATION\n",
    "\n",
    "### Creating an array from a list or tuple\n",
    "\n",
    "**`np.array`**: \n",
    "\n",
    "Creates a *numpy array* using a normal python *list* or *tuple*.\n",
    "\n",
    "#### Creating 1-D array"
   ]
  },
  {
   "cell_type": "code",
   "execution_count": 2,
   "metadata": {},
   "outputs": [
    {
     "data": {
      "text/plain": [
       "array([2, 3, 4])"
      ]
     },
     "execution_count": 2,
     "metadata": {},
     "output_type": "execute_result"
    }
   ],
   "source": [
    "a = np.array([2,3,4]) \n",
    "a"
   ]
  },
  {
   "cell_type": "code",
   "execution_count": 3,
   "metadata": {},
   "outputs": [
    {
     "data": {
      "text/plain": [
       "array([2, 4, 6, 8])"
      ]
     },
     "execution_count": 3,
     "metadata": {},
     "output_type": "execute_result"
    }
   ],
   "source": [
    "list1 = [2,4,6,8]\n",
    "a = np.array(list1)\n",
    "a"
   ]
  },
  {
   "cell_type": "markdown",
   "metadata": {},
   "source": [
    "Displaying the information about the array"
   ]
  },
  {
   "cell_type": "code",
   "execution_count": 4,
   "metadata": {
    "scrolled": true
   },
   "outputs": [
    {
     "name": "stdout",
     "output_type": "stream",
     "text": [
      "Shape of a = (4,)\n",
      "Number of dimensions of a = 1\n",
      "Number of items of vector a = 4\n"
     ]
    }
   ],
   "source": [
    "print('Shape of a =', a.shape)                    # number items in each dimension\n",
    "print('Number of dimensions of a =', a.ndim)      # number of dimensions\n",
    "print('Number of items of vector a =', len(a))    # number of items in 1st dimension. Since 'a' is a vector, \n",
    "                                                  #     this corresponds to number of items in a"
   ]
  },
  {
   "cell_type": "markdown",
   "metadata": {},
   "source": [
    "Displaying the type of the array or its elements "
   ]
  },
  {
   "cell_type": "code",
   "execution_count": 5,
   "metadata": {},
   "outputs": [
    {
     "name": "stdout",
     "output_type": "stream",
     "text": [
      "Type of a = <class 'numpy.ndarray'>\n",
      "Type of items in a = int64\n"
     ]
    }
   ],
   "source": [
    "print('Type of a =', type(a))                     # a is a list\n",
    "print('Type of items in a =', a.dtype)            # the items stored in a is an integer"
   ]
  },
  {
   "cell_type": "markdown",
   "metadata": {},
   "source": [
    "#### Creating 2-D array"
   ]
  },
  {
   "cell_type": "code",
   "execution_count": 6,
   "metadata": {},
   "outputs": [
    {
     "data": {
      "text/plain": [
       "array([[ 1,  2,  3,  4,  5],\n",
       "       [ 6,  7,  8,  9, 10],\n",
       "       [11, 12, 13, 14, 15]])"
      ]
     },
     "execution_count": 6,
     "metadata": {},
     "output_type": "execute_result"
    }
   ],
   "source": [
    "a = np.array([[1, 2, 3, 4, 5],[6, 7, 8, 9, 10], [11, 12, 13, 14, 15]])\n",
    "a"
   ]
  },
  {
   "cell_type": "code",
   "execution_count": 7,
   "metadata": {},
   "outputs": [
    {
     "name": "stdout",
     "output_type": "stream",
     "text": [
      "Shape of a = (3, 5)\n",
      "Number of dimensions of a = 2\n",
      "Number of rows of matrix a = 3\n"
     ]
    }
   ],
   "source": [
    "print('Shape of a =', a.shape)                    # number of items in each dimension\n",
    "print('Number of dimensions of a =', a.ndim)      # number of dimensions\n",
    "print('Number of rows of matrix a =', len(a))     # number of items in 1st dimension. Since 'a' is a matrix, \n",
    "                                                  #     this corresponds to number of rows in a"
   ]
  },
  {
   "cell_type": "markdown",
   "metadata": {},
   "source": [
    "#### Arrays of different type"
   ]
  },
  {
   "cell_type": "markdown",
   "metadata": {},
   "source": [
    "The type is automatically inferred by the values in the list"
   ]
  },
  {
   "cell_type": "code",
   "execution_count": 8,
   "metadata": {},
   "outputs": [
    {
     "name": "stdout",
     "output_type": "stream",
     "text": [
      "[[1.5 2.  3. ]\n",
      " [4.  5.  6. ]]\n",
      "float64\n"
     ]
    }
   ],
   "source": [
    "a = np.array([(1.5, 2, 3), (4, 5, 6)])\n",
    "print(a)\n",
    "print(a.dtype)"
   ]
  },
  {
   "cell_type": "markdown",
   "metadata": {},
   "source": [
    "The type of the array can also be explicitly specified at creation time:"
   ]
  },
  {
   "cell_type": "code",
   "execution_count": 9,
   "metadata": {},
   "outputs": [
    {
     "data": {
      "text/plain": [
       "array([[ True,  True],\n",
       "       [False,  True]])"
      ]
     },
     "execution_count": 9,
     "metadata": {},
     "output_type": "execute_result"
    }
   ],
   "source": [
    "a = np.array( [ [1,1], [0,1] ], dtype=bool)\n",
    "a"
   ]
  },
  {
   "cell_type": "markdown",
   "metadata": {},
   "source": [
    "### Creating arrays initialized with zeros or ones\n",
    "\n",
    "**`np.ones`** and **`np.zeros`**: \n",
    "\n",
    "Creates array initialized to ones and zeros, respectively"
   ]
  },
  {
   "cell_type": "code",
   "execution_count": 10,
   "metadata": {},
   "outputs": [
    {
     "data": {
      "text/plain": [
       "array([[0., 0., 0., 0., 0.],\n",
       "       [0., 0., 0., 0., 0.],\n",
       "       [0., 0., 0., 0., 0.]])"
      ]
     },
     "execution_count": 10,
     "metadata": {},
     "output_type": "execute_result"
    }
   ],
   "source": [
    "all_zeros = np.zeros((3, 5)) \n",
    "all_zeros"
   ]
  },
  {
   "cell_type": "code",
   "execution_count": 11,
   "metadata": {},
   "outputs": [
    {
     "data": {
      "text/plain": [
       "array([1., 1., 1.])"
      ]
     },
     "execution_count": 11,
     "metadata": {},
     "output_type": "execute_result"
    }
   ],
   "source": [
    "all_ones = np.ones(3)\n",
    "all_ones"
   ]
  },
  {
   "cell_type": "markdown",
   "metadata": {},
   "source": [
    "### Generating number sequences\n",
    "\n",
    "#### Generating evenly spaced values within an interval\n",
    "\n",
    "**`np.arange`**\n",
    "\n",
    "`np.arange` returns evenly spaced values within a given interval. Values are generated within the half-open interval `[start, stop)`. This means the interval includes `start` but excluding `stop`. For integer arguments, the function is equivalent to the Python built-in `range` function, but returns an `ndarray` (numpy array type)rather than a `list`."
   ]
  },
  {
   "cell_type": "code",
   "execution_count": 12,
   "metadata": {},
   "outputs": [
    {
     "name": "stdout",
     "output_type": "stream",
     "text": [
      "[10 15 20 25]\n"
     ]
    }
   ],
   "source": [
    "a = np.arange( 10, 30, 5 )                  # the parameters are start, end, step. Note that end is not inclusive.\n",
    "print(a)"
   ]
  },
  {
   "cell_type": "markdown",
   "metadata": {},
   "source": [
    "`np.arange` can also work with float argument as well"
   ]
  },
  {
   "cell_type": "code",
   "execution_count": 13,
   "metadata": {},
   "outputs": [
    {
     "name": "stdout",
     "output_type": "stream",
     "text": [
      "[0.  0.3 0.6 0.9 1.2 1.5 1.8]\n"
     ]
    }
   ],
   "source": [
    "b =  np.arange( 0, 2, 0.3 )                 # it accepts float arguments as well\n",
    "print(b)"
   ]
  },
  {
   "cell_type": "markdown",
   "metadata": {},
   "source": [
    "`np.arange` also accepts one parameter (`end`). By default, `start` = 0 and `step` = 1 "
   ]
  },
  {
   "cell_type": "code",
   "execution_count": 14,
   "metadata": {},
   "outputs": [
    {
     "data": {
      "text/plain": [
       "array([0, 1, 2, 3, 4, 5, 6, 7, 8, 9])"
      ]
     },
     "execution_count": 14,
     "metadata": {},
     "output_type": "execute_result"
    }
   ],
   "source": [
    "c = np.arange(10)                           # starts = 0 and step = 1 \n",
    "c"
   ]
  },
  {
   "cell_type": "markdown",
   "metadata": {},
   "source": [
    "#### Generating a certain number of items within an interval\n",
    "\n",
    "**`np.linspace`**\n",
    "\n",
    "Returns a particular number of numbers that are evenly spaced over a specified interval. "
   ]
  },
  {
   "cell_type": "code",
   "execution_count": 15,
   "metadata": {},
   "outputs": [
    {
     "name": "stdout",
     "output_type": "stream",
     "text": [
      "a =  [0.   0.25 0.5  0.75 1.   1.25 1.5  1.75 2.  ]\n"
     ]
    }
   ],
   "source": [
    "from numpy import pi\n",
    "a = np.linspace( 0, 2, 9 )                 # generates a total of 9 numbers ranging from from 0 to 2\n",
    "print('a = ', a)"
   ]
  },
  {
   "cell_type": "code",
   "execution_count": 16,
   "metadata": {},
   "outputs": [
    {
     "name": "stdout",
     "output_type": "stream",
     "text": [
      "x =  [0.         0.6981317  1.3962634  2.0943951  2.7925268  3.4906585\n",
      " 4.1887902  4.88692191 5.58505361 6.28318531]\n",
      "f =  [ 0.00000000e+00  6.42787610e-01  9.84807753e-01  8.66025404e-01\n",
      "  3.42020143e-01 -3.42020143e-01 -8.66025404e-01 -9.84807753e-01\n",
      " -6.42787610e-01 -2.44929360e-16]\n"
     ]
    }
   ],
   "source": [
    "x = np.linspace( 0, 2*pi, 10)        # useful to evaluate function at lots of points\n",
    "print('x = ', x) \n",
    "\n",
    "f = np.sin(x)\n",
    "print('f = ', f)"
   ]
  },
  {
   "cell_type": "markdown",
   "metadata": {},
   "source": [
    "### Random number generator\n",
    "\n",
    "**`np.random.rand()`**: \n",
    "\n",
    "Creates an array of the given shape and populate it with random samples from a *uniform* distribution over `[0, 1)` (i.e., inclusive of 0 but exclusive of 1) "
   ]
  },
  {
   "cell_type": "code",
   "execution_count": 17,
   "metadata": {},
   "outputs": [
    {
     "data": {
      "text/plain": [
       "0.9572248917101964"
      ]
     },
     "execution_count": 17,
     "metadata": {},
     "output_type": "execute_result"
    }
   ],
   "source": [
    "np.random.rand()              # generate a random scalar number uniform in [0,1)"
   ]
  },
  {
   "cell_type": "code",
   "execution_count": 18,
   "metadata": {},
   "outputs": [
    {
     "data": {
      "text/plain": [
       "array([0.34637659, 0.28828955, 0.20679151, 0.40936109])"
      ]
     },
     "execution_count": 18,
     "metadata": {},
     "output_type": "execute_result"
    }
   ],
   "source": [
    "np.random.rand(4)            # generates an array of size 4"
   ]
  },
  {
   "cell_type": "code",
   "execution_count": 19,
   "metadata": {},
   "outputs": [
    {
     "data": {
      "text/plain": [
       "array([[0.86098871, 0.44198414],\n",
       "       [0.88838921, 0.33285146],\n",
       "       [0.41232439, 0.00662088]])"
      ]
     },
     "execution_count": 19,
     "metadata": {},
     "output_type": "execute_result"
    }
   ],
   "source": [
    "np.random.rand(3,2)          # generates a matrix of size 3x2"
   ]
  },
  {
   "cell_type": "markdown",
   "metadata": {},
   "source": [
    "**`np.random.randint(low, high=None, size=None)`**: \n",
    "\n",
    "Returns an array of size `size`. The array is populated with random integers from the *discrete uniform* distribution in the interval `[low, high)` (excluding `high`). If `high` is `None` (the default), then results are from `[0, low)`."
   ]
  },
  {
   "cell_type": "code",
   "execution_count": 20,
   "metadata": {},
   "outputs": [
    {
     "data": {
      "text/plain": [
       "3"
      ]
     },
     "execution_count": 20,
     "metadata": {},
     "output_type": "execute_result"
    }
   ],
   "source": [
    "np.random.randint(0, 20+1)    # generate a random integer scalar between 0 and 20"
   ]
  },
  {
   "cell_type": "code",
   "execution_count": 21,
   "metadata": {},
   "outputs": [
    {
     "data": {
      "text/plain": [
       "array([[ 4, 19],\n",
       "       [ 8,  0],\n",
       "       [10,  7]], dtype=int32)"
      ]
     },
     "execution_count": 21,
     "metadata": {},
     "output_type": "execute_result"
    }
   ],
   "source": [
    "np.random.randint(0, 21, (3,2))# generates a matrix of size (3,2)"
   ]
  },
  {
   "cell_type": "markdown",
   "metadata": {},
   "source": [
    "**`np.random.randn`**: \n",
    "\n",
    "Returns a sample (or samples) from the *standard normal* distribution．"
   ]
  },
  {
   "cell_type": "code",
   "execution_count": 22,
   "metadata": {},
   "outputs": [
    {
     "data": {
      "text/plain": [
       "0.205212036918616"
      ]
     },
     "execution_count": 22,
     "metadata": {},
     "output_type": "execute_result"
    }
   ],
   "source": [
    "np.random.randn()   # univariate 'normal' (Gaussian distribution, with a mean = 0, variance = 1)"
   ]
  },
  {
   "cell_type": "markdown",
   "metadata": {},
   "source": [
    "The following code show how to create a 2x2 matrix whose numbers are sampled from a normal distribution"
   ]
  },
  {
   "cell_type": "code",
   "execution_count": 23,
   "metadata": {},
   "outputs": [
    {
     "data": {
      "text/plain": [
       "array([[-0.29566941, -0.51253766],\n",
       "       [ 1.10965437, -0.76435344]])"
      ]
     },
     "execution_count": 23,
     "metadata": {},
     "output_type": "execute_result"
    }
   ],
   "source": [
    "np.random.randn(2, 2)"
   ]
  },
  {
   "cell_type": "markdown",
   "metadata": {},
   "source": [
    "### Seeding the random generator\n",
    "\n",
    "**`np.random.seed()`**\n",
    "\n",
    "By default, random number generators uses the system time for random seeding. This allows you to generate different numbers each time you run your simultation. \n",
    "\n",
    "But, sometimes you may want *repeatable* result. To produce repeatable results, seed your generator using a constant number. Try running the following two cells. Notice that when we apply the same seed, the random number generator will generate the same number sequences."
   ]
  },
  {
   "cell_type": "code",
   "execution_count": 24,
   "metadata": {},
   "outputs": [
    {
     "name": "stdout",
     "output_type": "stream",
     "text": [
      "[0.96702984 0.54723225 0.97268436 0.71481599]\n",
      "[0.69772882 0.2160895  0.97627445 0.00623026]\n"
     ]
    }
   ],
   "source": [
    "np.random.seed(4)\n",
    "print(np.random.rand(4))\n",
    "print(np.random.rand(4))"
   ]
  },
  {
   "cell_type": "code",
   "execution_count": 25,
   "metadata": {},
   "outputs": [
    {
     "name": "stdout",
     "output_type": "stream",
     "text": [
      "[0.96702984 0.54723225 0.97268436 0.71481599]\n",
      "[0.69772882 0.2160895  0.97627445 0.00623026]\n"
     ]
    }
   ],
   "source": [
    "np.random.seed(4)\n",
    "print(np.random.rand(4))\n",
    "print(np.random.rand(4))"
   ]
  },
  {
   "cell_type": "markdown",
   "metadata": {},
   "source": [
    "### Exercise 1"
   ]
  },
  {
   "cell_type": "markdown",
   "metadata": {},
   "source": [
    "**Q1.** Create a vector containing the first 10 odd integers using `np.arange`.\n",
    "\n",
    "Answer:\n",
    "\n",
    "```\n",
    "array([ 1,  3,  5,  7,  9, 11, 13, 15, 17, 19])\n",
    "```"
   ]
  },
  {
   "cell_type": "code",
   "execution_count": 26,
   "metadata": {},
   "outputs": [
    {
     "data": {
      "text/plain": [
       "array([ 1,  3,  5,  7,  9, 11, 13, 15, 17, 19])"
      ]
     },
     "execution_count": 26,
     "metadata": {},
     "output_type": "execute_result"
    }
   ],
   "source": [
    "import numpy as np\n",
    "np.arange(1, 21, 2)"
   ]
  },
  {
   "cell_type": "markdown",
   "metadata": {},
   "source": [
    "**Q2.** Create a uniform subdivision of the interval -1.3 to 2.5 with 64 subdivisions using `np.linspace`.\n",
    "\n",
    "Answer:\n",
    "```\n",
    "array([-1.3       , -1.23968254, -1.17936508, -1.11904762, -1.05873016,\n",
    "       -0.9984127 , -0.93809524, -0.87777778, -0.81746032, -0.75714286,\n",
    "       -0.6968254 , -0.63650794, -0.57619048, -0.51587302, -0.45555556,\n",
    "       -0.3952381 , -0.33492063, -0.27460317, -0.21428571, -0.15396825,\n",
    "       -0.09365079, -0.03333333,  0.02698413,  0.08730159,  0.14761905,\n",
    "        0.20793651,  0.26825397,  0.32857143,  0.38888889,  0.44920635,\n",
    "        0.50952381,  0.56984127,  0.63015873,  0.69047619,  0.75079365,\n",
    "        0.81111111,  0.87142857,  0.93174603,  0.99206349,  1.05238095,\n",
    "        1.11269841,  1.17301587,  1.23333333,  1.29365079,  1.35396825,\n",
    "        1.41428571,  1.47460317,  1.53492063,  1.5952381 ,  1.65555556,\n",
    "        1.71587302,  1.77619048,  1.83650794,  1.8968254 ,  1.95714286,\n",
    "        2.01746032,  2.07777778,  2.13809524,  2.1984127 ,  2.25873016,\n",
    "        2.31904762,  2.37936508,  2.43968254,  2.5       ])\n",
    "```"
   ]
  },
  {
   "cell_type": "code",
   "execution_count": 27,
   "metadata": {},
   "outputs": [
    {
     "data": {
      "text/plain": [
       "array([-1.3       , -1.23968254, -1.17936508, -1.11904762, -1.05873016,\n",
       "       -0.9984127 , -0.93809524, -0.87777778, -0.81746032, -0.75714286,\n",
       "       -0.6968254 , -0.63650794, -0.57619048, -0.51587302, -0.45555556,\n",
       "       -0.3952381 , -0.33492063, -0.27460317, -0.21428571, -0.15396825,\n",
       "       -0.09365079, -0.03333333,  0.02698413,  0.08730159,  0.14761905,\n",
       "        0.20793651,  0.26825397,  0.32857143,  0.38888889,  0.44920635,\n",
       "        0.50952381,  0.56984127,  0.63015873,  0.69047619,  0.75079365,\n",
       "        0.81111111,  0.87142857,  0.93174603,  0.99206349,  1.05238095,\n",
       "        1.11269841,  1.17301587,  1.23333333,  1.29365079,  1.35396825,\n",
       "        1.41428571,  1.47460317,  1.53492063,  1.5952381 ,  1.65555556,\n",
       "        1.71587302,  1.77619048,  1.83650794,  1.8968254 ,  1.95714286,\n",
       "        2.01746032,  2.07777778,  2.13809524,  2.1984127 ,  2.25873016,\n",
       "        2.31904762,  2.37936508,  2.43968254,  2.5       ])"
      ]
     },
     "execution_count": 27,
     "metadata": {},
     "output_type": "execute_result"
    }
   ],
   "source": [
    "import numpy as np\n",
    "np.linspace(-1.3, 2.5, 64)"
   ]
  },
  {
   "cell_type": "markdown",
   "metadata": {},
   "source": [
    "**Q3.** Create a matrix of size (4, 5). Each item is a random integer between 0 and 10. Use `np.random.randint`.\n",
    "\n",
    "Sample solution (Numbers in matrix must be integers between 0 and 10):\n",
    "\n",
    "```\n",
    "array([[ 7,  9,  8,  4,  2],\n",
    "       [ 6, 10,  4,  3,  0],\n",
    "       [ 7,  5,  5,  9,  6],\n",
    "       [ 6,  8,  2,  5,  8]])\n",
    "```"
   ]
  },
  {
   "cell_type": "code",
   "execution_count": 28,
   "metadata": {},
   "outputs": [
    {
     "data": {
      "text/plain": [
       "array([[ 7,  9,  8,  4,  2],\n",
       "       [ 6, 10,  4,  3,  0],\n",
       "       [ 7,  5,  5,  9,  6],\n",
       "       [ 6,  8,  2,  5,  8]], dtype=int32)"
      ]
     },
     "execution_count": 28,
     "metadata": {},
     "output_type": "execute_result"
    }
   ],
   "source": [
    "import numpy as np\n",
    "np.random.randint(0, 11, (4,5))"
   ]
  },
  {
   "cell_type": "markdown",
   "metadata": {
    "collapsed": true
   },
   "source": [
    "**Q4.** Create a matrix of numbers randomly distributed between 0 and 1, having a size of (3,4). Use `np.random.rand`.\n",
    "\n",
    "Sample solution (numbers in matrix must be between 0 and 1):\n",
    "```\n",
    "array([[ 0.11798675,  0.88034312,  0.57913209,  0.06656284],\n",
    "       [ 0.66977722,  0.36144647,  0.7793515 ,  0.85881387],\n",
    "       [ 0.39195763,  0.64347722,  0.17478051,  0.30934148]])\n",
    "```"
   ]
  },
  {
   "cell_type": "code",
   "execution_count": 29,
   "metadata": {},
   "outputs": [
    {
     "data": {
      "text/plain": [
       "array([[0.01902474, 0.03978036, 0.94500385, 0.4463492 ],\n",
       "       [0.44134853, 0.06570954, 0.17586123, 0.86588276],\n",
       "       [0.84352812, 0.92515316, 0.87030648, 0.83525671]])"
      ]
     },
     "execution_count": 29,
     "metadata": {},
     "output_type": "execute_result"
    }
   ],
   "source": [
    "import numpy as np\n",
    "np.random.rand(3, 4)"
   ]
  },
  {
   "cell_type": "markdown",
   "metadata": {},
   "source": [
    "**Q5.** Create a dataset by sampling from a normal distribution. The dataset contains 1200 samples (rows). Each point has 2 attributes (columns). Use `np.random.randn`.\n",
    "\n",
    "Sample solution (the number in matrix is sampled from a normal distribution):\n",
    "```\n",
    "array([[-0.08722439,  0.2021376 ],\n",
    "       [-0.68195243,  0.3402292 ],\n",
    "       [ 0.92526745, -1.51547866],\n",
    "       ..., \n",
    "       [-0.81260973,  0.45430727],\n",
    "       [-0.11204656,  0.72001995],\n",
    "       [-0.88341863, -0.43912629]])\n",
    "```"
   ]
  },
  {
   "cell_type": "code",
   "execution_count": 30,
   "metadata": {},
   "outputs": [
    {
     "data": {
      "text/plain": [
       "array([[-0.70319847, -0.66039071],\n",
       "       [-0.55153407, -0.95763459],\n",
       "       [-0.64542411, -1.34107222],\n",
       "       ...,\n",
       "       [ 0.39923747, -0.38303297],\n",
       "       [-0.07627077,  0.5755872 ],\n",
       "       [ 1.96047514,  1.27613923]], shape=(1200, 2))"
      ]
     },
     "execution_count": 30,
     "metadata": {},
     "output_type": "execute_result"
    }
   ],
   "source": [
    "import numpy as np\n",
    "np.random.randn(1200, 2)"
   ]
  },
  {
   "cell_type": "markdown",
   "metadata": {},
   "source": [
    "---\n",
    "\n",
    "## SECTION 2: NUMERICAL OPERATIONS\n",
    "\n",
    "#### Arithmetic operations \n",
    "\n",
    "Typically, arithmetic operators on arrays apply *element-wise*. A *new* array is created and filled with the result."
   ]
  },
  {
   "cell_type": "code",
   "execution_count": 31,
   "metadata": {},
   "outputs": [],
   "source": [
    "a = np.array ([ 2, 4, 6, 8])\n",
    "b = np.array ([ 1, 2, 3, 1])"
   ]
  },
  {
   "cell_type": "code",
   "execution_count": 32,
   "metadata": {},
   "outputs": [
    {
     "name": "stdout",
     "output_type": "stream",
     "text": [
      "[2 4 6 8]\n",
      "[1 2 3 1]\n",
      "[1 2 3 7]\n"
     ]
    }
   ],
   "source": [
    "c = a - b           # element-wise subtraction, a and b will remains unchanged\n",
    "print(a)\n",
    "print(b)\n",
    "print(c)"
   ]
  },
  {
   "cell_type": "code",
   "execution_count": 33,
   "metadata": {},
   "outputs": [
    {
     "data": {
      "text/plain": [
       "array([3, 6, 9, 9])"
      ]
     },
     "execution_count": 33,
     "metadata": {},
     "output_type": "execute_result"
    }
   ],
   "source": [
    "a + b           # element-wise addition"
   ]
  },
  {
   "cell_type": "code",
   "execution_count": 34,
   "metadata": {},
   "outputs": [
    {
     "data": {
      "text/plain": [
       "array([ 4,  6,  8, 10])"
      ]
     },
     "execution_count": 34,
     "metadata": {},
     "output_type": "execute_result"
    }
   ],
   "source": [
    "a + 2           # element-wise addition with constant"
   ]
  },
  {
   "cell_type": "code",
   "execution_count": 35,
   "metadata": {},
   "outputs": [
    {
     "data": {
      "text/plain": [
       "array([2., 2., 2., 8.])"
      ]
     },
     "execution_count": 35,
     "metadata": {},
     "output_type": "execute_result"
    }
   ],
   "source": [
    "a / b           # element-wise division"
   ]
  },
  {
   "cell_type": "code",
   "execution_count": 36,
   "metadata": {},
   "outputs": [
    {
     "data": {
      "text/plain": [
       "array([1., 2., 3., 4.])"
      ]
     },
     "execution_count": 36,
     "metadata": {},
     "output_type": "execute_result"
    }
   ],
   "source": [
    "a / 2           # element-wise division with constant"
   ]
  },
  {
   "cell_type": "code",
   "execution_count": 37,
   "metadata": {
    "scrolled": true
   },
   "outputs": [
    {
     "data": {
      "text/plain": [
       "array([ 2,  8, 18,  8])"
      ]
     },
     "execution_count": 37,
     "metadata": {},
     "output_type": "execute_result"
    }
   ],
   "source": [
    "a * b           # element-wise multiplication"
   ]
  },
  {
   "cell_type": "code",
   "execution_count": 38,
   "metadata": {},
   "outputs": [
    {
     "data": {
      "text/plain": [
       "array([  2,  16, 216,   8])"
      ]
     },
     "execution_count": 38,
     "metadata": {},
     "output_type": "execute_result"
    }
   ],
   "source": [
    "a ** b          # Element-wise power"
   ]
  },
  {
   "cell_type": "code",
   "execution_count": 39,
   "metadata": {},
   "outputs": [
    {
     "data": {
      "text/plain": [
       "array([3, 6, 9, 9])"
      ]
     },
     "execution_count": 39,
     "metadata": {},
     "output_type": "execute_result"
    }
   ],
   "source": [
    "a += b           # this will change the content of a\n",
    "a"
   ]
  },
  {
   "cell_type": "code",
   "execution_count": 40,
   "metadata": {},
   "outputs": [
    {
     "data": {
      "text/plain": [
       "array([ 3, 12, 27,  9])"
      ]
     },
     "execution_count": 40,
     "metadata": {},
     "output_type": "execute_result"
    }
   ],
   "source": [
    "a *= b          # this will change the content of a\n",
    "a"
   ]
  },
  {
   "cell_type": "markdown",
   "metadata": {},
   "source": [
    "Unlike in many matrix languages, the product operator `*` performs *elementwise multiplication, NOT matrix multiplication*"
   ]
  },
  {
   "cell_type": "code",
   "execution_count": 41,
   "metadata": {},
   "outputs": [
    {
     "data": {
      "text/plain": [
       "array([[2, 0],\n",
       "       [0, 4]])"
      ]
     },
     "execution_count": 41,
     "metadata": {},
     "output_type": "execute_result"
    }
   ],
   "source": [
    "A = np.array( [[1,1], [0,1]] )\n",
    "B = np.array( [[2,0], [3,4]] )\n",
    "A*B"
   ]
  },
  {
   "cell_type": "markdown",
   "metadata": {},
   "source": [
    "#### Comparison and Logical operations"
   ]
  },
  {
   "cell_type": "code",
   "execution_count": 42,
   "metadata": {},
   "outputs": [],
   "source": [
    "a1 = np.array([13, 22, 37, 42])\n",
    "a2 = np.array([13, 22, 37, 42])\n",
    "b  = np.array([2, 4, 7, 5])"
   ]
  },
  {
   "cell_type": "code",
   "execution_count": 43,
   "metadata": {
    "scrolled": true
   },
   "outputs": [
    {
     "data": {
      "text/plain": [
       "array([ True,  True, False, False])"
      ]
     },
     "execution_count": 43,
     "metadata": {},
     "output_type": "execute_result"
    }
   ],
   "source": [
    "a1 < 35             # element-wise comparison"
   ]
  },
  {
   "cell_type": "code",
   "execution_count": 44,
   "metadata": {
    "scrolled": true
   },
   "outputs": [
    {
     "data": {
      "text/plain": [
       "array([False, False, False,  True])"
      ]
     },
     "execution_count": 44,
     "metadata": {},
     "output_type": "execute_result"
    }
   ],
   "source": [
    "a1 == 42"
   ]
  },
  {
   "cell_type": "code",
   "execution_count": 45,
   "metadata": {},
   "outputs": [
    {
     "data": {
      "text/plain": [
       "array([ True,  True,  True,  True])"
      ]
     },
     "execution_count": 45,
     "metadata": {},
     "output_type": "execute_result"
    }
   ],
   "source": [
    "a1 == a2"
   ]
  },
  {
   "cell_type": "code",
   "execution_count": 46,
   "metadata": {},
   "outputs": [
    {
     "data": {
      "text/plain": [
       "True"
      ]
     },
     "execution_count": 46,
     "metadata": {},
     "output_type": "execute_result"
    }
   ],
   "source": [
    "np.array_equal(a1, a2)"
   ]
  },
  {
   "cell_type": "code",
   "execution_count": 47,
   "metadata": {},
   "outputs": [
    {
     "data": {
      "text/plain": [
       "False"
      ]
     },
     "execution_count": 47,
     "metadata": {},
     "output_type": "execute_result"
    }
   ],
   "source": [
    "np.array_equal(a1, b)"
   ]
  },
  {
   "cell_type": "code",
   "execution_count": 48,
   "metadata": {},
   "outputs": [],
   "source": [
    "bool1     = np.array([True,  True, False, False])\n",
    "bool2     = np.array([False, True, False, True])\n",
    "all_true  = np.array([True, True, True, True])\n",
    "all_false = np.array([False, False, False, False]) "
   ]
  },
  {
   "cell_type": "code",
   "execution_count": 49,
   "metadata": {},
   "outputs": [
    {
     "data": {
      "text/plain": [
       "np.False_"
      ]
     },
     "execution_count": 49,
     "metadata": {},
     "output_type": "execute_result"
    }
   ],
   "source": [
    "np.all(bool1)                          # Checks if every value is True"
   ]
  },
  {
   "cell_type": "code",
   "execution_count": 50,
   "metadata": {},
   "outputs": [
    {
     "data": {
      "text/plain": [
       "np.True_"
      ]
     },
     "execution_count": 50,
     "metadata": {},
     "output_type": "execute_result"
    }
   ],
   "source": [
    "np.all(all_true)"
   ]
  },
  {
   "cell_type": "code",
   "execution_count": 51,
   "metadata": {},
   "outputs": [
    {
     "data": {
      "text/plain": [
       "np.True_"
      ]
     },
     "execution_count": 51,
     "metadata": {},
     "output_type": "execute_result"
    }
   ],
   "source": [
    "np.any(bool1)                          # Checks if any value is True   "
   ]
  },
  {
   "cell_type": "code",
   "execution_count": 52,
   "metadata": {},
   "outputs": [
    {
     "data": {
      "text/plain": [
       "np.False_"
      ]
     },
     "execution_count": 52,
     "metadata": {},
     "output_type": "execute_result"
    }
   ],
   "source": [
    "np.any(all_false)"
   ]
  },
  {
   "cell_type": "code",
   "execution_count": 53,
   "metadata": {},
   "outputs": [
    {
     "data": {
      "text/plain": [
       "array([False,  True, False, False])"
      ]
     },
     "execution_count": 53,
     "metadata": {},
     "output_type": "execute_result"
    }
   ],
   "source": [
    "bool1 & bool2                         # Element-wise AND operation"
   ]
  },
  {
   "cell_type": "code",
   "execution_count": 54,
   "metadata": {},
   "outputs": [
    {
     "data": {
      "text/plain": [
       "array([ True,  True, False,  True])"
      ]
     },
     "execution_count": 54,
     "metadata": {},
     "output_type": "execute_result"
    }
   ],
   "source": [
    "bool1 | bool2                         # Element-wise OR operation"
   ]
  },
  {
   "cell_type": "markdown",
   "metadata": {},
   "source": [
    "#### Comparing arrays"
   ]
  },
  {
   "cell_type": "code",
   "execution_count": 55,
   "metadata": {},
   "outputs": [],
   "source": [
    "a = np.array([1, 2, 3, 4])\n",
    "b = np.array([4, 2, 2, 4])"
   ]
  },
  {
   "cell_type": "code",
   "execution_count": 56,
   "metadata": {},
   "outputs": [
    {
     "data": {
      "text/plain": [
       "array([False,  True, False,  True])"
      ]
     },
     "execution_count": 56,
     "metadata": {},
     "output_type": "execute_result"
    }
   ],
   "source": [
    "a == b"
   ]
  },
  {
   "cell_type": "code",
   "execution_count": 57,
   "metadata": {},
   "outputs": [
    {
     "data": {
      "text/plain": [
       "array([4, 2, 3, 4])"
      ]
     },
     "execution_count": 57,
     "metadata": {},
     "output_type": "execute_result"
    }
   ],
   "source": [
    "np.maximum (a, b)    # Get the element-wise maximum of all corresponding items in a and b "
   ]
  },
  {
   "cell_type": "code",
   "execution_count": 58,
   "metadata": {},
   "outputs": [
    {
     "data": {
      "text/plain": [
       "array([1, 2, 2, 4])"
      ]
     },
     "execution_count": 58,
     "metadata": {},
     "output_type": "execute_result"
    }
   ],
   "source": [
    "np.minimum (a, b)    # Get the element-wise minimum of all corresponding items in a and b "
   ]
  },
  {
   "cell_type": "markdown",
   "metadata": {},
   "source": [
    "#### Applying numpy functions "
   ]
  },
  {
   "cell_type": "code",
   "execution_count": 59,
   "metadata": {
    "scrolled": true
   },
   "outputs": [
    {
     "data": {
      "text/plain": [
       "array([-1,  6, -6,  9,  5], dtype=int32)"
      ]
     },
     "execution_count": 59,
     "metadata": {},
     "output_type": "execute_result"
    }
   ],
   "source": [
    "a = np.random.randint(-10, 10, 5)\n",
    "a"
   ]
  },
  {
   "cell_type": "code",
   "execution_count": 60,
   "metadata": {},
   "outputs": [
    {
     "data": {
      "text/plain": [
       "array([-0.84147098, -0.2794155 ,  0.2794155 ,  0.41211849, -0.95892427])"
      ]
     },
     "execution_count": 60,
     "metadata": {},
     "output_type": "execute_result"
    }
   ],
   "source": [
    "np.sin(a)"
   ]
  },
  {
   "cell_type": "code",
   "execution_count": 61,
   "metadata": {},
   "outputs": [
    {
     "data": {
      "text/plain": [
       "array([3.67879441e-01, 4.03428793e+02, 2.47875218e-03, 8.10308393e+03,\n",
       "       1.48413159e+02])"
      ]
     },
     "execution_count": 61,
     "metadata": {},
     "output_type": "execute_result"
    }
   ],
   "source": [
    "np.exp(a)"
   ]
  },
  {
   "cell_type": "code",
   "execution_count": 62,
   "metadata": {
    "scrolled": true
   },
   "outputs": [
    {
     "data": {
      "text/plain": [
       "array([1, 6, 6, 9, 5], dtype=int32)"
      ]
     },
     "execution_count": 62,
     "metadata": {},
     "output_type": "execute_result"
    }
   ],
   "source": [
    "np.abs(a)"
   ]
  },
  {
   "cell_type": "code",
   "execution_count": 63,
   "metadata": {},
   "outputs": [
    {
     "data": {
      "text/plain": [
       "np.int32(9)"
      ]
     },
     "execution_count": 63,
     "metadata": {},
     "output_type": "execute_result"
    }
   ],
   "source": [
    "np.max(a)             # get the item with the biggest value"
   ]
  },
  {
   "cell_type": "code",
   "execution_count": 64,
   "metadata": {},
   "outputs": [
    {
     "data": {
      "text/plain": [
       "np.int32(-6)"
      ]
     },
     "execution_count": 64,
     "metadata": {},
     "output_type": "execute_result"
    }
   ],
   "source": [
    "np.min(a)             # get the item with the smallest value"
   ]
  },
  {
   "cell_type": "markdown",
   "metadata": {},
   "source": [
    "#### ndarray functions \n",
    "\n",
    "All ndarrays come with a set of functions that can be invoked to operate on its data."
   ]
  },
  {
   "cell_type": "code",
   "execution_count": 65,
   "metadata": {},
   "outputs": [
    {
     "data": {
      "text/plain": [
       "array([10,  7,  7,  2,  9, 11,  4, 17,  1,  2], dtype=int32)"
      ]
     },
     "execution_count": 65,
     "metadata": {},
     "output_type": "execute_result"
    }
   ],
   "source": [
    "a = np.random.randint(0, 20, 10)\n",
    "a"
   ]
  },
  {
   "cell_type": "code",
   "execution_count": 66,
   "metadata": {},
   "outputs": [
    {
     "name": "stdout",
     "output_type": "stream",
     "text": [
      "sum:     70\n",
      "mean:    7.0\n",
      "std:     4.732863826479693\n",
      "min:     1\n",
      "argmin:  8\n",
      "max:     17\n",
      "argmax:  7\n"
     ]
    }
   ],
   "source": [
    "print('sum:    ', a.sum())                # compute the sum\n",
    "print('mean:   ', a.mean())               # compute the mean \n",
    "print('std:    ', a.std())                # compute the standard deviation\n",
    "print('min:    ', a.min())                # get the smallest value in array\n",
    "print('argmin: ', a.argmin())             # find the index of the item with the smallest value\n",
    "print('max:    ', a.max())                # get the maximum value\n",
    "print('argmax: ', a.argmax())             # find the index of the item with the biggest value"
   ]
  },
  {
   "cell_type": "markdown",
   "metadata": {},
   "source": [
    "ndarray operations on 2-D arrays"
   ]
  },
  {
   "cell_type": "code",
   "execution_count": 67,
   "metadata": {
    "scrolled": true
   },
   "outputs": [
    {
     "data": {
      "text/plain": [
       "array([[ 7,  1],\n",
       "       [ 5,  7],\n",
       "       [19, 19]], dtype=int32)"
      ]
     },
     "execution_count": 67,
     "metadata": {},
     "output_type": "execute_result"
    }
   ],
   "source": [
    "a = np.random.randint (0, 20, (3, 2))\n",
    "a"
   ]
  },
  {
   "cell_type": "code",
   "execution_count": 68,
   "metadata": {},
   "outputs": [
    {
     "name": "stdout",
     "output_type": "stream",
     "text": [
      "sum:     58\n",
      "mean:    9.666666666666666\n",
      "std:     6.896053621859068\n",
      "min:     1\n",
      "argmin:  1\n",
      "max:     19\n",
      "argmax:  4\n"
     ]
    }
   ],
   "source": [
    "print('sum:    ', a.sum())                # compute the sum\n",
    "print('mean:   ', a.mean())               # compute the mean \n",
    "print('std:    ', a.std())                # compute the standard deviation\n",
    "print('min:    ', a.min())                # get the smallest value in array\n",
    "print('argmin: ', a.argmin())             # find the index of the item with the smallest value\n",
    "print('max:    ', a.max())                # get the maximum value\n",
    "print('argmax: ', a.argmax())             # find the index of the item with the biggest value"
   ]
  },
  {
   "cell_type": "markdown",
   "metadata": {},
   "source": [
    "By default, these operations apply to the 2-D array as though it were a list of numbers, regardless of its shape. \n",
    "\n",
    "However, by specifying the axis parameter you can apply an operation along the specified axis of an array:"
   ]
  },
  {
   "cell_type": "code",
   "execution_count": 69,
   "metadata": {},
   "outputs": [
    {
     "data": {
      "text/plain": [
       "array([31, 27])"
      ]
     },
     "execution_count": 69,
     "metadata": {},
     "output_type": "execute_result"
    }
   ],
   "source": [
    "a.sum(axis=0)           # axis = 0 refers to the column dimension (sum all items in each column)"
   ]
  },
  {
   "cell_type": "code",
   "execution_count": 70,
   "metadata": {},
   "outputs": [
    {
     "data": {
      "text/plain": [
       "array([ 8, 12, 38])"
      ]
     },
     "execution_count": 70,
     "metadata": {},
     "output_type": "execute_result"
    }
   ],
   "source": [
    "a.sum(axis=1)         # axis = 1 refers to the row dimension (sum all items in each row)"
   ]
  },
  {
   "cell_type": "markdown",
   "metadata": {},
   "source": [
    "## Exercise 2"
   ]
  },
  {
   "cell_type": "markdown",
   "metadata": {},
   "source": [
    "**Q1.** Create a random vector with values [0, 1) of size 30. Then compute its summation, mean and standard deviation values.\n",
    "\n",
    "Sample solution:\n",
    "```\n",
    "[ 0.31826591  0.64980313  0.9074009   0.01855129  0.1471393   0.21421904\n",
    "  0.35889039  0.26098793  0.67206902  0.22928994  0.67655462  0.46969651\n",
    "  0.59789036  0.77442506  0.786646    0.30591469  0.36607411  0.08582968\n",
    "  0.82389183  0.93058502  0.25422148  0.24471819  0.90520293  0.48908817\n",
    "  0.55304988  0.73125874  0.84016257  0.18487058  0.80443297  0.69220994]\n",
    "summation =  15.2933401657\n",
    "mean =  0.509778005522\n",
    "std =  0.273489774136\n",
    "```"
   ]
  },
  {
   "cell_type": "code",
   "execution_count": 71,
   "metadata": {},
   "outputs": [
    {
     "name": "stdout",
     "output_type": "stream",
     "text": [
      "[0.31826591 0.64980313 0.9074009  0.01855129 0.1471393  0.21421904\n",
      " 0.35889039 0.26098793 0.67206902 0.22928994 0.67655462 0.46969651\n",
      " 0.59789036 0.77442506 0.786646   0.30591469 0.36607411 0.08582968\n",
      " 0.82389183 0.93058502 0.25422148 0.24471819 0.90520293 0.48908817\n",
      " 0.55304988 0.73125874 0.84016257 0.18487058 0.80443297 0.69220994]\n",
      "summation = 15.293340165651928\n",
      "mean = 0.5097780055217309\n",
      "std = 0.2734897741357628\n"
     ]
    }
   ],
   "source": [
    "import numpy as np \n",
    "\n",
    "vector = np.random.rand(30)\n",
    "print(vector) \n",
    "print(f\"summation = {vector.sum()}\")\n",
    "print(f\"mean = {vector.mean()}\")\n",
    "print(f\"std = {vector.std()}\")"
   ]
  },
  {
   "cell_type": "markdown",
   "metadata": {},
   "source": [
    "**Q2.** Create a 3x3 array with random integer values `[0, 10)`. Then, find the following:\n",
    "1. maximum value in the whole matrix\n",
    "2. minimum value of each row of the matrix\n",
    "3. sum of each column of the matrix\n",
    "\n",
    "Sample solution:\n",
    "```\n",
    "[[0 6 6]\n",
    " [3 7 4]\n",
    " [3 6 5]] \n",
    "\n",
    "maximum value in the whole matrix: 7\n",
    "minimum value of each row of the matrix: [0 3 3]\n",
    "sum of each column of the matrix: [ 6 19 15]\n",
    "```"
   ]
  },
  {
   "cell_type": "code",
   "execution_count": 72,
   "metadata": {},
   "outputs": [
    {
     "name": "stdout",
     "output_type": "stream",
     "text": [
      "[[0 6 6]\n",
      " [3 7 4]\n",
      " [3 6 5]]\n",
      "maximum value in the whole matrix: 7\n",
      "minimum value of each row of the matrix: [0 3 3]\n",
      "sum of each column of the matrix: [ 6 19 15]\n"
     ]
    }
   ],
   "source": [
    "import numpy as np \n",
    "\n",
    "array = np.random.randint(0, 10, (3, 3))\n",
    "print(array)\n",
    "print(f\"maximum value in the whole matrix: {array.max()}\")\n",
    "print(f\"minimum value of each row of the matrix: {array.min(axis=1)}\") # axis=1 represent the row dimension\n",
    "print(f\"sum of each column of the matrix: {array.sum(axis=0)}\")        # axis=0 represent the column dimension"
   ]
  },
  {
   "attachments": {},
   "cell_type": "markdown",
   "metadata": {},
   "source": [
    "**Q3**. Generate the array containing the value of $f(x) = sin(x)$ for $-2\\pi \\leq x \\leq 2\\pi$. Compute\n",
    "$f(x)$ for 100 evenly spaced points in $x$.\n",
    "\n",
    "Then, plot the values using the following command:\n",
    "\n",
    "```Python\n",
    "import matplotlib.pyplot as plt\n",
    "plt.plot(x, y)\n",
    "plt.show()\n",
    "```\n",
    "\n"
   ]
  },
  {
   "cell_type": "code",
   "execution_count": 73,
   "metadata": {},
   "outputs": [
    {
     "data": {
      "image/png": "[encoded data removed]",
      "text/plain": [
       "<Figure size 640x480 with 1 Axes>"
      ]
     },
     "metadata": {},
     "output_type": "display_data"
    }
   ],
   "source": [
    "import numpy as np\n",
    "import matplotlib.pyplot as plt \n",
    "\n",
    "x = np.linspace(-(2*np.pi), (2*np.pi), 100)\n",
    "y = np.sin(x)\n",
    "plt.plot(x, y) \n",
    "plt.show()"
   ]
  },
  {
   "attachments": {
    "image.png": {
     "image/png": "[encoded data removed]"
    }
   },
   "cell_type": "markdown",
   "metadata": {},
   "source": [
    "**Q4.** Generate the array containing the value of $f(x) = \\frac{1}{\\sqrt{2\\pi}}e^{-\\frac{x^2}{2}}$ for $-5 \\leq x \\leq 5$. The array should contain $f(x)$ for 100 evenly spaced points in $x$. Then, plot out the computed values. Refer to Q3 on how to plot the graph.\n",
    "\n",
    "Ans:\n",
    "![image.png](attachment:image.png)"
   ]
  },
  {
   "cell_type": "code",
   "execution_count": 74,
   "metadata": {},
   "outputs": [
    {
     "data": {
      "image/png": "[encoded data removed]",
      "text/plain": [
       "<Figure size 640x480 with 1 Axes>"
      ]
     },
     "metadata": {},
     "output_type": "display_data"
    }
   ],
   "source": [
    "import numpy as np\n",
    "import matplotlib.pyplot as plt\n",
    "\n",
    "x = np.linspace(-5, 5, 100) \n",
    "y = (1/(2*np.pi)**(1/2))*(np.e**(-(x**2)/2))\n",
    "\n",
    "plt.plot(x, y)\n",
    "plt.show()"
   ]
  },
  {
   "cell_type": "markdown",
   "metadata": {},
   "source": [
    "**Q5.** Given the vector `a = np.array([12, 14, 20, 26, 39, 49])`, find the closest value to `query = 27`. The algorithm to achieve this is as follows:\n",
    "* compute the absolute difference between all items with the query item (Useful command: `np.abs`)\n",
    "* get the item with the smallest absolute distance (Useful command: `np.argmin`)\n",
    "\n",
    "Ans:\n",
    "\n",
    "`The closest number in a to 27 is 26`"
   ]
  },
  {
   "cell_type": "code",
   "execution_count": 75,
   "metadata": {},
   "outputs": [
    {
     "name": "stdout",
     "output_type": "stream",
     "text": [
      "The closest number in a to 27 is 26\n"
     ]
    }
   ],
   "source": [
    "import numpy as np \n",
    "\n",
    "a = np.array([12, 14, 20, 26, 39, 49])\n",
    "query = 27 \n",
    "print(f\"The closest number in a to 27 is {a[np.argmin(np.abs(query-a))]}\")"
   ]
  },
  {
   "cell_type": "markdown",
   "metadata": {},
   "source": [
    "**Q6.** Randomly generate a vector `a` of size 10 with values betwen 100 and 200. Compute the L2 norm of `a` Then normalize the vector `a` to get `an` by dividing each item with the L2 norm. \n",
    "\n",
    "For example, given `a = [4, 3]`, the L2 norm of `a` is $\\sqrt{4^2 + 3^2} = 5$ and `an = [0.8, 0.6]`"
   ]
  },
  {
   "cell_type": "code",
   "execution_count": 76,
   "metadata": {},
   "outputs": [
    {
     "name": "stdout",
     "output_type": "stream",
     "text": [
      "Given that a = [178 181 132 136 166 180 136 128 197 186], \n",
      "the L2 norm of a is 518.2721292911668 and \n",
      "an = [0.34344891 0.34923738 0.25469245 0.26241041 0.32029505 0.34730789\n",
      " 0.26241041 0.2469745  0.38010919 0.35888482]\n"
     ]
    }
   ],
   "source": [
    "import numpy as np\n",
    "\n",
    "a = np.random.randint(100, 200, 10)\n",
    "L2Norm = np.sqrt(np.sum(a**2))\n",
    "an = a/L2Norm \n",
    "print(f\"Given that a = {a}, \\nthe L2 norm of a is {L2Norm} and \\nan = {an}\")"
   ]
  },
  {
   "cell_type": "markdown",
   "metadata": {},
   "source": [
    "**Q7.** Given two vectors `d1 = (5, 0, 3, 0, 2, 0, 0, 2, 0, 0)` and `d2 = (3, 0, 2, 0, 1, 1, 0, 1, 0, 1)`, compute the cosine similarity between `d1` and `d2`.\n",
    "\n",
    "$cos(a,b)=\\frac{\\sum_{i=1}^n a_i b_i}{\\sqrt{\\sum_{i=1}^n a_i^2} \\sqrt{\\sum_{i=1}^n b_i^2}}$\n",
    "\n",
    "The steps are as follows:\n",
    "1. Compute A = $\\sum_{i=1}^n a_i b_i$ = sum(5(3) + 0(0) + ... (0)(1)) = 25\n",
    "2. Compute B = $\\sqrt{\\sum_{i=1}^n a_i^2}$ = sqrt(sum(5(5) + 0(0) + ... + 0(0))) = 6.48\n",
    "3. Compute C = $\\sqrt{\\sum_{i=1}^n b_i^2}$ = sqrt(sum(3(3) + 0(0) + ... + 1(1))) = 4.12\n",
    "4. cos(d1, d2) = A / (B\\*C) = 0.9356\n",
    "\n"
   ]
  },
  {
   "cell_type": "code",
   "execution_count": 77,
   "metadata": {},
   "outputs": [
    {
     "name": "stdout",
     "output_type": "stream",
     "text": [
      "Compute A = 25\n",
      "Compute B = 6.481\n",
      "Compute C = 4.123\n",
      "cos(d1, d2) = 0.9356\n"
     ]
    }
   ],
   "source": [
    "import numpy as np \n",
    "\n",
    "d1 = (5, 0, 3, 0, 2, 0, 0, 2, 0, 0) \n",
    "d2 = (3, 0, 2, 0, 1, 1, 0, 1, 0, 1) \n",
    "n1 = np.array(d1)\n",
    "n2 = np.array(d2)\n",
    "a = np.sum(n1*n2)\n",
    "b = np.sqrt(np.sum(n1**2))\n",
    "c = np.sqrt(np.sum(n2**2))\n",
    "print(f\"Compute A = {a}\")\n",
    "print(f\"Compute B = {b:.4}\")\n",
    "print(f\"Compute C = {c:.4}\")\n",
    "print(f\"cos(d1, d2) = {a/(b*c):.4}\")"
   ]
  },
  {
   "cell_type": "markdown",
   "metadata": {
    "collapsed": true
   },
   "source": [
    "---\n",
    "## SECTION 3: INDEXING, SLICING AND ITERATING\n",
    "\n",
    "### Simple Indexing and Slicing\n",
    "\n",
    "One-dimensional arrays can be indexed, sliced and iterated over, much like lists and other Python sequences."
   ]
  },
  {
   "cell_type": "code",
   "execution_count": 78,
   "metadata": {},
   "outputs": [
    {
     "name": "stdout",
     "output_type": "stream",
     "text": [
      "[65 60 37 21 18 96 26 24 39 83]\n"
     ]
    }
   ],
   "source": [
    "a = np.random.randint(0, 100, 10)\n",
    "print(a)        "
   ]
  },
  {
   "cell_type": "code",
   "execution_count": 79,
   "metadata": {},
   "outputs": [
    {
     "data": {
      "text/plain": [
       "np.int32(37)"
      ]
     },
     "execution_count": 79,
     "metadata": {},
     "output_type": "execute_result"
    }
   ],
   "source": [
    "a[2]              # get item 2"
   ]
  },
  {
   "cell_type": "code",
   "execution_count": 80,
   "metadata": {},
   "outputs": [
    {
     "data": {
      "text/plain": [
       "array([37, 21, 18], dtype=int32)"
      ]
     },
     "execution_count": 80,
     "metadata": {},
     "output_type": "execute_result"
    }
   ],
   "source": [
    "a[2:5]           # start = 2, end = 5 (not inclusive). This gets item 2 up to item 4"
   ]
  },
  {
   "cell_type": "code",
   "execution_count": 81,
   "metadata": {
    "scrolled": true
   },
   "outputs": [
    {
     "data": {
      "text/plain": [
       "array([65, 60, 37], dtype=int32)"
      ]
     },
     "execution_count": 81,
     "metadata": {},
     "output_type": "execute_result"
    }
   ],
   "source": [
    "a[:3]           # equivalent to a[0:3]"
   ]
  },
  {
   "cell_type": "code",
   "execution_count": 82,
   "metadata": {},
   "outputs": [
    {
     "data": {
      "text/plain": [
       "array([24, 39, 83], dtype=int32)"
      ]
     },
     "execution_count": 82,
     "metadata": {},
     "output_type": "execute_result"
    }
   ],
   "source": [
    "a[7:]           # gets item at position 7 to the last position"
   ]
  },
  {
   "cell_type": "markdown",
   "metadata": {},
   "source": [
    "We can change the content of the array using slicing. "
   ]
  },
  {
   "cell_type": "code",
   "execution_count": 83,
   "metadata": {},
   "outputs": [
    {
     "data": {
      "text/plain": [
       "array([65, 60, -1, 21, 18, 96, 26, 24, 39, 83], dtype=int32)"
      ]
     },
     "execution_count": 83,
     "metadata": {},
     "output_type": "execute_result"
    }
   ],
   "source": [
    "a[2] = -1         # overwritting the third item\n",
    "a"
   ]
  },
  {
   "cell_type": "code",
   "execution_count": 84,
   "metadata": {},
   "outputs": [
    {
     "data": {
      "text/plain": [
       "array([-1000,    60, -1000,    21, -1000,    96, -1000,    24, -1000,\n",
       "          83], dtype=int32)"
      ]
     },
     "execution_count": 84,
     "metadata": {},
     "output_type": "execute_result"
    }
   ],
   "source": [
    "a[::2] = -1000    # equivalent to a[0:10:2] = -1000\n",
    "a"
   ]
  },
  {
   "cell_type": "markdown",
   "metadata": {},
   "source": [
    "#### Negative indexing\n",
    "\n",
    "Numpy array also supports negative indexing where we index from the end of the list."
   ]
  },
  {
   "cell_type": "code",
   "execution_count": 85,
   "metadata": {},
   "outputs": [
    {
     "name": "stdout",
     "output_type": "stream",
     "text": [
      "[24 19 66 85 65 23 56 14 10  5]\n"
     ]
    }
   ],
   "source": [
    "a = np.random.randint(0, 100, 10)\n",
    "print(a)"
   ]
  },
  {
   "cell_type": "code",
   "execution_count": 86,
   "metadata": {},
   "outputs": [
    {
     "data": {
      "text/plain": [
       "np.int32(5)"
      ]
     },
     "execution_count": 86,
     "metadata": {},
     "output_type": "execute_result"
    }
   ],
   "source": [
    "a[-1]"
   ]
  },
  {
   "cell_type": "code",
   "execution_count": 87,
   "metadata": {},
   "outputs": [
    {
     "data": {
      "text/plain": [
       "array([14, 10,  5], dtype=int32)"
      ]
     },
     "execution_count": 87,
     "metadata": {},
     "output_type": "execute_result"
    }
   ],
   "source": [
    "a[-3:]             # get the last three items"
   ]
  },
  {
   "cell_type": "markdown",
   "metadata": {},
   "source": [
    "#### Multidimensional indexing\n",
    "\n",
    "The following codes show how to index a 2-D array."
   ]
  },
  {
   "cell_type": "code",
   "execution_count": 88,
   "metadata": {},
   "outputs": [
    {
     "data": {
      "text/plain": [
       "array([[18, 25, 92, 31, 75],\n",
       "       [31, 98, 27, 99, 37],\n",
       "       [39, 87, 49, 25, 58]], dtype=int32)"
      ]
     },
     "execution_count": 88,
     "metadata": {},
     "output_type": "execute_result"
    }
   ],
   "source": [
    "a = np.random.randint(0, 100, (3, 5))\n",
    "a"
   ]
  },
  {
   "cell_type": "code",
   "execution_count": 89,
   "metadata": {},
   "outputs": [
    {
     "data": {
      "text/plain": [
       "np.int32(25)"
      ]
     },
     "execution_count": 89,
     "metadata": {},
     "output_type": "execute_result"
    }
   ],
   "source": [
    "a[2, 3]               # item at row 2, column 3 (third row, fourth column)"
   ]
  },
  {
   "cell_type": "code",
   "execution_count": 90,
   "metadata": {},
   "outputs": [
    {
     "data": {
      "text/plain": [
       "array([25, 98, 87], dtype=int32)"
      ]
     },
     "execution_count": 90,
     "metadata": {},
     "output_type": "execute_result"
    }
   ],
   "source": [
    "a[:, 1]               # get the column 1 of a"
   ]
  },
  {
   "cell_type": "code",
   "execution_count": 91,
   "metadata": {},
   "outputs": [
    {
     "data": {
      "text/plain": [
       "array([25, 98], dtype=int32)"
      ]
     },
     "execution_count": 91,
     "metadata": {},
     "output_type": "execute_result"
    }
   ],
   "source": [
    "a[:2, 1]              # first two items in column 1 of a"
   ]
  },
  {
   "cell_type": "code",
   "execution_count": 92,
   "metadata": {},
   "outputs": [
    {
     "data": {
      "text/plain": [
       "array([[25, 92],\n",
       "       [98, 27],\n",
       "       [87, 49]], dtype=int32)"
      ]
     },
     "execution_count": 92,
     "metadata": {},
     "output_type": "execute_result"
    }
   ],
   "source": [
    "a[:, 1:3]            # get column 1 and 2 (not inclusive of 3)"
   ]
  },
  {
   "cell_type": "markdown",
   "metadata": {},
   "source": [
    "When fewer indices are provided than the number of axes, the missing indices are considered complete slices:"
   ]
  },
  {
   "cell_type": "code",
   "execution_count": 93,
   "metadata": {},
   "outputs": [
    {
     "data": {
      "text/plain": [
       "array([39, 87, 49, 25, 58], dtype=int32)"
      ]
     },
     "execution_count": 93,
     "metadata": {},
     "output_type": "execute_result"
    }
   ],
   "source": [
    "a[2]              # get row 2"
   ]
  },
  {
   "cell_type": "code",
   "execution_count": 94,
   "metadata": {},
   "outputs": [
    {
     "data": {
      "text/plain": [
       "array([[31, 98, 27, 99, 37],\n",
       "       [39, 87, 49, 25, 58]], dtype=int32)"
      ]
     },
     "execution_count": 94,
     "metadata": {},
     "output_type": "execute_result"
    }
   ],
   "source": [
    "a[1:]             # get row 1 to the last row              "
   ]
  },
  {
   "cell_type": "markdown",
   "metadata": {},
   "source": [
    "### Indexing with Integer Arrays"
   ]
  },
  {
   "cell_type": "markdown",
   "metadata": {},
   "source": [
    "Indexing a 1-D array"
   ]
  },
  {
   "cell_type": "code",
   "execution_count": 95,
   "metadata": {},
   "outputs": [
    {
     "data": {
      "text/plain": [
       "array([13,  0, 10])"
      ]
     },
     "execution_count": 95,
     "metadata": {},
     "output_type": "execute_result"
    }
   ],
   "source": [
    "a = np.array([10, 11, 13,  0, 10, 10, 16, 12, 18,  9])\n",
    "\n",
    "selected = [2, 3, 5]   #select third, fourth and sixth item from array\n",
    "b = a[selected]\n",
    "b"
   ]
  },
  {
   "cell_type": "markdown",
   "metadata": {},
   "source": [
    "Indexing a 2-D array"
   ]
  },
  {
   "cell_type": "code",
   "execution_count": 96,
   "metadata": {},
   "outputs": [
    {
     "data": {
      "text/plain": [
       "array([49, 35])"
      ]
     },
     "execution_count": 96,
     "metadata": {},
     "output_type": "execute_result"
    }
   ],
   "source": [
    "a = np.array([[2, 5, 1, 1, 2],\n",
    "              [5, 7, 2, 7, 35],\n",
    "              [1, 9, 8, 49, 9]])\n",
    "\n",
    "selected_row = (2, 1)\n",
    "selected_col = (3, 4)\n",
    "\n",
    "b = a[selected_row, selected_col]              # extracts item at location (2, 3) and (1, 4)\n",
    "b"
   ]
  },
  {
   "cell_type": "markdown",
   "metadata": {},
   "source": [
    "### Indexing with Boolean Arrays\n",
    "\n",
    "We can also index an array using boolean arrays.\n",
    "\n",
    "1-D indexing using Boolean Arrays"
   ]
  },
  {
   "cell_type": "code",
   "execution_count": 97,
   "metadata": {},
   "outputs": [
    {
     "data": {
      "text/plain": [
       "array([ 23, -56,   2,   3, -57])"
      ]
     },
     "execution_count": 97,
     "metadata": {},
     "output_type": "execute_result"
    }
   ],
   "source": [
    "a = np.array([23, -56, 2, 3, -57])\n",
    "a"
   ]
  },
  {
   "cell_type": "code",
   "execution_count": 98,
   "metadata": {},
   "outputs": [
    {
     "data": {
      "text/plain": [
       "array([23,  2])"
      ]
     },
     "execution_count": 98,
     "metadata": {},
     "output_type": "execute_result"
    }
   ],
   "source": [
    "selected = [True, False, True, False, False]\n",
    "a[selected]"
   ]
  },
  {
   "cell_type": "code",
   "execution_count": 99,
   "metadata": {},
   "outputs": [
    {
     "data": {
      "text/plain": [
       "array([23,  2,  3])"
      ]
     },
     "execution_count": 99,
     "metadata": {},
     "output_type": "execute_result"
    }
   ],
   "source": [
    "all_pos = a > 0                      \n",
    "a[all_pos]                 # extract all positive numbers from a"
   ]
  },
  {
   "cell_type": "code",
   "execution_count": 100,
   "metadata": {},
   "outputs": [
    {
     "data": {
      "text/plain": [
       "array([-56,   2])"
      ]
     },
     "execution_count": 100,
     "metadata": {},
     "output_type": "execute_result"
    }
   ],
   "source": [
    "isEven = a % 2 == 0\n",
    "a [isEven]                 # extract all even numbers from a"
   ]
  },
  {
   "cell_type": "markdown",
   "metadata": {},
   "source": [
    "2-D indexing using Boolean Arrays"
   ]
  },
  {
   "cell_type": "code",
   "execution_count": 101,
   "metadata": {},
   "outputs": [],
   "source": [
    "a = np.array([[2, 5, 1, 1, 2],\n",
    "              [5, 7, 2, 7, 35],\n",
    "              [1, 9, 8, 49, 9]])"
   ]
  },
  {
   "cell_type": "code",
   "execution_count": 102,
   "metadata": {},
   "outputs": [
    {
     "data": {
      "text/plain": [
       "array([[ 5,  7,  2,  7, 35],\n",
       "       [ 1,  9,  8, 49,  9]])"
      ]
     },
     "execution_count": 102,
     "metadata": {},
     "output_type": "execute_result"
    }
   ],
   "source": [
    "sel_rows = [False, True, True]\n",
    "a[sel_rows]                                   # select the last two rows"
   ]
  },
  {
   "cell_type": "code",
   "execution_count": 103,
   "metadata": {},
   "outputs": [
    {
     "data": {
      "text/plain": [
       "array([[2, 5],\n",
       "       [5, 7],\n",
       "       [1, 9]])"
      ]
     },
     "execution_count": 103,
     "metadata": {},
     "output_type": "execute_result"
    }
   ],
   "source": [
    "sel_cols = [True, True, False, False, False]\n",
    "a[:, sel_cols]                                # select the first two columns"
   ]
  },
  {
   "cell_type": "markdown",
   "metadata": {},
   "source": [
    "### Exercise 3\n",
    "\n",
    "**Q1.** Create a vector of zeros (integers) of size 10. Use slicing to set the first two items with 2, the next 3 items with 4 and the remaining items with 6. "
   ]
  },
  {
   "cell_type": "code",
   "execution_count": 104,
   "metadata": {},
   "outputs": [
    {
     "name": "stdout",
     "output_type": "stream",
     "text": [
      "First 2 items: [0. 0.]\n",
      "Next 3 items: [0. 0. 0.]\n",
      "Remaining items: [0. 0. 0. 0. 0.]\n"
     ]
    }
   ],
   "source": [
    "import numpy as np\n",
    "\n",
    "zeros = np.zeros(10)\n",
    "print(f\"First 2 items: {zeros[:2]}\")\n",
    "print(f\"Next 3 items: {zeros[2:5]}\")\n",
    "print(f\"Remaining items: {zeros[5:]}\")"
   ]
  },
  {
   "attachments": {
    "image.png": {
     "image/png": "[encoded data removed]"
    }
   },
   "cell_type": "markdown",
   "metadata": {},
   "source": [
    "**Q2.** Generate a random matrix of size 6x6. Then write the codes to extract the following items from the matrix.\n",
    "\n",
    "![image.png](attachment:image.png)"
   ]
  },
  {
   "cell_type": "code",
   "execution_count": 105,
   "metadata": {},
   "outputs": [
    {
     "name": "stdout",
     "output_type": "stream",
     "text": [
      "[[86  1 89 52 58 13]\n",
      " [91 97 87 65 52 72]\n",
      " [55 62 48 99 23 94]\n",
      " [59 31 94 34 54 68]\n",
      " [23  8 34 62 29 78]\n",
      " [88 97 89 36 93 74]]\n",
      "\n",
      "(a) 3rd row: [55 62 48 99 23 94] \n",
      "\n",
      "(b) 3rd columns: [89 87 48 94 34 89] \n",
      "\n",
      "(c) 1st row, 4th and 5th columns: [52 58] \n",
      "\n",
      "(d) 3rd to 5th rows: \n",
      "[[55 62 48 99 23 94]\n",
      " [59 31 94 34 54 68]\n",
      " [23  8 34 62 29 78]] \n",
      "\n",
      "(e) 3rd and 5th columns: \n",
      "[[89 58]\n",
      " [87 52]\n",
      " [48 23]\n",
      " [94 54]\n",
      " [34 29]\n",
      " [89 93]] \n",
      "\n",
      "(f) 5th and 6th rows, 5th and 6th columns: \n",
      "[[29 78]\n",
      " [93 74]] \n",
      "\n"
     ]
    }
   ],
   "source": [
    "import numpy as np \n",
    "\n",
    "matrix = np.random.randint(0, 100, (6,6))\n",
    "print(matrix, end=\"\\n\\n\")\n",
    "print(f\"(a) 3rd row: {matrix[2, :]} \\n\")     # All items in 3rd row\n",
    "print(f\"(b) 3rd columns: {matrix[:, 2]} \\n\") # All items in 3rd column \n",
    "print(f\"(c) 1st row, 4th and 5th columns: {matrix[0, 3:5]} \\n\") \n",
    "print(f\"(d) 3rd to 5th rows: \\n{matrix[2:5, :]} \\n\")\n",
    "print(f\"(e) 3rd and 5th columns: \\n{matrix[:,[2,4]]} \\n\")\n",
    "print(f\"(f) 5th and 6th rows, 5th and 6th columns: \\n{matrix[4:, 4:]} \\n\")"
   ]
  },
  {
   "cell_type": "markdown",
   "metadata": {},
   "source": [
    "**Q3.** Randomly generate an array comprising all numbers of size 20 with numbers between 0 and 100. Then, extract the array of numbers that are both even and divisible by 3."
   ]
  },
  {
   "cell_type": "code",
   "execution_count": 106,
   "metadata": {},
   "outputs": [
    {
     "name": "stdout",
     "output_type": "stream",
     "text": [
      "[48 89 45 55 72 31 49 60 98 91 28 97 68 72 88 95 62 41 38  1]\n",
      "Both even and divisible by 3: [48 72 60 72]\n"
     ]
    }
   ],
   "source": [
    "import numpy as np \n",
    "\n",
    "array = np.random.randint(0, 100+1, 20) \n",
    "cond = (array % 2 == 0) & (array % 3 == 0)\n",
    "print(array)\n",
    "print(f\"Both even and divisible by 3: {array[cond]}\")"
   ]
  },
  {
   "cell_type": "markdown",
   "metadata": {},
   "source": [
    "---\n",
    "## SECTION 4: MATRIX COMPUTATION"
   ]
  },
  {
   "cell_type": "markdown",
   "metadata": {},
   "source": [
    "**Basic matrix computation**"
   ]
  },
  {
   "cell_type": "code",
   "execution_count": 107,
   "metadata": {},
   "outputs": [
    {
     "name": "stdout",
     "output_type": "stream",
     "text": [
      "[[1 0]\n",
      " [2 5]\n",
      " [3 1]]\n",
      "[[4 0]\n",
      " [2 5]\n",
      " [0 1]]\n"
     ]
    }
   ],
   "source": [
    "A = np.array([[1, 0], [2, 5], [3, 1]], dtype = 'int')\n",
    "print(A)\n",
    "\n",
    "B = np.array([[4, 0.5], [2, 5], [0, 1]], dtype = 'int')\n",
    "print(B)"
   ]
  },
  {
   "cell_type": "code",
   "execution_count": 108,
   "metadata": {},
   "outputs": [
    {
     "data": {
      "text/plain": [
       "array([[ 5,  0],\n",
       "       [ 4, 10],\n",
       "       [ 3,  2]])"
      ]
     },
     "execution_count": 108,
     "metadata": {},
     "output_type": "execute_result"
    }
   ],
   "source": [
    "A + B           # A plus B"
   ]
  },
  {
   "cell_type": "code",
   "execution_count": 109,
   "metadata": {},
   "outputs": [
    {
     "data": {
      "text/plain": [
       "array([[-3,  0],\n",
       "       [ 0,  0],\n",
       "       [ 3,  0]])"
      ]
     },
     "execution_count": 109,
     "metadata": {},
     "output_type": "execute_result"
    }
   ],
   "source": [
    "A - B           # A subtract B "
   ]
  },
  {
   "cell_type": "markdown",
   "metadata": {},
   "source": [
    "**Matrix multiplication**\n",
    "\n",
    "**`np.dot`**: \n",
    "\n",
    "In numpy, matrix multiplication is performed through `np.dot`. The operator `*` only performs element-wise multiplication."
   ]
  },
  {
   "cell_type": "code",
   "execution_count": 110,
   "metadata": {},
   "outputs": [
    {
     "name": "stdout",
     "output_type": "stream",
     "text": [
      "[[1 2]\n",
      " [1 4]]\n",
      "[[0 1]\n",
      " [1 2]]\n",
      "[2 3]\n",
      "[1 5]\n"
     ]
    }
   ],
   "source": [
    "m1 = np.array([[1, 2],[1, 4]])\n",
    "print (m1)\n",
    "\n",
    "m2 = np.array([[0, 1],[1, 2]])\n",
    "print (m2)\n",
    "\n",
    "v1 = np.array([2, 3])\n",
    "print(v1)\n",
    "\n",
    "v2 = np.array([1, 5])\n",
    "print(v2)"
   ]
  },
  {
   "cell_type": "code",
   "execution_count": 111,
   "metadata": {},
   "outputs": [
    {
     "data": {
      "text/plain": [
       "array([[2, 5],\n",
       "       [4, 9]])"
      ]
     },
     "execution_count": 111,
     "metadata": {},
     "output_type": "execute_result"
    }
   ],
   "source": [
    "np.dot(m1, m2)                     # matrix matrix multiplication"
   ]
  },
  {
   "cell_type": "code",
   "execution_count": 112,
   "metadata": {},
   "outputs": [
    {
     "data": {
      "text/plain": [
       "array([[2, 5],\n",
       "       [4, 9]])"
      ]
     },
     "execution_count": 112,
     "metadata": {},
     "output_type": "execute_result"
    }
   ],
   "source": [
    "m1.dot(m2)                        # matrix matrix multiplication"
   ]
  },
  {
   "cell_type": "code",
   "execution_count": 113,
   "metadata": {},
   "outputs": [
    {
     "data": {
      "text/plain": [
       "array([ 8, 14])"
      ]
     },
     "execution_count": 113,
     "metadata": {},
     "output_type": "execute_result"
    }
   ],
   "source": [
    "np.dot(m1, v1)                     # matrix vector multiplication"
   ]
  },
  {
   "cell_type": "code",
   "execution_count": 114,
   "metadata": {},
   "outputs": [
    {
     "data": {
      "text/plain": [
       "np.int64(17)"
      ]
     },
     "execution_count": 114,
     "metadata": {},
     "output_type": "execute_result"
    }
   ],
   "source": [
    "np.dot(v1, v2)                    # vector-vector multiplication (or dot product)"
   ]
  },
  {
   "cell_type": "markdown",
   "metadata": {},
   "source": [
    "**Transpose a matrix**\n",
    "\n",
    "Transpose of a matrix is obtained by changing rows to columns and columns to rows. In other words, transpose of A[][] is obtained by changing A[i][j] to A[j][i]."
   ]
  },
  {
   "cell_type": "code",
   "execution_count": 115,
   "metadata": {
    "scrolled": true
   },
   "outputs": [
    {
     "data": {
      "text/plain": [
       "array([[1, 2, 3],\n",
       "       [0, 5, 1]])"
      ]
     },
     "execution_count": 115,
     "metadata": {},
     "output_type": "execute_result"
    }
   ],
   "source": [
    "A.T                     "
   ]
  },
  {
   "cell_type": "markdown",
   "metadata": {},
   "source": [
    "**Invert a matrix**\n",
    "\n",
    "Inversion can only work on square matrix"
   ]
  },
  {
   "cell_type": "code",
   "execution_count": 116,
   "metadata": {},
   "outputs": [
    {
     "name": "stdout",
     "output_type": "stream",
     "text": [
      "[[8 0 4]\n",
      " [5 9 8]\n",
      " [5 6 2]]\n"
     ]
    }
   ],
   "source": [
    "b = np.random.randint(0, 10, (3, 3))\n",
    "print(b)"
   ]
  },
  {
   "cell_type": "code",
   "execution_count": 117,
   "metadata": {
    "scrolled": true
   },
   "outputs": [
    {
     "data": {
      "text/plain": [
       "array([[ 0.1       , -0.08      ,  0.12      ],\n",
       "       [-0.1       ,  0.01333333,  0.14666667],\n",
       "       [ 0.05      ,  0.16      , -0.24      ]])"
      ]
     },
     "execution_count": 117,
     "metadata": {},
     "output_type": "execute_result"
    }
   ],
   "source": [
    "np.linalg.inv(b)"
   ]
  },
  {
   "cell_type": "markdown",
   "metadata": {},
   "source": [
    "### Exercise 4\n",
    "\n",
    "**Q1.**  First, set the seed for your random generator to 42. Then, randomly sample from the standard *normal* distribution: (a) predicted output vector `h` and (b) actual output vector `y`, both having a size of (m,) where m = 50  (Use `np.random.randn`).\n",
    "\n",
    "Then, compute the RMSE.\n",
    "\n",
    "$$\n",
    "RMSE = \\sqrt{\\frac{1}{m}\\sum_{i=1}^{m} (h^{(i)} - y^{(i)})^2}\n",
    "$$\n",
    "$$\n",
    "= \\sqrt{\\frac{1}{m} (\\mathbf{h} - \\mathbf{y})^T(\\mathbf{h} - \\mathbf{y}) }\n",
    "$$\n",
    "\n",
    "Expected answer: 1.2192"
   ]
  },
  {
   "cell_type": "code",
   "execution_count": 118,
   "metadata": {},
   "outputs": [
    {
     "name": "stdout",
     "output_type": "stream",
     "text": [
      "RMSE = 1.2192\n"
     ]
    }
   ],
   "source": [
    "import numpy as np \n",
    "\n",
    "sample = np.random.seed(42) \n",
    "m = 50\n",
    "h = np.random.randn(m) \n",
    "y = np.random.randn(m) \n",
    "rmse = np.sqrt((1/m) * np.sum((h - y)**2))\n",
    "print(f\"RMSE = {rmse:.4f}\")"
   ]
  },
  {
   "cell_type": "markdown",
   "metadata": {},
   "source": [
    "**Q2.** Create the matrix `X = np.array([[1, 1],[2, 1],[3, 1]])` and `y = np.array([1, 3, 7])`. Then, compute the normal equation.\n",
    "$$\n",
    "h = (X^TX)^{-1}X^Ty \n",
    "$$\n",
    "\n",
    "Expected answer: `[3, -2.33333333]`"
   ]
  },
  {
   "cell_type": "code",
   "execution_count": 119,
   "metadata": {},
   "outputs": [
    {
     "name": "stdout",
     "output_type": "stream",
     "text": [
      "h = [ 3.         -2.33333333]\n"
     ]
    }
   ],
   "source": [
    "import numpy as np \n",
    "\n",
    "X = np.array([[1, 1],[2, 1],[3, 1]])\n",
    "y = np.array([1, 3, 7])\n",
    "h = np.dot(np.dot(np.linalg.inv(np.dot(X.T, X)), X.T), y)\n",
    "print(f\"h = {h}\")"
   ]
  },
  {
   "cell_type": "markdown",
   "metadata": {},
   "source": [
    "---\n",
    "## SECTION 5: COPIES vs VIEWS\n",
    "\n",
    "When operating and manipulating arrays, there are three possible scenarios on how the data is updated or returned:\n",
    "\n",
    "1. **Reference copy**: Returns the reference to the same data.  \n",
    "2. **View copy**: Similar to reference copy where it returns the reference to the same data. However, it may change the view (namely the shape) of the data. However, the underlying data are the same.\n",
    "3. **Copy**: Copies the data into a new array. Any changes to the new array would not affect the old one. \n",
    "\n",
    "This may be quite confusing for beginners. But, it is important to understand this concepts.\n",
    "\n",
    "### Reference copy\n",
    "\n",
    "Returns the reference to the same data. This is done through the operator `=`."
   ]
  },
  {
   "cell_type": "code",
   "execution_count": 120,
   "metadata": {},
   "outputs": [
    {
     "name": "stdout",
     "output_type": "stream",
     "text": [
      "a =  [ 0  1  2  3  4  5  6  7  8  9 10 11]\n"
     ]
    }
   ],
   "source": [
    "a = np.arange(12)\n",
    "print(\"a = \", a)"
   ]
  },
  {
   "cell_type": "code",
   "execution_count": 121,
   "metadata": {},
   "outputs": [
    {
     "name": "stdout",
     "output_type": "stream",
     "text": [
      "b =  [ 0  1  2  3  4  5  6  7  8  9 10 11]\n"
     ]
    },
    {
     "data": {
      "text/plain": [
       "True"
      ]
     },
     "execution_count": 121,
     "metadata": {},
     "output_type": "execute_result"
    }
   ],
   "source": [
    "b = a                    # b is referencing to a\n",
    "print(\"b = \", b)\n",
    "b is a                   # for simple assignment, a and b are two names for the same ndarray objectf"
   ]
  },
  {
   "cell_type": "markdown",
   "metadata": {},
   "source": [
    "Changing the content of `a` affects the content of b"
   ]
  },
  {
   "cell_type": "code",
   "execution_count": 122,
   "metadata": {},
   "outputs": [
    {
     "name": "stdout",
     "output_type": "stream",
     "text": [
      "[-99   1   2   3   4   5   6   7   8   9  10  11]\n",
      "[-99   1   2   3   4   5   6   7   8   9  10  11]\n"
     ]
    }
   ],
   "source": [
    "a[0] = -99               # change the content of a affects b as well\n",
    "print(a)\n",
    "print(b)"
   ]
  },
  {
   "cell_type": "code",
   "execution_count": 123,
   "metadata": {},
   "outputs": [
    {
     "name": "stdout",
     "output_type": "stream",
     "text": [
      "b = \n",
      "[[-99   1   2   3]\n",
      " [  4   5   6   7]\n",
      " [  8   9  10  11]]\n",
      "a = \n",
      "[[-99   1   2   3]\n",
      " [  4   5   6   7]\n",
      " [  8   9  10  11]]\n"
     ]
    }
   ],
   "source": [
    "b.shape = 3,4               # change the shape of b\n",
    "print(\"b = \")\n",
    "print(b)\n",
    "\n",
    "print(\"a = \")               # changes to b affects a as well\n",
    "print(a)"
   ]
  },
  {
   "cell_type": "markdown",
   "metadata": {},
   "source": [
    "### View copy\n",
    "\n",
    "Different array objects can share the *same* data but present it differently as follows:\n",
    "* Display it in a different shape\n",
    "* Display only portion of it"
   ]
  },
  {
   "attachments": {
    "image.png": {
     "image/png": "[encoded data removed]"
    }
   },
   "cell_type": "markdown",
   "metadata": {},
   "source": [
    "The following code creates three  different view of the same data `a`.\n",
    "\n",
    "![image.png](attachment:image.png)"
   ]
  },
  {
   "cell_type": "markdown",
   "metadata": {},
   "source": [
    "First, we create our array `a`."
   ]
  },
  {
   "cell_type": "code",
   "execution_count": 124,
   "metadata": {},
   "outputs": [
    {
     "data": {
      "text/plain": [
       "array([[1, 2, 3],\n",
       "       [4, 5, 6]])"
      ]
     },
     "execution_count": 124,
     "metadata": {},
     "output_type": "execute_result"
    }
   ],
   "source": [
    "a = np.array([[1, 2, 3],[4, 5, 6]])\n",
    "a"
   ]
  },
  {
   "cell_type": "markdown",
   "metadata": {},
   "source": [
    "When we flatten an array using **`.ravel()`**, it returns a *view* of the original data."
   ]
  },
  {
   "cell_type": "code",
   "execution_count": 125,
   "metadata": {},
   "outputs": [
    {
     "data": {
      "text/plain": [
       "array([1, 2, 3, 4, 5, 6])"
      ]
     },
     "execution_count": 125,
     "metadata": {},
     "output_type": "execute_result"
    }
   ],
   "source": [
    "b = a.ravel()\n",
    "b"
   ]
  },
  {
   "cell_type": "markdown",
   "metadata": {},
   "source": [
    "When we reshape an array using **`.reshape()`**, it returns a *view* of the original data."
   ]
  },
  {
   "cell_type": "code",
   "execution_count": 126,
   "metadata": {},
   "outputs": [
    {
     "data": {
      "text/plain": [
       "array([[1, 2],\n",
       "       [3, 4],\n",
       "       [5, 6]])"
      ]
     },
     "execution_count": 126,
     "metadata": {},
     "output_type": "execute_result"
    }
   ],
   "source": [
    "c = a.reshape(3, 2)\n",
    "c"
   ]
  },
  {
   "cell_type": "markdown",
   "metadata": {},
   "source": [
    "When we **slice** an array, we return a view of it:"
   ]
  },
  {
   "cell_type": "code",
   "execution_count": 127,
   "metadata": {},
   "outputs": [
    {
     "data": {
      "text/plain": [
       "array([[2, 3],\n",
       "       [5, 6]])"
      ]
     },
     "execution_count": 127,
     "metadata": {},
     "output_type": "execute_result"
    }
   ],
   "source": [
    "d = a[ : , 1:3]     # spaces added for clarity; could also be written \"s = a[:,1:3]\"\n",
    "d"
   ]
  },
  {
   "cell_type": "markdown",
   "metadata": {},
   "source": [
    "Changing the content in `b` or `c` or `d` will change `a` as well. The changes will be reflected in all views as well."
   ]
  },
  {
   "cell_type": "code",
   "execution_count": 128,
   "metadata": {},
   "outputs": [
    {
     "name": "stdout",
     "output_type": "stream",
     "text": [
      "a:\n",
      " [[    1     2     3]\n",
      " [    4     5 -9999]]\n",
      "\n",
      "b:\n",
      " [    1     2     3     4     5 -9999]\n",
      "\n",
      "c:\n",
      " [[    1     2]\n",
      " [    3     4]\n",
      " [    5 -9999]]\n",
      "\n",
      "d:\n",
      " [[    2     3]\n",
      " [    5 -9999]]\n"
     ]
    }
   ],
   "source": [
    "b[-1] = -9999\n",
    "print('a:\\n', a)\n",
    "print('\\nb:\\n', b)\n",
    "print('\\nc:\\n', c)\n",
    "print('\\nd:\\n', d)"
   ]
  },
  {
   "cell_type": "markdown",
   "metadata": {},
   "source": [
    "### Copy\n",
    "\n",
    "The **`copy`** method makes a complete copy of the array and its data."
   ]
  },
  {
   "cell_type": "code",
   "execution_count": 129,
   "metadata": {},
   "outputs": [],
   "source": [
    "a = np.arange(15).reshape(3, 5) \n",
    "d = a.copy()                          # a new array object with new data is created"
   ]
  },
  {
   "cell_type": "code",
   "execution_count": 130,
   "metadata": {},
   "outputs": [
    {
     "data": {
      "text/plain": [
       "False"
      ]
     },
     "execution_count": 130,
     "metadata": {},
     "output_type": "execute_result"
    }
   ],
   "source": [
    "d is a                                # d is not the same as a"
   ]
  },
  {
   "cell_type": "code",
   "execution_count": 131,
   "metadata": {},
   "outputs": [
    {
     "name": "stdout",
     "output_type": "stream",
     "text": [
      "a = \n",
      "[[ 0  1  2  3  4]\n",
      " [ 5  6  7  8  9]\n",
      " [10 11 12 13 14]]\n",
      "d = \n",
      "[[9999    1    2    3    4]\n",
      " [   5    6    7    8    9]\n",
      " [  10   11   12   13   14]]\n"
     ]
    }
   ],
   "source": [
    "d[0,0] = 9999                         # Changing the content of d does not affect a\n",
    "print(\"a = \")\n",
    "print(a)\n",
    "print(\"d = \")\n",
    "print(d)"
   ]
  },
  {
   "cell_type": "markdown",
   "metadata": {},
   "source": [
    "## SECTION 6: MANIPULATING ARRAYS\n",
    "\n",
    "We have already seen how we can manipulate shape of the arrays through the commands **`.ravel()`** and **`.reshape()`**.\n",
    "\n",
    "In this section, we further see how to:\n",
    "1. combine matrices and \n",
    "2. create a new dimensions to an array."
   ]
  },
  {
   "cell_type": "code",
   "execution_count": 132,
   "metadata": {},
   "outputs": [
    {
     "data": {
      "text/plain": [
       "array([[1, 2, 3],\n",
       "       [4, 5, 6]])"
      ]
     },
     "execution_count": 132,
     "metadata": {},
     "output_type": "execute_result"
    }
   ],
   "source": [
    "a = np.array([[1,2,3], [4,5,6]])\n",
    "a"
   ]
  },
  {
   "cell_type": "code",
   "execution_count": 133,
   "metadata": {},
   "outputs": [
    {
     "data": {
      "text/plain": [
       "array([[23, 23, 34],\n",
       "       [43, 54, 63]])"
      ]
     },
     "execution_count": 133,
     "metadata": {},
     "output_type": "execute_result"
    }
   ],
   "source": [
    "b = np.array([[23,23,34], [43,54,63]])\n",
    "b"
   ]
  },
  {
   "cell_type": "markdown",
   "metadata": {},
   "source": [
    "**`hstack`** \n",
    "<br> Stacks two arrays horizontally. The two arrays must have the same number of rows. "
   ]
  },
  {
   "cell_type": "code",
   "execution_count": 134,
   "metadata": {},
   "outputs": [
    {
     "data": {
      "text/plain": [
       "array([[ 1,  2,  3, 23, 23, 34],\n",
       "       [ 4,  5,  6, 43, 54, 63]])"
      ]
     },
     "execution_count": 134,
     "metadata": {},
     "output_type": "execute_result"
    }
   ],
   "source": [
    "c = np.hstack((a,b)) # c = [[a1, b1],[a2, b2], ... [an, bn]]\n",
    "c"
   ]
  },
  {
   "cell_type": "markdown",
   "metadata": {},
   "source": [
    "**`vstack`**\n",
    "<br> Stacks two arrays vertically. The two arrays must have the same number of columns."
   ]
  },
  {
   "cell_type": "code",
   "execution_count": 135,
   "metadata": {},
   "outputs": [
    {
     "data": {
      "text/plain": [
       "array([[ 1,  2,  3],\n",
       "       [ 4,  5,  6],\n",
       "       [23, 23, 34],\n",
       "       [43, 54, 63]])"
      ]
     },
     "execution_count": 135,
     "metadata": {},
     "output_type": "execute_result"
    }
   ],
   "source": [
    "d = np.vstack((a,b)) # d = [[a1], [a2], ... [an], [b1], [b2], ... [bn]]\n",
    "d"
   ]
  },
  {
   "cell_type": "markdown",
   "metadata": {},
   "source": [
    "Notes: *numpy array is not designed to dynamically add or remove items. If you need to expand or shrink your arrays consistently, it is better to represent the data using a normal Python list.*"
   ]
  },
  {
   "cell_type": "markdown",
   "metadata": {},
   "source": [
    "**`newaxis`**\n",
    "\n",
    "We can use `newaxis` to convert an array (vector) of size `n` into a 2-D array (matrix) of size `nx1`."
   ]
  },
  {
   "cell_type": "code",
   "execution_count": 136,
   "metadata": {},
   "outputs": [
    {
     "name": "stdout",
     "output_type": "stream",
     "text": [
      "[4 2]\n",
      "(2,)\n"
     ]
    }
   ],
   "source": [
    "a = np.array([4, 2])\n",
    "print(a)\n",
    "print(a.shape)"
   ]
  },
  {
   "cell_type": "code",
   "execution_count": 137,
   "metadata": {},
   "outputs": [
    {
     "name": "stdout",
     "output_type": "stream",
     "text": [
      "[[4]\n",
      " [2]]\n",
      "shape = (2, 1)\n"
     ]
    }
   ],
   "source": [
    "b = a[:, np.newaxis]\n",
    "print(b)\n",
    "print('shape =', b.shape)"
   ]
  },
  {
   "cell_type": "markdown",
   "metadata": {},
   "source": [
    "### Exercise 5\n",
    "\n",
    "**Q1.** Create the following matrix:\n",
    "\n",
    "```\n",
    "array([[0, 1, 2],\n",
    "       [3, 4, 5],\n",
    "       [6, 7, 8]])\n",
    "```\n",
    "Use the command `arange` and `reshape` to do this."
   ]
  },
  {
   "cell_type": "code",
   "execution_count": 138,
   "metadata": {},
   "outputs": [
    {
     "data": {
      "text/plain": [
       "array([[0, 1, 2],\n",
       "       [3, 4, 5],\n",
       "       [6, 7, 8]])"
      ]
     },
     "execution_count": 138,
     "metadata": {},
     "output_type": "execute_result"
    }
   ],
   "source": [
    "import numpy as np \n",
    "\n",
    "np.arange(9).reshape(3, 3)"
   ]
  },
  {
   "cell_type": "markdown",
   "metadata": {},
   "source": [
    "**Q2**. Create the matrix `a` as follows: generate a `10x10` matrix of zeros. Then, frame it with a border\n",
    "of ones."
   ]
  },
  {
   "cell_type": "code",
   "execution_count": 139,
   "metadata": {},
   "outputs": [
    {
     "name": "stdout",
     "output_type": "stream",
     "text": [
      "[[1. 1. 1. 1. 1. 1. 1. 1. 1. 1. 1. 1.]\n",
      " [1. 0. 0. 0. 0. 0. 0. 0. 0. 0. 0. 1.]\n",
      " [1. 0. 0. 0. 0. 0. 0. 0. 0. 0. 0. 1.]\n",
      " [1. 0. 0. 0. 0. 0. 0. 0. 0. 0. 0. 1.]\n",
      " [1. 0. 0. 0. 0. 0. 0. 0. 0. 0. 0. 1.]\n",
      " [1. 0. 0. 0. 0. 0. 0. 0. 0. 0. 0. 1.]\n",
      " [1. 0. 0. 0. 0. 0. 0. 0. 0. 0. 0. 1.]\n",
      " [1. 0. 0. 0. 0. 0. 0. 0. 0. 0. 0. 1.]\n",
      " [1. 0. 0. 0. 0. 0. 0. 0. 0. 0. 0. 1.]\n",
      " [1. 0. 0. 0. 0. 0. 0. 0. 0. 0. 0. 1.]\n",
      " [1. 0. 0. 0. 0. 0. 0. 0. 0. 0. 0. 1.]\n",
      " [1. 1. 1. 1. 1. 1. 1. 1. 1. 1. 1. 1.]]\n"
     ]
    }
   ],
   "source": [
    "import numpy as np \n",
    "\n",
    "a = np.zeros((10,10))\n",
    "vOne = np.ones((1, 10))\n",
    "hOne = np.ones((12, 1))\n",
    "print(np.hstack((hOne, np.vstack((vOne, a, vOne)), hOne)))"
   ]
  },
  {
   "cell_type": "markdown",
   "metadata": {},
   "source": [
    "**Q3.** Create a 8x8 matrix and the fill it with a checkerboard pattern. \n",
    "* First, create a zero matrix of size 8x8\n",
    "* Set the odd rows, even cols to 1 using slicing\n",
    "* Set the even rows, odd cols to 1 using slicing"
   ]
  },
  {
   "cell_type": "code",
   "execution_count": 140,
   "metadata": {},
   "outputs": [
    {
     "name": "stdout",
     "output_type": "stream",
     "text": [
      "[[0. 1. 0. 1. 0. 1. 0. 1.]\n",
      " [1. 0. 1. 0. 1. 0. 1. 0.]\n",
      " [0. 1. 0. 1. 0. 1. 0. 1.]\n",
      " [1. 0. 1. 0. 1. 0. 1. 0.]\n",
      " [0. 1. 0. 1. 0. 1. 0. 1.]\n",
      " [1. 0. 1. 0. 1. 0. 1. 0.]\n",
      " [0. 1. 0. 1. 0. 1. 0. 1.]\n",
      " [1. 0. 1. 0. 1. 0. 1. 0.]]\n"
     ]
    }
   ],
   "source": [
    "import numpy as np \n",
    "\n",
    "matrix = np.zeros((8, 8))\n",
    "matrix[0::2, 1::2] = 1      # Set odd rows (0, 2, 4, 6) and even cols (1, 3, 5, 7) to 1\n",
    "matrix[1::2, 0::2] = 1      # Set even rows (1, 3, 5, 7) and odd cols (0, 2, 4, 6) to 1\n",
    "print(matrix)"
   ]
  },
  {
   "cell_type": "markdown",
   "metadata": {},
   "source": [
    "## SECTION 7: ARRAY BROADCASTING\n",
    "\n",
    "By default, numpy performs element-wise operations. This requires the input arrays to be of the same shape. \n",
    "\n",
    "*When the input arrays have different shape*, it may perform **broadcasting** before carrying out the operation. Subject to certain constraints, the smaller array is \"broadcast\" across the larger array so that they have compatible shapes."
   ]
  },
  {
   "attachments": {
    "image.png": {
     "image/png": "[encoded data removed]"
    }
   },
   "cell_type": "markdown",
   "metadata": {},
   "source": [
    "#### 2-D array and scalar\n",
    "Let's take an example when we want multiply an array with a scalar:\n",
    "\n",
    "![image.png](attachment:image.png)"
   ]
  },
  {
   "cell_type": "code",
   "execution_count": 141,
   "metadata": {},
   "outputs": [
    {
     "data": {
      "text/plain": [
       "array([2, 4, 6])"
      ]
     },
     "execution_count": 141,
     "metadata": {},
     "output_type": "execute_result"
    }
   ],
   "source": [
    "a = np.array([1, 2, 3])\n",
    "b = 2\n",
    "a * b           "
   ]
  },
  {
   "cell_type": "markdown",
   "metadata": {},
   "source": [
    "Note that `numpy` does not actually stretches `b` to create a new array but is smart enough to use the original scalar value without actually making copies so that broadcasting operations are as memory and computationally efficient as possible. "
   ]
  },
  {
   "attachments": {
    "image.png": {
     "image/png": "[encoded data removed]"
    }
   },
   "cell_type": "markdown",
   "metadata": {},
   "source": [
    "#### 2-D array and 1-D array\n",
    "\n",
    "Now, let's try to add a 2-D array with a 1-D array. If the size of the last dimension of the 2-D array is the same as the number of items in 1-D array, then numpy will peform broadcasting by default. \n",
    "\n",
    "In the following example, \n",
    "\n",
    "![image.png](attachment:image.png)\n",
    "\n",
    "Note that the shape of `a` is (4, 3) and the shape of `b` is (3,). Since the size of last dimension (i.e., 3) is the same as the number of items in `b`, numpy will broadcast `b` to be added to each row of `a`.  "
   ]
  },
  {
   "cell_type": "code",
   "execution_count": 142,
   "metadata": {},
   "outputs": [
    {
     "data": {
      "text/plain": [
       "array([[ 0,  1,  2],\n",
       "       [10, 11, 12],\n",
       "       [20, 21, 22],\n",
       "       [30, 31, 32]])"
      ]
     },
     "execution_count": 142,
     "metadata": {},
     "output_type": "execute_result"
    }
   ],
   "source": [
    "a = np.array([[ 0,  0,  0],\n",
    "           [10, 10, 10],\n",
    "           [20, 20, 20],\n",
    "           [30, 30, 30]])\n",
    "\n",
    "b = np.array([0, 1, 2])\n",
    "a + b"
   ]
  },
  {
   "attachments": {
    "image.png": {
     "image/png": "[encoded data removed]"
    }
   },
   "cell_type": "markdown",
   "metadata": {},
   "source": [
    "For broadcasting to work, the number of dimensions must be consistent, i.e., the size of the last dimension of the 2-D array must be the same as the number of elements in the 1-D array.\n",
    "\n",
    "![image.png](attachment:image.png)"
   ]
  },
  {
   "attachments": {
    "image.png": {
     "image/png": "[encoded data removed]"
    }
   },
   "cell_type": "markdown",
   "metadata": {},
   "source": [
    "**2-D Array and 2-D Array**\n",
    "\n",
    "If you want to broadcast the *column-wise addition* of a matrix of shape (4,3) with a vector (4,), ensure that you convert the vector into a 2-D array of shape (4, 1) to align the dimensions. Numpy will then broadcast the operation across all columns.\n",
    "\n",
    "![image.png](attachment:image.png)"
   ]
  },
  {
   "cell_type": "code",
   "execution_count": 143,
   "metadata": {},
   "outputs": [
    {
     "name": "stdout",
     "output_type": "stream",
     "text": [
      "[[ 0  0  0]\n",
      " [10 10 10]\n",
      " [20 20 20]\n",
      " [30 30 30]]\n",
      "\n",
      "[[ 0]\n",
      " [10]\n",
      " [20]\n",
      " [30]]\n"
     ]
    },
    {
     "data": {
      "text/plain": [
       "array([[ 0,  0,  0],\n",
       "       [20, 20, 20],\n",
       "       [40, 40, 40],\n",
       "       [60, 60, 60]])"
      ]
     },
     "execution_count": 143,
     "metadata": {},
     "output_type": "execute_result"
    }
   ],
   "source": [
    "a = np.array([[ 0,  0,  0],\n",
    "           [10, 10, 10],\n",
    "           [20, 20, 20],\n",
    "           [30, 30, 30]])\n",
    "print(a)\n",
    "\n",
    "b = np.array([0, 10, 20, 30]).reshape(-1, 1)\n",
    "print()\n",
    "print(b)\n",
    "\n",
    "a + b"
   ]
  },
  {
   "cell_type": "markdown",
   "metadata": {},
   "source": [
    "### Exercise 6\n",
    "\n",
    "**Q1.** Randomly generate a matrix of size (5, 3). Normalize the *columns* such that the sum of each column is equal to 1. Use broadcasting in your code to simplify your task. "
   ]
  },
  {
   "cell_type": "code",
   "execution_count": 144,
   "metadata": {},
   "outputs": [
    {
     "name": "stdout",
     "output_type": "stream",
     "text": [
      "Original matrix: \n",
      "[[0.417411   0.22210781 0.11986537]\n",
      " [0.33761517 0.9429097  0.32320293]\n",
      " [0.51879062 0.70301896 0.3636296 ]\n",
      " [0.97178208 0.96244729 0.2517823 ]\n",
      " [0.49724851 0.30087831 0.28484049]] \n",
      "\n",
      "Normalised matrix: \n",
      "[[0.15218164 0.0709301  0.08923064]\n",
      " [0.1230893  0.30111807 0.24059998]\n",
      " [0.18914309 0.224509   0.27069456]\n",
      " [0.35429681 0.3073574  0.18743275]\n",
      " [0.18128916 0.09608544 0.21204207]] \n",
      "\n"
     ]
    }
   ],
   "source": [
    "import numpy as np \n",
    "\n",
    "matrix = np.random.random((5, 3))\n",
    "col_sum = np.sum(matrix, axis=0)\n",
    "print(f\"Original matrix: \\n{matrix} \\n\")\n",
    "print(f\"Normalised matrix: \\n{matrix/col_sum} \\n\")"
   ]
  }
 ],
 "metadata": {
  "kernelspec": {
   "display_name": "env",
   "language": "python",
   "name": "python3"
  },
  "language_info": {
   "codemirror_mode": {
    "name": "ipython",
    "version": 3
   },
   "file_extension": ".py",
   "mimetype": "text/x-python",
   "name": "python",
   "nbconvert_exporter": "python",
   "pygments_lexer": "ipython3",
   "version": "3.13.5"
  }
 },
 "nbformat": 4,
 "nbformat_minor": 2
}
